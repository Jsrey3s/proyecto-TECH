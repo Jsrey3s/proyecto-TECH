{
 "cells": [
  {
   "cell_type": "markdown",
   "id": "c8ea1d91",
   "metadata": {},
   "source": [
    "# ANÁLISIS DE TENDENCIAS TEMPORALES"
   ]
  },
  {
   "cell_type": "markdown",
   "id": "9de1d91e",
   "metadata": {},
   "source": [
    "__Variables:__ FECH, FOBDOL"
   ]
  },
  {
   "cell_type": "markdown",
   "id": "2351d991",
   "metadata": {},
   "source": [
    "1. __FECH__ - Fecha del proceso (AÑO, MES)\n",
    "2. __FOBDOL__ - Valor FOB en dólares"
   ]
  },
  {
   "cell_type": "markdown",
   "id": "147a25e2",
   "metadata": {},
   "source": [
    ">\"El valor FOB en dólares muestra cuánto valen las exportaciones al momento de salir del país. Este monto incluye todos los gastos necesarios para llevar la mercancía hasta el puerto y cargarla al barco o avión, como la producción, el empaque y el transporte interno. Sin embargo, no toma en cuenta el costo del seguro ni el transporte internacional hasta el destino final. Por eso, el FOB sirve para comparar el valor de los productos exportados de forma estándar y consistente entre diferentes períodos y destinos.\""
   ]
  },
  {
   "cell_type": "code",
   "execution_count": 30,
   "id": "a39268e0",
   "metadata": {},
   "outputs": [],
   "source": [
    "import sys\n",
    "sys.path.append('..')\n",
    "from utils.paths import get_file_path\n",
    "\n",
    "from scipy import stats\n",
    "import polars as pl\n",
    "import numpy as np\n",
    "import plotly.graph_objects as go\n",
    "import plotly.express as px\n",
    "import calendar"
   ]
  },
  {
   "cell_type": "code",
   "execution_count": 31,
   "id": "86cd7651",
   "metadata": {},
   "outputs": [],
   "source": [
    "def estilo(fig):\n",
    "    fig.update_layout(\n",
    "        title_font=dict(size=24, family=\"Arial\", color=\"black\"),\n",
    "        xaxis_tickfont=dict(size=12),\n",
    "        yaxis_tickfont=dict(size=12),\n",
    "        plot_bgcolor=\"white\",\n",
    "        paper_bgcolor=\"white\",\n",
    "        showlegend=False,\n",
    "        margin=dict(t=80, l=40, r=20, b=120),\n",
    "    )\n",
    "    \n",
    "    return fig"
   ]
  },
  {
   "cell_type": "code",
   "execution_count": 32,
   "id": "21cc98d6",
   "metadata": {},
   "outputs": [],
   "source": [
    "df = pl.scan_csv(\n",
    "    get_file_path('cleaned', 'exportaciones'),\n",
    "    low_memory=True\n",
    ").collect()"
   ]
  },
  {
   "cell_type": "markdown",
   "id": "5c9fab4f",
   "metadata": {},
   "source": [
    "## Análisis específicos"
   ]
  },
  {
   "cell_type": "markdown",
   "id": "31f69b20",
   "metadata": {},
   "source": [
    "### Serie de tiempo mensual"
   ]
  },
  {
   "cell_type": "code",
   "execution_count": 33,
   "id": "a75e9dde",
   "metadata": {},
   "outputs": [],
   "source": [
    "serie_mensual = df.group_by(\"FECH\").agg(pl.col(\"FOBDOL\").sum()).sort(\"FECH\")"
   ]
  },
  {
   "cell_type": "code",
   "execution_count": 34,
   "id": "3ae7e5e2",
   "metadata": {},
   "outputs": [
    {
     "data": {
      "application/vnd.plotly.v1+json": {
       "config": {
        "plotlyServerURL": "https://plot.ly"
       },
       "data": [
        {
         "hovertemplate": "AÑO - MES=%{x}<br>FOB Dólares=%{y}<extra></extra>",
         "legendgroup": "",
         "line": {
          "color": "#636efa",
          "dash": "solid"
         },
         "marker": {
          "symbol": "circle"
         },
         "mode": "lines",
         "name": "",
         "orientation": "v",
         "showlegend": false,
         "type": "scatter",
         "x": [
          "2004-01",
          "2004-02",
          "2004-03",
          "2004-04",
          "2004-05",
          "2004-06",
          "2004-07",
          "2004-08",
          "2004-09",
          "2004-10",
          "2004-11",
          "2004-12",
          "2005-01",
          "2005-02",
          "2005-03",
          "2005-04",
          "2005-05",
          "2005-06",
          "2005-07",
          "2005-08",
          "2005-09",
          "2005-10",
          "2005-11",
          "2005-12",
          "2006-01",
          "2006-02",
          "2006-03",
          "2006-04",
          "2006-05",
          "2006-06",
          "2006-07",
          "2006-08",
          "2006-09",
          "2006-10",
          "2006-11",
          "2006-12",
          "2007-01",
          "2007-02",
          "2007-03",
          "2007-04",
          "2007-05",
          "2007-06",
          "2007-07",
          "2007-08",
          "2007-09",
          "2007-10",
          "2007-11",
          "2007-12",
          "2008-01",
          "2008-02",
          "2008-03",
          "2008-04",
          "2008-05",
          "2008-06",
          "2008-07",
          "2008-08",
          "2008-09",
          "2008-10",
          "2008-11",
          "2008-12",
          "2009-01",
          "2009-02",
          "2009-03",
          "2009-04",
          "2009-05",
          "2009-06",
          "2009-07",
          "2009-08",
          "2009-09",
          "2009-10",
          "2009-11",
          "2009-12",
          "2010-01",
          "2010-02",
          "2010-03",
          "2010-04",
          "2010-05",
          "2010-06",
          "2010-07",
          "2010-08",
          "2010-09",
          "2010-10",
          "2010-11",
          "2010-12",
          "2011-01",
          "2011-02",
          "2011-03",
          "2011-04",
          "2011-05",
          "2011-06",
          "2011-07",
          "2011-08",
          "2011-09",
          "2011-10",
          "2011-11",
          "2011-12",
          "2012-01",
          "2012-02",
          "2012-03",
          "2012-04",
          "2012-05",
          "2012-06",
          "2012-07",
          "2012-08",
          "2012-09",
          "2012-10",
          "2012-11",
          "2012-12",
          "2013-01",
          "2013-02",
          "2013-03",
          "2013-04",
          "2013-05",
          "2013-06",
          "2013-07",
          "2013-08",
          "2013-09",
          "2013-10",
          "2013-11",
          "2013-12",
          "2014-01",
          "2014-02",
          "2014-03",
          "2014-04",
          "2014-05",
          "2014-06",
          "2014-07",
          "2014-08",
          "2014-09",
          "2014-10",
          "2014-11",
          "2014-12",
          "2015-01",
          "2015-02",
          "2015-03",
          "2015-04",
          "2015-05",
          "2015-06",
          "2015-07",
          "2015-08",
          "2015-09",
          "2015-10",
          "2015-11",
          "2015-12",
          "2016-01",
          "2016-02",
          "2016-03",
          "2016-04",
          "2016-05",
          "2016-06",
          "2016-07",
          "2016-08",
          "2016-09",
          "2016-10",
          "2016-11",
          "2016-12",
          "2017-01",
          "2017-02",
          "2017-03",
          "2017-04",
          "2017-05",
          "2017-06",
          "2017-07",
          "2017-08",
          "2017-09",
          "2017-10",
          "2017-11",
          "2017-12",
          "2018-01",
          "2018-02",
          "2018-03",
          "2018-04",
          "2018-05",
          "2018-06",
          "2018-07",
          "2018-08",
          "2018-09",
          "2018-10",
          "2018-11",
          "2018-12",
          "2019-01",
          "2019-02",
          "2019-03",
          "2019-04",
          "2019-05",
          "2019-06",
          "2019-07",
          "2019-08",
          "2019-09",
          "2019-10",
          "2019-11",
          "2019-12",
          "2020-01",
          "2020-02",
          "2020-03",
          "2020-04",
          "2020-05",
          "2020-06",
          "2020-07",
          "2020-08",
          "2020-09",
          "2020-10",
          "2020-11",
          "2020-12",
          "2021-01",
          "2021-02",
          "2021-03",
          "2021-04",
          "2021-05",
          "2021-06",
          "2021-07",
          "2021-08",
          "2021-09",
          "2021-10",
          "2021-11",
          "2021-12",
          "2022-01",
          "2022-02",
          "2022-03",
          "2022-04",
          "2022-05",
          "2022-06",
          "2022-07",
          "2022-08",
          "2022-09",
          "2022-10",
          "2022-11",
          "2022-12",
          "2023-01",
          "2023-02",
          "2023-03",
          "2023-04",
          "2023-05",
          "2023-06",
          "2023-07",
          "2023-08",
          "2023-09",
          "2023-10",
          "2023-11",
          "2023-12",
          "2024-01",
          "2024-02",
          "2024-03",
          "2024-04",
          "2024-05",
          "2024-06",
          "2024-07",
          "2024-08",
          "2024-09",
          "2024-10",
          "2024-11",
          "2024-12"
         ],
         "xaxis": "x",
         "y": {
          "bdata": "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",
          "dtype": "f8"
         },
         "yaxis": "y"
        }
       ],
       "layout": {
        "legend": {
         "tracegroupgap": 0
        },
        "margin": {
         "b": 120,
         "l": 40,
         "r": 20,
         "t": 80
        },
        "paper_bgcolor": "white",
        "plot_bgcolor": "white",
        "showlegend": false,
        "template": {
         "data": {
          "bar": [
           {
            "error_x": {
             "color": "#2a3f5f"
            },
            "error_y": {
             "color": "#2a3f5f"
            },
            "marker": {
             "line": {
              "color": "#E5ECF6",
              "width": 0.5
             },
             "pattern": {
              "fillmode": "overlay",
              "size": 10,
              "solidity": 0.2
             }
            },
            "type": "bar"
           }
          ],
          "barpolar": [
           {
            "marker": {
             "line": {
              "color": "#E5ECF6",
              "width": 0.5
             },
             "pattern": {
              "fillmode": "overlay",
              "size": 10,
              "solidity": 0.2
             }
            },
            "type": "barpolar"
           }
          ],
          "carpet": [
           {
            "aaxis": {
             "endlinecolor": "#2a3f5f",
             "gridcolor": "white",
             "linecolor": "white",
             "minorgridcolor": "white",
             "startlinecolor": "#2a3f5f"
            },
            "baxis": {
             "endlinecolor": "#2a3f5f",
             "gridcolor": "white",
             "linecolor": "white",
             "minorgridcolor": "white",
             "startlinecolor": "#2a3f5f"
            },
            "type": "carpet"
           }
          ],
          "choropleth": [
           {
            "colorbar": {
             "outlinewidth": 0,
             "ticks": ""
            },
            "type": "choropleth"
           }
          ],
          "contour": [
           {
            "colorbar": {
             "outlinewidth": 0,
             "ticks": ""
            },
            "colorscale": [
             [
              0,
              "#0d0887"
             ],
             [
              0.1111111111111111,
              "#46039f"
             ],
             [
              0.2222222222222222,
              "#7201a8"
             ],
             [
              0.3333333333333333,
              "#9c179e"
             ],
             [
              0.4444444444444444,
              "#bd3786"
             ],
             [
              0.5555555555555556,
              "#d8576b"
             ],
             [
              0.6666666666666666,
              "#ed7953"
             ],
             [
              0.7777777777777778,
              "#fb9f3a"
             ],
             [
              0.8888888888888888,
              "#fdca26"
             ],
             [
              1,
              "#f0f921"
             ]
            ],
            "type": "contour"
           }
          ],
          "contourcarpet": [
           {
            "colorbar": {
             "outlinewidth": 0,
             "ticks": ""
            },
            "type": "contourcarpet"
           }
          ],
          "heatmap": [
           {
            "colorbar": {
             "outlinewidth": 0,
             "ticks": ""
            },
            "colorscale": [
             [
              0,
              "#0d0887"
             ],
             [
              0.1111111111111111,
              "#46039f"
             ],
             [
              0.2222222222222222,
              "#7201a8"
             ],
             [
              0.3333333333333333,
              "#9c179e"
             ],
             [
              0.4444444444444444,
              "#bd3786"
             ],
             [
              0.5555555555555556,
              "#d8576b"
             ],
             [
              0.6666666666666666,
              "#ed7953"
             ],
             [
              0.7777777777777778,
              "#fb9f3a"
             ],
             [
              0.8888888888888888,
              "#fdca26"
             ],
             [
              1,
              "#f0f921"
             ]
            ],
            "type": "heatmap"
           }
          ],
          "histogram": [
           {
            "marker": {
             "pattern": {
              "fillmode": "overlay",
              "size": 10,
              "solidity": 0.2
             }
            },
            "type": "histogram"
           }
          ],
          "histogram2d": [
           {
            "colorbar": {
             "outlinewidth": 0,
             "ticks": ""
            },
            "colorscale": [
             [
              0,
              "#0d0887"
             ],
             [
              0.1111111111111111,
              "#46039f"
             ],
             [
              0.2222222222222222,
              "#7201a8"
             ],
             [
              0.3333333333333333,
              "#9c179e"
             ],
             [
              0.4444444444444444,
              "#bd3786"
             ],
             [
              0.5555555555555556,
              "#d8576b"
             ],
             [
              0.6666666666666666,
              "#ed7953"
             ],
             [
              0.7777777777777778,
              "#fb9f3a"
             ],
             [
              0.8888888888888888,
              "#fdca26"
             ],
             [
              1,
              "#f0f921"
             ]
            ],
            "type": "histogram2d"
           }
          ],
          "histogram2dcontour": [
           {
            "colorbar": {
             "outlinewidth": 0,
             "ticks": ""
            },
            "colorscale": [
             [
              0,
              "#0d0887"
             ],
             [
              0.1111111111111111,
              "#46039f"
             ],
             [
              0.2222222222222222,
              "#7201a8"
             ],
             [
              0.3333333333333333,
              "#9c179e"
             ],
             [
              0.4444444444444444,
              "#bd3786"
             ],
             [
              0.5555555555555556,
              "#d8576b"
             ],
             [
              0.6666666666666666,
              "#ed7953"
             ],
             [
              0.7777777777777778,
              "#fb9f3a"
             ],
             [
              0.8888888888888888,
              "#fdca26"
             ],
             [
              1,
              "#f0f921"
             ]
            ],
            "type": "histogram2dcontour"
           }
          ],
          "mesh3d": [
           {
            "colorbar": {
             "outlinewidth": 0,
             "ticks": ""
            },
            "type": "mesh3d"
           }
          ],
          "parcoords": [
           {
            "line": {
             "colorbar": {
              "outlinewidth": 0,
              "ticks": ""
             }
            },
            "type": "parcoords"
           }
          ],
          "pie": [
           {
            "automargin": true,
            "type": "pie"
           }
          ],
          "scatter": [
           {
            "fillpattern": {
             "fillmode": "overlay",
             "size": 10,
             "solidity": 0.2
            },
            "type": "scatter"
           }
          ],
          "scatter3d": [
           {
            "line": {
             "colorbar": {
              "outlinewidth": 0,
              "ticks": ""
             }
            },
            "marker": {
             "colorbar": {
              "outlinewidth": 0,
              "ticks": ""
             }
            },
            "type": "scatter3d"
           }
          ],
          "scattercarpet": [
           {
            "marker": {
             "colorbar": {
              "outlinewidth": 0,
              "ticks": ""
             }
            },
            "type": "scattercarpet"
           }
          ],
          "scattergeo": [
           {
            "marker": {
             "colorbar": {
              "outlinewidth": 0,
              "ticks": ""
             }
            },
            "type": "scattergeo"
           }
          ],
          "scattergl": [
           {
            "marker": {
             "colorbar": {
              "outlinewidth": 0,
              "ticks": ""
             }
            },
            "type": "scattergl"
           }
          ],
          "scattermap": [
           {
            "marker": {
             "colorbar": {
              "outlinewidth": 0,
              "ticks": ""
             }
            },
            "type": "scattermap"
           }
          ],
          "scattermapbox": [
           {
            "marker": {
             "colorbar": {
              "outlinewidth": 0,
              "ticks": ""
             }
            },
            "type": "scattermapbox"
           }
          ],
          "scatterpolar": [
           {
            "marker": {
             "colorbar": {
              "outlinewidth": 0,
              "ticks": ""
             }
            },
            "type": "scatterpolar"
           }
          ],
          "scatterpolargl": [
           {
            "marker": {
             "colorbar": {
              "outlinewidth": 0,
              "ticks": ""
             }
            },
            "type": "scatterpolargl"
           }
          ],
          "scatterternary": [
           {
            "marker": {
             "colorbar": {
              "outlinewidth": 0,
              "ticks": ""
             }
            },
            "type": "scatterternary"
           }
          ],
          "surface": [
           {
            "colorbar": {
             "outlinewidth": 0,
             "ticks": ""
            },
            "colorscale": [
             [
              0,
              "#0d0887"
             ],
             [
              0.1111111111111111,
              "#46039f"
             ],
             [
              0.2222222222222222,
              "#7201a8"
             ],
             [
              0.3333333333333333,
              "#9c179e"
             ],
             [
              0.4444444444444444,
              "#bd3786"
             ],
             [
              0.5555555555555556,
              "#d8576b"
             ],
             [
              0.6666666666666666,
              "#ed7953"
             ],
             [
              0.7777777777777778,
              "#fb9f3a"
             ],
             [
              0.8888888888888888,
              "#fdca26"
             ],
             [
              1,
              "#f0f921"
             ]
            ],
            "type": "surface"
           }
          ],
          "table": [
           {
            "cells": {
             "fill": {
              "color": "#EBF0F8"
             },
             "line": {
              "color": "white"
             }
            },
            "header": {
             "fill": {
              "color": "#C8D4E3"
             },
             "line": {
              "color": "white"
             }
            },
            "type": "table"
           }
          ]
         },
         "layout": {
          "annotationdefaults": {
           "arrowcolor": "#2a3f5f",
           "arrowhead": 0,
           "arrowwidth": 1
          },
          "autotypenumbers": "strict",
          "coloraxis": {
           "colorbar": {
            "outlinewidth": 0,
            "ticks": ""
           }
          },
          "colorscale": {
           "diverging": [
            [
             0,
             "#8e0152"
            ],
            [
             0.1,
             "#c51b7d"
            ],
            [
             0.2,
             "#de77ae"
            ],
            [
             0.3,
             "#f1b6da"
            ],
            [
             0.4,
             "#fde0ef"
            ],
            [
             0.5,
             "#f7f7f7"
            ],
            [
             0.6,
             "#e6f5d0"
            ],
            [
             0.7,
             "#b8e186"
            ],
            [
             0.8,
             "#7fbc41"
            ],
            [
             0.9,
             "#4d9221"
            ],
            [
             1,
             "#276419"
            ]
           ],
           "sequential": [
            [
             0,
             "#0d0887"
            ],
            [
             0.1111111111111111,
             "#46039f"
            ],
            [
             0.2222222222222222,
             "#7201a8"
            ],
            [
             0.3333333333333333,
             "#9c179e"
            ],
            [
             0.4444444444444444,
             "#bd3786"
            ],
            [
             0.5555555555555556,
             "#d8576b"
            ],
            [
             0.6666666666666666,
             "#ed7953"
            ],
            [
             0.7777777777777778,
             "#fb9f3a"
            ],
            [
             0.8888888888888888,
             "#fdca26"
            ],
            [
             1,
             "#f0f921"
            ]
           ],
           "sequentialminus": [
            [
             0,
             "#0d0887"
            ],
            [
             0.1111111111111111,
             "#46039f"
            ],
            [
             0.2222222222222222,
             "#7201a8"
            ],
            [
             0.3333333333333333,
             "#9c179e"
            ],
            [
             0.4444444444444444,
             "#bd3786"
            ],
            [
             0.5555555555555556,
             "#d8576b"
            ],
            [
             0.6666666666666666,
             "#ed7953"
            ],
            [
             0.7777777777777778,
             "#fb9f3a"
            ],
            [
             0.8888888888888888,
             "#fdca26"
            ],
            [
             1,
             "#f0f921"
            ]
           ]
          },
          "colorway": [
           "#636efa",
           "#EF553B",
           "#00cc96",
           "#ab63fa",
           "#FFA15A",
           "#19d3f3",
           "#FF6692",
           "#B6E880",
           "#FF97FF",
           "#FECB52"
          ],
          "font": {
           "color": "#2a3f5f"
          },
          "geo": {
           "bgcolor": "white",
           "lakecolor": "white",
           "landcolor": "#E5ECF6",
           "showlakes": true,
           "showland": true,
           "subunitcolor": "white"
          },
          "hoverlabel": {
           "align": "left"
          },
          "hovermode": "closest",
          "mapbox": {
           "style": "light"
          },
          "paper_bgcolor": "white",
          "plot_bgcolor": "#E5ECF6",
          "polar": {
           "angularaxis": {
            "gridcolor": "white",
            "linecolor": "white",
            "ticks": ""
           },
           "bgcolor": "#E5ECF6",
           "radialaxis": {
            "gridcolor": "white",
            "linecolor": "white",
            "ticks": ""
           }
          },
          "scene": {
           "xaxis": {
            "backgroundcolor": "#E5ECF6",
            "gridcolor": "white",
            "gridwidth": 2,
            "linecolor": "white",
            "showbackground": true,
            "ticks": "",
            "zerolinecolor": "white"
           },
           "yaxis": {
            "backgroundcolor": "#E5ECF6",
            "gridcolor": "white",
            "gridwidth": 2,
            "linecolor": "white",
            "showbackground": true,
            "ticks": "",
            "zerolinecolor": "white"
           },
           "zaxis": {
            "backgroundcolor": "#E5ECF6",
            "gridcolor": "white",
            "gridwidth": 2,
            "linecolor": "white",
            "showbackground": true,
            "ticks": "",
            "zerolinecolor": "white"
           }
          },
          "shapedefaults": {
           "line": {
            "color": "#2a3f5f"
           }
          },
          "ternary": {
           "aaxis": {
            "gridcolor": "white",
            "linecolor": "white",
            "ticks": ""
           },
           "baxis": {
            "gridcolor": "white",
            "linecolor": "white",
            "ticks": ""
           },
           "bgcolor": "#E5ECF6",
           "caxis": {
            "gridcolor": "white",
            "linecolor": "white",
            "ticks": ""
           }
          },
          "title": {
           "x": 0.05
          },
          "xaxis": {
           "automargin": true,
           "gridcolor": "white",
           "linecolor": "white",
           "ticks": "",
           "title": {
            "standoff": 15
           },
           "zerolinecolor": "white",
           "zerolinewidth": 2
          },
          "yaxis": {
           "automargin": true,
           "gridcolor": "white",
           "linecolor": "white",
           "ticks": "",
           "title": {
            "standoff": 15
           },
           "zerolinecolor": "white",
           "zerolinewidth": 2
          }
         }
        },
        "title": {
         "font": {
          "color": "black",
          "family": "Arial",
          "size": 24
         },
         "text": "Serie de tiempo mensual"
        },
        "xaxis": {
         "anchor": "y",
         "domain": [
          0,
          1
         ],
         "dtick": "M12",
         "tickangle": 45,
         "tickfont": {
          "size": 12
         },
         "tickformat": "%Y-%m",
         "title": {
          "text": "AÑO - MES"
         }
        },
        "yaxis": {
         "anchor": "x",
         "domain": [
          0,
          1
         ],
         "tickfont": {
          "size": 12
         },
         "title": {
          "text": "FOB Dólares"
         }
        }
       }
      }
     },
     "metadata": {},
     "output_type": "display_data"
    }
   ],
   "source": [
    "fig = px.line(serie_mensual,\n",
    "              x='FECH',\n",
    "              y='FOBDOL',\n",
    "              title='Serie de tiempo mensual',\n",
    "              labels={\"FECH\": \"AÑO - MES\", \"FOBDOL\": \"FOB Dólares\"},\n",
    "              )\n",
    "fig = estilo(fig)\n",
    "fig.update_layout(xaxis_tickangle=45)\n",
    "fig.update_xaxes(\n",
    "    tickformat=\"%Y-%m\",\n",
    "    dtick=\"M12\"\n",
    ")\n",
    "fig.show()"
   ]
  },
  {
   "cell_type": "markdown",
   "id": "c3243724",
   "metadata": {},
   "source": [
    "###### *__Finalidad:__ Mostrar la evolución detallada del valor mensual de las exportaciones a lo largo del tiempo, permitiendo identificar picos, caídas y cambios mes a mes.*"
   ]
  },
  {
   "cell_type": "markdown",
   "id": "e631ae3a",
   "metadata": {},
   "source": [
    "### Distribución Mensual de los valores FOBDOL por Año"
   ]
  },
  {
   "cell_type": "code",
   "execution_count": 35,
   "id": "47ce3641",
   "metadata": {},
   "outputs": [],
   "source": [
    "serie_heatmap = (\n",
    "    df.with_columns([\n",
    "        pl.col(\"AÑO\"),\n",
    "        pl.col(\"MES\")\n",
    "    ])\n",
    "    .group_by([\"AÑO\", \"MES\"])\n",
    "    .agg(pl.col(\"FOBDOL\").sum().alias(\"FOBDOL\"))\n",
    "    .sort([\"AÑO\", \"MES\"])\n",
    ")"
   ]
  },
  {
   "cell_type": "code",
   "execution_count": 36,
   "id": "3b126f92",
   "metadata": {},
   "outputs": [],
   "source": [
    "serie_heatmap = serie_heatmap.to_pandas()"
   ]
  },
  {
   "cell_type": "code",
   "execution_count": 37,
   "id": "92f974f3",
   "metadata": {},
   "outputs": [],
   "source": [
    "pivot_table = serie_heatmap.pivot(index=\"AÑO\", columns=\"MES\", values=\"FOBDOL\")"
   ]
  },
  {
   "cell_type": "code",
   "execution_count": 38,
   "id": "2ed94add",
   "metadata": {},
   "outputs": [
    {
     "data": {
      "application/vnd.plotly.v1+json": {
       "config": {
        "plotlyServerURL": "https://plot.ly"
       },
       "data": [
        {
         "colorbar": {
          "tickformat": ".2f",
          "tickmode": "auto",
          "ticks": "outside",
          "title": {
           "text": "Fobdol"
          }
         },
         "colorscale": [
          [
           0,
           "rgb(255,255,217)"
          ],
          [
           0.125,
           "rgb(237,248,177)"
          ],
          [
           0.25,
           "rgb(199,233,180)"
          ],
          [
           0.375,
           "rgb(127,205,187)"
          ],
          [
           0.5,
           "rgb(65,182,196)"
          ],
          [
           0.625,
           "rgb(29,145,192)"
          ],
          [
           0.75,
           "rgb(34,94,168)"
          ],
          [
           0.875,
           "rgb(37,52,148)"
          ],
          [
           1,
           "rgb(8,29,88)"
          ]
         ],
         "hovertemplate": "<b>Año:</b> %{y}<br><b>Mes:</b> %{x}<br><b>FOBDOL:</b> %{z:$,.2f}<extra></extra>",
         "type": "heatmap",
         "x": [
          "Jan",
          "Feb",
          "Mar",
          "Apr",
          "May",
          "Jun",
          "Jul",
          "Aug",
          "Sep",
          "Oct",
          "Nov",
          "Dec"
         ],
         "y": {
          "bdata": "1AfVB9YH1wfYB9kH2gfbB9wH3QfeB98H4AfhB+IH4wfkB+UH5gfnB+gH",
          "dtype": "i2"
         },
         "z": {
          "bdata": "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",
          "dtype": "f8",
          "shape": "21, 12"
         }
        }
       ],
       "layout": {
        "paper_bgcolor": "white",
        "plot_bgcolor": "white",
        "template": {
         "data": {
          "bar": [
           {
            "error_x": {
             "color": "#2a3f5f"
            },
            "error_y": {
             "color": "#2a3f5f"
            },
            "marker": {
             "line": {
              "color": "#E5ECF6",
              "width": 0.5
             },
             "pattern": {
              "fillmode": "overlay",
              "size": 10,
              "solidity": 0.2
             }
            },
            "type": "bar"
           }
          ],
          "barpolar": [
           {
            "marker": {
             "line": {
              "color": "#E5ECF6",
              "width": 0.5
             },
             "pattern": {
              "fillmode": "overlay",
              "size": 10,
              "solidity": 0.2
             }
            },
            "type": "barpolar"
           }
          ],
          "carpet": [
           {
            "aaxis": {
             "endlinecolor": "#2a3f5f",
             "gridcolor": "white",
             "linecolor": "white",
             "minorgridcolor": "white",
             "startlinecolor": "#2a3f5f"
            },
            "baxis": {
             "endlinecolor": "#2a3f5f",
             "gridcolor": "white",
             "linecolor": "white",
             "minorgridcolor": "white",
             "startlinecolor": "#2a3f5f"
            },
            "type": "carpet"
           }
          ],
          "choropleth": [
           {
            "colorbar": {
             "outlinewidth": 0,
             "ticks": ""
            },
            "type": "choropleth"
           }
          ],
          "contour": [
           {
            "colorbar": {
             "outlinewidth": 0,
             "ticks": ""
            },
            "colorscale": [
             [
              0,
              "#0d0887"
             ],
             [
              0.1111111111111111,
              "#46039f"
             ],
             [
              0.2222222222222222,
              "#7201a8"
             ],
             [
              0.3333333333333333,
              "#9c179e"
             ],
             [
              0.4444444444444444,
              "#bd3786"
             ],
             [
              0.5555555555555556,
              "#d8576b"
             ],
             [
              0.6666666666666666,
              "#ed7953"
             ],
             [
              0.7777777777777778,
              "#fb9f3a"
             ],
             [
              0.8888888888888888,
              "#fdca26"
             ],
             [
              1,
              "#f0f921"
             ]
            ],
            "type": "contour"
           }
          ],
          "contourcarpet": [
           {
            "colorbar": {
             "outlinewidth": 0,
             "ticks": ""
            },
            "type": "contourcarpet"
           }
          ],
          "heatmap": [
           {
            "colorbar": {
             "outlinewidth": 0,
             "ticks": ""
            },
            "colorscale": [
             [
              0,
              "#0d0887"
             ],
             [
              0.1111111111111111,
              "#46039f"
             ],
             [
              0.2222222222222222,
              "#7201a8"
             ],
             [
              0.3333333333333333,
              "#9c179e"
             ],
             [
              0.4444444444444444,
              "#bd3786"
             ],
             [
              0.5555555555555556,
              "#d8576b"
             ],
             [
              0.6666666666666666,
              "#ed7953"
             ],
             [
              0.7777777777777778,
              "#fb9f3a"
             ],
             [
              0.8888888888888888,
              "#fdca26"
             ],
             [
              1,
              "#f0f921"
             ]
            ],
            "type": "heatmap"
           }
          ],
          "histogram": [
           {
            "marker": {
             "pattern": {
              "fillmode": "overlay",
              "size": 10,
              "solidity": 0.2
             }
            },
            "type": "histogram"
           }
          ],
          "histogram2d": [
           {
            "colorbar": {
             "outlinewidth": 0,
             "ticks": ""
            },
            "colorscale": [
             [
              0,
              "#0d0887"
             ],
             [
              0.1111111111111111,
              "#46039f"
             ],
             [
              0.2222222222222222,
              "#7201a8"
             ],
             [
              0.3333333333333333,
              "#9c179e"
             ],
             [
              0.4444444444444444,
              "#bd3786"
             ],
             [
              0.5555555555555556,
              "#d8576b"
             ],
             [
              0.6666666666666666,
              "#ed7953"
             ],
             [
              0.7777777777777778,
              "#fb9f3a"
             ],
             [
              0.8888888888888888,
              "#fdca26"
             ],
             [
              1,
              "#f0f921"
             ]
            ],
            "type": "histogram2d"
           }
          ],
          "histogram2dcontour": [
           {
            "colorbar": {
             "outlinewidth": 0,
             "ticks": ""
            },
            "colorscale": [
             [
              0,
              "#0d0887"
             ],
             [
              0.1111111111111111,
              "#46039f"
             ],
             [
              0.2222222222222222,
              "#7201a8"
             ],
             [
              0.3333333333333333,
              "#9c179e"
             ],
             [
              0.4444444444444444,
              "#bd3786"
             ],
             [
              0.5555555555555556,
              "#d8576b"
             ],
             [
              0.6666666666666666,
              "#ed7953"
             ],
             [
              0.7777777777777778,
              "#fb9f3a"
             ],
             [
              0.8888888888888888,
              "#fdca26"
             ],
             [
              1,
              "#f0f921"
             ]
            ],
            "type": "histogram2dcontour"
           }
          ],
          "mesh3d": [
           {
            "colorbar": {
             "outlinewidth": 0,
             "ticks": ""
            },
            "type": "mesh3d"
           }
          ],
          "parcoords": [
           {
            "line": {
             "colorbar": {
              "outlinewidth": 0,
              "ticks": ""
             }
            },
            "type": "parcoords"
           }
          ],
          "pie": [
           {
            "automargin": true,
            "type": "pie"
           }
          ],
          "scatter": [
           {
            "fillpattern": {
             "fillmode": "overlay",
             "size": 10,
             "solidity": 0.2
            },
            "type": "scatter"
           }
          ],
          "scatter3d": [
           {
            "line": {
             "colorbar": {
              "outlinewidth": 0,
              "ticks": ""
             }
            },
            "marker": {
             "colorbar": {
              "outlinewidth": 0,
              "ticks": ""
             }
            },
            "type": "scatter3d"
           }
          ],
          "scattercarpet": [
           {
            "marker": {
             "colorbar": {
              "outlinewidth": 0,
              "ticks": ""
             }
            },
            "type": "scattercarpet"
           }
          ],
          "scattergeo": [
           {
            "marker": {
             "colorbar": {
              "outlinewidth": 0,
              "ticks": ""
             }
            },
            "type": "scattergeo"
           }
          ],
          "scattergl": [
           {
            "marker": {
             "colorbar": {
              "outlinewidth": 0,
              "ticks": ""
             }
            },
            "type": "scattergl"
           }
          ],
          "scattermap": [
           {
            "marker": {
             "colorbar": {
              "outlinewidth": 0,
              "ticks": ""
             }
            },
            "type": "scattermap"
           }
          ],
          "scattermapbox": [
           {
            "marker": {
             "colorbar": {
              "outlinewidth": 0,
              "ticks": ""
             }
            },
            "type": "scattermapbox"
           }
          ],
          "scatterpolar": [
           {
            "marker": {
             "colorbar": {
              "outlinewidth": 0,
              "ticks": ""
             }
            },
            "type": "scatterpolar"
           }
          ],
          "scatterpolargl": [
           {
            "marker": {
             "colorbar": {
              "outlinewidth": 0,
              "ticks": ""
             }
            },
            "type": "scatterpolargl"
           }
          ],
          "scatterternary": [
           {
            "marker": {
             "colorbar": {
              "outlinewidth": 0,
              "ticks": ""
             }
            },
            "type": "scatterternary"
           }
          ],
          "surface": [
           {
            "colorbar": {
             "outlinewidth": 0,
             "ticks": ""
            },
            "colorscale": [
             [
              0,
              "#0d0887"
             ],
             [
              0.1111111111111111,
              "#46039f"
             ],
             [
              0.2222222222222222,
              "#7201a8"
             ],
             [
              0.3333333333333333,
              "#9c179e"
             ],
             [
              0.4444444444444444,
              "#bd3786"
             ],
             [
              0.5555555555555556,
              "#d8576b"
             ],
             [
              0.6666666666666666,
              "#ed7953"
             ],
             [
              0.7777777777777778,
              "#fb9f3a"
             ],
             [
              0.8888888888888888,
              "#fdca26"
             ],
             [
              1,
              "#f0f921"
             ]
            ],
            "type": "surface"
           }
          ],
          "table": [
           {
            "cells": {
             "fill": {
              "color": "#EBF0F8"
             },
             "line": {
              "color": "white"
             }
            },
            "header": {
             "fill": {
              "color": "#C8D4E3"
             },
             "line": {
              "color": "white"
             }
            },
            "type": "table"
           }
          ]
         },
         "layout": {
          "annotationdefaults": {
           "arrowcolor": "#2a3f5f",
           "arrowhead": 0,
           "arrowwidth": 1
          },
          "autotypenumbers": "strict",
          "coloraxis": {
           "colorbar": {
            "outlinewidth": 0,
            "ticks": ""
           }
          },
          "colorscale": {
           "diverging": [
            [
             0,
             "#8e0152"
            ],
            [
             0.1,
             "#c51b7d"
            ],
            [
             0.2,
             "#de77ae"
            ],
            [
             0.3,
             "#f1b6da"
            ],
            [
             0.4,
             "#fde0ef"
            ],
            [
             0.5,
             "#f7f7f7"
            ],
            [
             0.6,
             "#e6f5d0"
            ],
            [
             0.7,
             "#b8e186"
            ],
            [
             0.8,
             "#7fbc41"
            ],
            [
             0.9,
             "#4d9221"
            ],
            [
             1,
             "#276419"
            ]
           ],
           "sequential": [
            [
             0,
             "#0d0887"
            ],
            [
             0.1111111111111111,
             "#46039f"
            ],
            [
             0.2222222222222222,
             "#7201a8"
            ],
            [
             0.3333333333333333,
             "#9c179e"
            ],
            [
             0.4444444444444444,
             "#bd3786"
            ],
            [
             0.5555555555555556,
             "#d8576b"
            ],
            [
             0.6666666666666666,
             "#ed7953"
            ],
            [
             0.7777777777777778,
             "#fb9f3a"
            ],
            [
             0.8888888888888888,
             "#fdca26"
            ],
            [
             1,
             "#f0f921"
            ]
           ],
           "sequentialminus": [
            [
             0,
             "#0d0887"
            ],
            [
             0.1111111111111111,
             "#46039f"
            ],
            [
             0.2222222222222222,
             "#7201a8"
            ],
            [
             0.3333333333333333,
             "#9c179e"
            ],
            [
             0.4444444444444444,
             "#bd3786"
            ],
            [
             0.5555555555555556,
             "#d8576b"
            ],
            [
             0.6666666666666666,
             "#ed7953"
            ],
            [
             0.7777777777777778,
             "#fb9f3a"
            ],
            [
             0.8888888888888888,
             "#fdca26"
            ],
            [
             1,
             "#f0f921"
            ]
           ]
          },
          "colorway": [
           "#636efa",
           "#EF553B",
           "#00cc96",
           "#ab63fa",
           "#FFA15A",
           "#19d3f3",
           "#FF6692",
           "#B6E880",
           "#FF97FF",
           "#FECB52"
          ],
          "font": {
           "color": "#2a3f5f"
          },
          "geo": {
           "bgcolor": "white",
           "lakecolor": "white",
           "landcolor": "#E5ECF6",
           "showlakes": true,
           "showland": true,
           "subunitcolor": "white"
          },
          "hoverlabel": {
           "align": "left"
          },
          "hovermode": "closest",
          "mapbox": {
           "style": "light"
          },
          "paper_bgcolor": "white",
          "plot_bgcolor": "#E5ECF6",
          "polar": {
           "angularaxis": {
            "gridcolor": "white",
            "linecolor": "white",
            "ticks": ""
           },
           "bgcolor": "#E5ECF6",
           "radialaxis": {
            "gridcolor": "white",
            "linecolor": "white",
            "ticks": ""
           }
          },
          "scene": {
           "xaxis": {
            "backgroundcolor": "#E5ECF6",
            "gridcolor": "white",
            "gridwidth": 2,
            "linecolor": "white",
            "showbackground": true,
            "ticks": "",
            "zerolinecolor": "white"
           },
           "yaxis": {
            "backgroundcolor": "#E5ECF6",
            "gridcolor": "white",
            "gridwidth": 2,
            "linecolor": "white",
            "showbackground": true,
            "ticks": "",
            "zerolinecolor": "white"
           },
           "zaxis": {
            "backgroundcolor": "#E5ECF6",
            "gridcolor": "white",
            "gridwidth": 2,
            "linecolor": "white",
            "showbackground": true,
            "ticks": "",
            "zerolinecolor": "white"
           }
          },
          "shapedefaults": {
           "line": {
            "color": "#2a3f5f"
           }
          },
          "ternary": {
           "aaxis": {
            "gridcolor": "white",
            "linecolor": "white",
            "ticks": ""
           },
           "baxis": {
            "gridcolor": "white",
            "linecolor": "white",
            "ticks": ""
           },
           "bgcolor": "#E5ECF6",
           "caxis": {
            "gridcolor": "white",
            "linecolor": "white",
            "ticks": ""
           }
          },
          "title": {
           "x": 0.05
          },
          "xaxis": {
           "automargin": true,
           "gridcolor": "white",
           "linecolor": "white",
           "ticks": "",
           "title": {
            "standoff": 15
           },
           "zerolinecolor": "white",
           "zerolinewidth": 2
          },
          "yaxis": {
           "automargin": true,
           "gridcolor": "white",
           "linecolor": "white",
           "ticks": "",
           "title": {
            "standoff": 15
           },
           "zerolinecolor": "white",
           "zerolinewidth": 2
          }
         }
        },
        "title": {
         "font": {
          "color": "black",
          "family": "Arial",
          "size": 24
         },
         "text": "FOB Dólares por Mes y Año (escala log)"
        },
        "xaxis": {
         "tickfont": {
          "size": 12
         },
         "title": {
          "text": "Mes"
         },
         "type": "category"
        },
        "yaxis": {
         "tickfont": {
          "size": 12
         },
         "title": {
          "text": "Año"
         },
         "type": "category"
        }
       }
      }
     },
     "metadata": {},
     "output_type": "display_data"
    }
   ],
   "source": [
    "serie_heatmap[\"FOBDOL_LOG\"] = serie_heatmap[\"FOBDOL\"].apply(lambda x: np.log10(x + 1))\n",
    "\n",
    "pivot_log = serie_heatmap.pivot(index=\"AÑO\", columns=\"MES\", values=\"FOBDOL_LOG\")\n",
    "pivot_raw = serie_heatmap.pivot(index=\"AÑO\", columns=\"MES\", values=\"FOBDOL\")\n",
    "\n",
    "fig = go.Figure(data=go.Heatmap(\n",
    "    z=pivot_log.values,\n",
    "    x=[calendar.month_abbr[m] for m in pivot_log.columns],\n",
    "    y=pivot_log.index,\n",
    "    colorscale=\"YlGnBu\",\n",
    "    colorbar=dict(\n",
    "        title=\"Fobdol\",\n",
    "        tickformat=\".2f\",\n",
    "        ticks=\"outside\",\n",
    "        tickmode=\"auto\"\n",
    "    ),\n",
    "    hovertemplate=\n",
    "        \"<b>Año:</b> %{y}<br>\" +\n",
    "        \"<b>Mes:</b> %{x}<br>\" +\n",
    "        \"<b>FOBDOL:</b> %{z:$,.2f}<extra></extra>\"\n",
    "))\n",
    "\n",
    "fig.update_layout(\n",
    "    title=\"FOB Dólares por Mes y Año (escala log)\",\n",
    "    xaxis_title=\"Mes\",\n",
    "    yaxis_title=\"Año\",\n",
    "    xaxis_tickfont=dict(size=12),\n",
    "    yaxis_tickfont=dict(size=12),\n",
    "    xaxis=dict(type=\"category\"),\n",
    "    yaxis=dict(type=\"category\"),\n",
    "    title_font=dict(size=24, family=\"Arial\", color=\"black\"),\n",
    "    plot_bgcolor=\"white\",\n",
    "    paper_bgcolor=\"white\"\n",
    ")\n",
    "\n",
    "fig.show()"
   ]
  },
  {
   "cell_type": "markdown",
   "id": "6d927ec9",
   "metadata": {},
   "source": [
    "###### *__Finalidad:__ Este heatmap muestra la suma de los valores FOB por mes y año. Permite identificar patrones estacionales, variaciones interanuales y meses con mayores niveles de exportación.*"
   ]
  },
  {
   "cell_type": "markdown",
   "id": "4d2682f1",
   "metadata": {},
   "source": [
    "### Crecimiento anual (%) del valor FOB de las exportaciones"
   ]
  },
  {
   "cell_type": "code",
   "execution_count": 39,
   "id": "1be5433f",
   "metadata": {},
   "outputs": [],
   "source": [
    "crecimiento = (\n",
    "    df.group_by(\"AÑO\")\n",
    "      .agg(pl.col(\"FOBDOL\").sum())\n",
    "      .sort(\"AÑO\")\n",
    "      .with_columns(\n",
    "          (pl.col(\"FOBDOL\").pct_change() * 100)\n",
    "          .fill_null(0.0)\n",
    "          .round(2)\n",
    "          .alias(\"crecimiento_anual\")\n",
    "      )\n",
    ")"
   ]
  },
  {
   "cell_type": "code",
   "execution_count": 40,
   "id": "6b5bf9f1",
   "metadata": {},
   "outputs": [
    {
     "data": {
      "application/vnd.plotly.v1+json": {
       "config": {
        "plotlyServerURL": "https://plot.ly"
       },
       "data": [
        {
         "marker": {
          "color": "steelblue"
         },
         "text": {
          "bdata": "AAAAAAAAAAD2KFyPwvU5QNejcD0K1y9ASOF6FK6HN0A9CtejcH01QOxRuB6FayXAKVyPwvXoNEBI4XoUrqdFQI/C9ShcjxZASOF6FK5HAcAAAAAAAAAbwOxRuB6FK0HAuB6F61E4KMCamZmZmRk0QOxRuB6FayRACtejcD0KF8Bcj8L1KFw1wKRwPQrXo0BAAAAAAADAQkCamZmZmRkpwIXrUbgehdu/",
          "dtype": "f8"
         },
         "textposition": "outside",
         "type": "bar",
         "x": {
          "bdata": "1AfVB9YH1wfYB9kH2gfbB9wH3QfeB98H4AfhB+IH4wfkB+UH5gfnB+gH",
          "dtype": "i2"
         },
         "y": {
          "bdata": "AAAAAAAAAAD2KFyPwvU5QNejcD0K1y9ASOF6FK6HN0A9CtejcH01QOxRuB6FayXAKVyPwvXoNEBI4XoUrqdFQI/C9ShcjxZASOF6FK5HAcAAAAAAAAAbwOxRuB6FK0HAuB6F61E4KMCamZmZmRk0QOxRuB6FayRACtejcD0KF8Bcj8L1KFw1wKRwPQrXo0BAAAAAAADAQkCamZmZmRkpwIXrUbgehdu/",
          "dtype": "f8"
         }
        }
       ],
       "layout": {
        "bargap": 0.2,
        "margin": {
         "b": 40,
         "l": 40,
         "r": 20,
         "t": 80
        },
        "paper_bgcolor": "white",
        "plot_bgcolor": "white",
        "showlegend": false,
        "template": {
         "data": {
          "bar": [
           {
            "error_x": {
             "color": "#2a3f5f"
            },
            "error_y": {
             "color": "#2a3f5f"
            },
            "marker": {
             "line": {
              "color": "#E5ECF6",
              "width": 0.5
             },
             "pattern": {
              "fillmode": "overlay",
              "size": 10,
              "solidity": 0.2
             }
            },
            "type": "bar"
           }
          ],
          "barpolar": [
           {
            "marker": {
             "line": {
              "color": "#E5ECF6",
              "width": 0.5
             },
             "pattern": {
              "fillmode": "overlay",
              "size": 10,
              "solidity": 0.2
             }
            },
            "type": "barpolar"
           }
          ],
          "carpet": [
           {
            "aaxis": {
             "endlinecolor": "#2a3f5f",
             "gridcolor": "white",
             "linecolor": "white",
             "minorgridcolor": "white",
             "startlinecolor": "#2a3f5f"
            },
            "baxis": {
             "endlinecolor": "#2a3f5f",
             "gridcolor": "white",
             "linecolor": "white",
             "minorgridcolor": "white",
             "startlinecolor": "#2a3f5f"
            },
            "type": "carpet"
           }
          ],
          "choropleth": [
           {
            "colorbar": {
             "outlinewidth": 0,
             "ticks": ""
            },
            "type": "choropleth"
           }
          ],
          "contour": [
           {
            "colorbar": {
             "outlinewidth": 0,
             "ticks": ""
            },
            "colorscale": [
             [
              0,
              "#0d0887"
             ],
             [
              0.1111111111111111,
              "#46039f"
             ],
             [
              0.2222222222222222,
              "#7201a8"
             ],
             [
              0.3333333333333333,
              "#9c179e"
             ],
             [
              0.4444444444444444,
              "#bd3786"
             ],
             [
              0.5555555555555556,
              "#d8576b"
             ],
             [
              0.6666666666666666,
              "#ed7953"
             ],
             [
              0.7777777777777778,
              "#fb9f3a"
             ],
             [
              0.8888888888888888,
              "#fdca26"
             ],
             [
              1,
              "#f0f921"
             ]
            ],
            "type": "contour"
           }
          ],
          "contourcarpet": [
           {
            "colorbar": {
             "outlinewidth": 0,
             "ticks": ""
            },
            "type": "contourcarpet"
           }
          ],
          "heatmap": [
           {
            "colorbar": {
             "outlinewidth": 0,
             "ticks": ""
            },
            "colorscale": [
             [
              0,
              "#0d0887"
             ],
             [
              0.1111111111111111,
              "#46039f"
             ],
             [
              0.2222222222222222,
              "#7201a8"
             ],
             [
              0.3333333333333333,
              "#9c179e"
             ],
             [
              0.4444444444444444,
              "#bd3786"
             ],
             [
              0.5555555555555556,
              "#d8576b"
             ],
             [
              0.6666666666666666,
              "#ed7953"
             ],
             [
              0.7777777777777778,
              "#fb9f3a"
             ],
             [
              0.8888888888888888,
              "#fdca26"
             ],
             [
              1,
              "#f0f921"
             ]
            ],
            "type": "heatmap"
           }
          ],
          "histogram": [
           {
            "marker": {
             "pattern": {
              "fillmode": "overlay",
              "size": 10,
              "solidity": 0.2
             }
            },
            "type": "histogram"
           }
          ],
          "histogram2d": [
           {
            "colorbar": {
             "outlinewidth": 0,
             "ticks": ""
            },
            "colorscale": [
             [
              0,
              "#0d0887"
             ],
             [
              0.1111111111111111,
              "#46039f"
             ],
             [
              0.2222222222222222,
              "#7201a8"
             ],
             [
              0.3333333333333333,
              "#9c179e"
             ],
             [
              0.4444444444444444,
              "#bd3786"
             ],
             [
              0.5555555555555556,
              "#d8576b"
             ],
             [
              0.6666666666666666,
              "#ed7953"
             ],
             [
              0.7777777777777778,
              "#fb9f3a"
             ],
             [
              0.8888888888888888,
              "#fdca26"
             ],
             [
              1,
              "#f0f921"
             ]
            ],
            "type": "histogram2d"
           }
          ],
          "histogram2dcontour": [
           {
            "colorbar": {
             "outlinewidth": 0,
             "ticks": ""
            },
            "colorscale": [
             [
              0,
              "#0d0887"
             ],
             [
              0.1111111111111111,
              "#46039f"
             ],
             [
              0.2222222222222222,
              "#7201a8"
             ],
             [
              0.3333333333333333,
              "#9c179e"
             ],
             [
              0.4444444444444444,
              "#bd3786"
             ],
             [
              0.5555555555555556,
              "#d8576b"
             ],
             [
              0.6666666666666666,
              "#ed7953"
             ],
             [
              0.7777777777777778,
              "#fb9f3a"
             ],
             [
              0.8888888888888888,
              "#fdca26"
             ],
             [
              1,
              "#f0f921"
             ]
            ],
            "type": "histogram2dcontour"
           }
          ],
          "mesh3d": [
           {
            "colorbar": {
             "outlinewidth": 0,
             "ticks": ""
            },
            "type": "mesh3d"
           }
          ],
          "parcoords": [
           {
            "line": {
             "colorbar": {
              "outlinewidth": 0,
              "ticks": ""
             }
            },
            "type": "parcoords"
           }
          ],
          "pie": [
           {
            "automargin": true,
            "type": "pie"
           }
          ],
          "scatter": [
           {
            "fillpattern": {
             "fillmode": "overlay",
             "size": 10,
             "solidity": 0.2
            },
            "type": "scatter"
           }
          ],
          "scatter3d": [
           {
            "line": {
             "colorbar": {
              "outlinewidth": 0,
              "ticks": ""
             }
            },
            "marker": {
             "colorbar": {
              "outlinewidth": 0,
              "ticks": ""
             }
            },
            "type": "scatter3d"
           }
          ],
          "scattercarpet": [
           {
            "marker": {
             "colorbar": {
              "outlinewidth": 0,
              "ticks": ""
             }
            },
            "type": "scattercarpet"
           }
          ],
          "scattergeo": [
           {
            "marker": {
             "colorbar": {
              "outlinewidth": 0,
              "ticks": ""
             }
            },
            "type": "scattergeo"
           }
          ],
          "scattergl": [
           {
            "marker": {
             "colorbar": {
              "outlinewidth": 0,
              "ticks": ""
             }
            },
            "type": "scattergl"
           }
          ],
          "scattermap": [
           {
            "marker": {
             "colorbar": {
              "outlinewidth": 0,
              "ticks": ""
             }
            },
            "type": "scattermap"
           }
          ],
          "scattermapbox": [
           {
            "marker": {
             "colorbar": {
              "outlinewidth": 0,
              "ticks": ""
             }
            },
            "type": "scattermapbox"
           }
          ],
          "scatterpolar": [
           {
            "marker": {
             "colorbar": {
              "outlinewidth": 0,
              "ticks": ""
             }
            },
            "type": "scatterpolar"
           }
          ],
          "scatterpolargl": [
           {
            "marker": {
             "colorbar": {
              "outlinewidth": 0,
              "ticks": ""
             }
            },
            "type": "scatterpolargl"
           }
          ],
          "scatterternary": [
           {
            "marker": {
             "colorbar": {
              "outlinewidth": 0,
              "ticks": ""
             }
            },
            "type": "scatterternary"
           }
          ],
          "surface": [
           {
            "colorbar": {
             "outlinewidth": 0,
             "ticks": ""
            },
            "colorscale": [
             [
              0,
              "#0d0887"
             ],
             [
              0.1111111111111111,
              "#46039f"
             ],
             [
              0.2222222222222222,
              "#7201a8"
             ],
             [
              0.3333333333333333,
              "#9c179e"
             ],
             [
              0.4444444444444444,
              "#bd3786"
             ],
             [
              0.5555555555555556,
              "#d8576b"
             ],
             [
              0.6666666666666666,
              "#ed7953"
             ],
             [
              0.7777777777777778,
              "#fb9f3a"
             ],
             [
              0.8888888888888888,
              "#fdca26"
             ],
             [
              1,
              "#f0f921"
             ]
            ],
            "type": "surface"
           }
          ],
          "table": [
           {
            "cells": {
             "fill": {
              "color": "#EBF0F8"
             },
             "line": {
              "color": "white"
             }
            },
            "header": {
             "fill": {
              "color": "#C8D4E3"
             },
             "line": {
              "color": "white"
             }
            },
            "type": "table"
           }
          ]
         },
         "layout": {
          "annotationdefaults": {
           "arrowcolor": "#2a3f5f",
           "arrowhead": 0,
           "arrowwidth": 1
          },
          "autotypenumbers": "strict",
          "coloraxis": {
           "colorbar": {
            "outlinewidth": 0,
            "ticks": ""
           }
          },
          "colorscale": {
           "diverging": [
            [
             0,
             "#8e0152"
            ],
            [
             0.1,
             "#c51b7d"
            ],
            [
             0.2,
             "#de77ae"
            ],
            [
             0.3,
             "#f1b6da"
            ],
            [
             0.4,
             "#fde0ef"
            ],
            [
             0.5,
             "#f7f7f7"
            ],
            [
             0.6,
             "#e6f5d0"
            ],
            [
             0.7,
             "#b8e186"
            ],
            [
             0.8,
             "#7fbc41"
            ],
            [
             0.9,
             "#4d9221"
            ],
            [
             1,
             "#276419"
            ]
           ],
           "sequential": [
            [
             0,
             "#0d0887"
            ],
            [
             0.1111111111111111,
             "#46039f"
            ],
            [
             0.2222222222222222,
             "#7201a8"
            ],
            [
             0.3333333333333333,
             "#9c179e"
            ],
            [
             0.4444444444444444,
             "#bd3786"
            ],
            [
             0.5555555555555556,
             "#d8576b"
            ],
            [
             0.6666666666666666,
             "#ed7953"
            ],
            [
             0.7777777777777778,
             "#fb9f3a"
            ],
            [
             0.8888888888888888,
             "#fdca26"
            ],
            [
             1,
             "#f0f921"
            ]
           ],
           "sequentialminus": [
            [
             0,
             "#0d0887"
            ],
            [
             0.1111111111111111,
             "#46039f"
            ],
            [
             0.2222222222222222,
             "#7201a8"
            ],
            [
             0.3333333333333333,
             "#9c179e"
            ],
            [
             0.4444444444444444,
             "#bd3786"
            ],
            [
             0.5555555555555556,
             "#d8576b"
            ],
            [
             0.6666666666666666,
             "#ed7953"
            ],
            [
             0.7777777777777778,
             "#fb9f3a"
            ],
            [
             0.8888888888888888,
             "#fdca26"
            ],
            [
             1,
             "#f0f921"
            ]
           ]
          },
          "colorway": [
           "#636efa",
           "#EF553B",
           "#00cc96",
           "#ab63fa",
           "#FFA15A",
           "#19d3f3",
           "#FF6692",
           "#B6E880",
           "#FF97FF",
           "#FECB52"
          ],
          "font": {
           "color": "#2a3f5f"
          },
          "geo": {
           "bgcolor": "white",
           "lakecolor": "white",
           "landcolor": "#E5ECF6",
           "showlakes": true,
           "showland": true,
           "subunitcolor": "white"
          },
          "hoverlabel": {
           "align": "left"
          },
          "hovermode": "closest",
          "mapbox": {
           "style": "light"
          },
          "paper_bgcolor": "white",
          "plot_bgcolor": "#E5ECF6",
          "polar": {
           "angularaxis": {
            "gridcolor": "white",
            "linecolor": "white",
            "ticks": ""
           },
           "bgcolor": "#E5ECF6",
           "radialaxis": {
            "gridcolor": "white",
            "linecolor": "white",
            "ticks": ""
           }
          },
          "scene": {
           "xaxis": {
            "backgroundcolor": "#E5ECF6",
            "gridcolor": "white",
            "gridwidth": 2,
            "linecolor": "white",
            "showbackground": true,
            "ticks": "",
            "zerolinecolor": "white"
           },
           "yaxis": {
            "backgroundcolor": "#E5ECF6",
            "gridcolor": "white",
            "gridwidth": 2,
            "linecolor": "white",
            "showbackground": true,
            "ticks": "",
            "zerolinecolor": "white"
           },
           "zaxis": {
            "backgroundcolor": "#E5ECF6",
            "gridcolor": "white",
            "gridwidth": 2,
            "linecolor": "white",
            "showbackground": true,
            "ticks": "",
            "zerolinecolor": "white"
           }
          },
          "shapedefaults": {
           "line": {
            "color": "#2a3f5f"
           }
          },
          "ternary": {
           "aaxis": {
            "gridcolor": "white",
            "linecolor": "white",
            "ticks": ""
           },
           "baxis": {
            "gridcolor": "white",
            "linecolor": "white",
            "ticks": ""
           },
           "bgcolor": "#E5ECF6",
           "caxis": {
            "gridcolor": "white",
            "linecolor": "white",
            "ticks": ""
           }
          },
          "title": {
           "x": 0.05
          },
          "xaxis": {
           "automargin": true,
           "gridcolor": "white",
           "linecolor": "white",
           "ticks": "",
           "title": {
            "standoff": 15
           },
           "zerolinecolor": "white",
           "zerolinewidth": 2
          },
          "yaxis": {
           "automargin": true,
           "gridcolor": "white",
           "linecolor": "white",
           "ticks": "",
           "title": {
            "standoff": 15
           },
           "zerolinecolor": "white",
           "zerolinewidth": 2
          }
         }
        },
        "title": {
         "font": {
          "color": "black",
          "family": "Arial",
          "size": 24
         },
         "text": "Crecimiento anual del valor FOB de las exportaciones"
        },
        "uniformtext": {
         "minsize": 8,
         "mode": "hide"
        },
        "xaxis": {
         "dtick": "Y12",
         "tickangle": 45,
         "tickfont": {
          "size": 12
         },
         "tickformat": "%Y",
         "title": {
          "text": "Año"
         }
        },
        "yaxis": {
         "tickfont": {
          "size": 12
         },
         "tickformat": ".0f",
         "title": {
          "text": "Crecimiento (%)"
         }
        }
       }
      }
     },
     "metadata": {},
     "output_type": "display_data"
    }
   ],
   "source": [
    "fig = go.Figure()\n",
    "\n",
    "fig.add_trace(go.Bar(\n",
    "    x=crecimiento[\"AÑO\"],\n",
    "    y=crecimiento[\"crecimiento_anual\"],\n",
    "    text=crecimiento[\"crecimiento_anual\"],\n",
    "    textposition=\"outside\",\n",
    "    marker_color=\"steelblue\",\n",
    "))\n",
    "\n",
    "fig.update_layout(\n",
    "    title=\"Crecimiento anual del valor FOB de las exportaciones\",\n",
    "    title_font=dict(size=24, family=\"Arial\", color=\"black\"),\n",
    "    xaxis_title=\"Año\",\n",
    "    yaxis_title=\"Crecimiento (%)\",\n",
    "    xaxis_tickfont=dict(size=12),\n",
    "    yaxis_tickfont=dict(size=12),\n",
    "    yaxis_tickformat=\".0f\",\n",
    "    xaxis_tickangle=45,\n",
    "    uniformtext_minsize=8,\n",
    "    uniformtext_mode='hide',\n",
    "    plot_bgcolor=\"white\",\n",
    "    paper_bgcolor=\"white\",\n",
    "    bargap=0.2,\n",
    "    showlegend=False,\n",
    "    margin=dict(t=80, l=40, r=20, b=40),\n",
    ")\n",
    "fig.update_xaxes(\n",
    "    tickformat=\"%Y\",\n",
    "    dtick=\"Y12\"\n",
    ")\n",
    "fig.show()"
   ]
  },
  {
   "cell_type": "markdown",
   "id": "a1031d6b",
   "metadata": {},
   "source": [
    "###### *__Finalidad:__ Medir la variación porcentual del valor exportado entre un año y el siguiente, permitiendo evaluar ritmos de crecimiento o disminución.*"
   ]
  },
  {
   "cell_type": "markdown",
   "id": "0eb61971",
   "metadata": {},
   "source": [
    "### Tendencia de largo plazo del valor FOB de las exportaciones"
   ]
  },
  {
   "cell_type": "code",
   "execution_count": null,
   "id": "7f693ac7",
   "metadata": {},
   "outputs": [
    {
     "name": "stdout",
     "output_type": "stream",
     "text": [
      "Tendencia anual: pendiente=1030418761.96, R²=0.255\n"
     ]
    }
   ],
   "source": [
    "anual = df.group_by(\"AÑO\").agg(pl.col(\"FOBDOL\").sum()).sort(\"AÑO\")\n",
    "x = anual.select(\"AÑO\").to_numpy().flatten()\n",
    "y = anual.select(\"FOBDOL\").to_numpy().flatten()\n",
    "\n",
    "slope, intercept, r_value, p_value, std_err = stats.linregress(x, y)\n",
    "print(f\"Tendencia anual: pendiente={slope:.2f}, R²={r_value**2:.3f}\")"
   ]
  },
  {
   "cell_type": "code",
   "execution_count": 42,
   "id": "57145754",
   "metadata": {},
   "outputs": [
    {
     "data": {
      "application/vnd.plotly.v1+json": {
       "config": {
        "plotlyServerURL": "https://plot.ly"
       },
       "data": [
        {
         "marker": {
          "color": "steelblue",
          "size": 8
         },
         "mode": "markers",
         "name": "Exportaciones anuales",
         "type": "scatter",
         "x": {
          "bdata": "1AfVB9YH1wfYB9kH2gfbB9wH3QfeB98H4AfhB+IH4wfkB+UH5gfnB+gH",
          "dtype": "i2"
         },
         "y": {
          "bdata": "Nh/9bExFD0IuFIaznrETQioUF+0b1BZCvigWFCIzHELsx+4URyEhQhfC2K4slx5CbeGg2DJ+IkJArswZyoAqQhXru3J6/ytCnTiBX6ZkK0JNOA1Lb4spQlTcAoifxSBCevbmZqp7HUId/6wXj7QhQmWobFFwgyNC9I/vw3ljIkJywo5BSOwcQgiAnTkSRiNCinGPijeAKkKJI1sz8SwnQkh2wAGZEydC",
          "dtype": "f8"
         }
        },
        {
         "line": {
          "color": "red",
          "dash": "dash"
         },
         "mode": "lines",
         "name": "Tendencia lineal",
         "type": "scatter",
         "x": {
          "bdata": "1AfVB9YH1wfYB9kH2gfbB9wH3QfeB98H4AfhB+IH4wfkB+UH5gfnB+gH",
          "dtype": "i2"
         },
         "y": {
          "bdata": "wCcuAkwJHEIA/lXH9/4cQkDUfYyj9B1CgKqlUU/qHkLAgM0W+98fQoCr+m3TaiBCoJaOUKnlIELAgSIzf2AhQuBsthVV2yFCAFhK+CpWIkIgQ97aANEiQkAucr3WSyNCYBkGoKzGI0KABJqCgkEkQqDvLWVYvCRC4NrBRy43JUIAxlUqBLIlQiCx6QzaLCZCQJx976+nJkJghxHShSInQoBypbRbnSdC",
          "dtype": "f8"
         }
        }
       ],
       "layout": {
        "plot_bgcolor": "white",
        "showlegend": true,
        "template": {
         "data": {
          "bar": [
           {
            "error_x": {
             "color": "#2a3f5f"
            },
            "error_y": {
             "color": "#2a3f5f"
            },
            "marker": {
             "line": {
              "color": "#E5ECF6",
              "width": 0.5
             },
             "pattern": {
              "fillmode": "overlay",
              "size": 10,
              "solidity": 0.2
             }
            },
            "type": "bar"
           }
          ],
          "barpolar": [
           {
            "marker": {
             "line": {
              "color": "#E5ECF6",
              "width": 0.5
             },
             "pattern": {
              "fillmode": "overlay",
              "size": 10,
              "solidity": 0.2
             }
            },
            "type": "barpolar"
           }
          ],
          "carpet": [
           {
            "aaxis": {
             "endlinecolor": "#2a3f5f",
             "gridcolor": "white",
             "linecolor": "white",
             "minorgridcolor": "white",
             "startlinecolor": "#2a3f5f"
            },
            "baxis": {
             "endlinecolor": "#2a3f5f",
             "gridcolor": "white",
             "linecolor": "white",
             "minorgridcolor": "white",
             "startlinecolor": "#2a3f5f"
            },
            "type": "carpet"
           }
          ],
          "choropleth": [
           {
            "colorbar": {
             "outlinewidth": 0,
             "ticks": ""
            },
            "type": "choropleth"
           }
          ],
          "contour": [
           {
            "colorbar": {
             "outlinewidth": 0,
             "ticks": ""
            },
            "colorscale": [
             [
              0,
              "#0d0887"
             ],
             [
              0.1111111111111111,
              "#46039f"
             ],
             [
              0.2222222222222222,
              "#7201a8"
             ],
             [
              0.3333333333333333,
              "#9c179e"
             ],
             [
              0.4444444444444444,
              "#bd3786"
             ],
             [
              0.5555555555555556,
              "#d8576b"
             ],
             [
              0.6666666666666666,
              "#ed7953"
             ],
             [
              0.7777777777777778,
              "#fb9f3a"
             ],
             [
              0.8888888888888888,
              "#fdca26"
             ],
             [
              1,
              "#f0f921"
             ]
            ],
            "type": "contour"
           }
          ],
          "contourcarpet": [
           {
            "colorbar": {
             "outlinewidth": 0,
             "ticks": ""
            },
            "type": "contourcarpet"
           }
          ],
          "heatmap": [
           {
            "colorbar": {
             "outlinewidth": 0,
             "ticks": ""
            },
            "colorscale": [
             [
              0,
              "#0d0887"
             ],
             [
              0.1111111111111111,
              "#46039f"
             ],
             [
              0.2222222222222222,
              "#7201a8"
             ],
             [
              0.3333333333333333,
              "#9c179e"
             ],
             [
              0.4444444444444444,
              "#bd3786"
             ],
             [
              0.5555555555555556,
              "#d8576b"
             ],
             [
              0.6666666666666666,
              "#ed7953"
             ],
             [
              0.7777777777777778,
              "#fb9f3a"
             ],
             [
              0.8888888888888888,
              "#fdca26"
             ],
             [
              1,
              "#f0f921"
             ]
            ],
            "type": "heatmap"
           }
          ],
          "histogram": [
           {
            "marker": {
             "pattern": {
              "fillmode": "overlay",
              "size": 10,
              "solidity": 0.2
             }
            },
            "type": "histogram"
           }
          ],
          "histogram2d": [
           {
            "colorbar": {
             "outlinewidth": 0,
             "ticks": ""
            },
            "colorscale": [
             [
              0,
              "#0d0887"
             ],
             [
              0.1111111111111111,
              "#46039f"
             ],
             [
              0.2222222222222222,
              "#7201a8"
             ],
             [
              0.3333333333333333,
              "#9c179e"
             ],
             [
              0.4444444444444444,
              "#bd3786"
             ],
             [
              0.5555555555555556,
              "#d8576b"
             ],
             [
              0.6666666666666666,
              "#ed7953"
             ],
             [
              0.7777777777777778,
              "#fb9f3a"
             ],
             [
              0.8888888888888888,
              "#fdca26"
             ],
             [
              1,
              "#f0f921"
             ]
            ],
            "type": "histogram2d"
           }
          ],
          "histogram2dcontour": [
           {
            "colorbar": {
             "outlinewidth": 0,
             "ticks": ""
            },
            "colorscale": [
             [
              0,
              "#0d0887"
             ],
             [
              0.1111111111111111,
              "#46039f"
             ],
             [
              0.2222222222222222,
              "#7201a8"
             ],
             [
              0.3333333333333333,
              "#9c179e"
             ],
             [
              0.4444444444444444,
              "#bd3786"
             ],
             [
              0.5555555555555556,
              "#d8576b"
             ],
             [
              0.6666666666666666,
              "#ed7953"
             ],
             [
              0.7777777777777778,
              "#fb9f3a"
             ],
             [
              0.8888888888888888,
              "#fdca26"
             ],
             [
              1,
              "#f0f921"
             ]
            ],
            "type": "histogram2dcontour"
           }
          ],
          "mesh3d": [
           {
            "colorbar": {
             "outlinewidth": 0,
             "ticks": ""
            },
            "type": "mesh3d"
           }
          ],
          "parcoords": [
           {
            "line": {
             "colorbar": {
              "outlinewidth": 0,
              "ticks": ""
             }
            },
            "type": "parcoords"
           }
          ],
          "pie": [
           {
            "automargin": true,
            "type": "pie"
           }
          ],
          "scatter": [
           {
            "fillpattern": {
             "fillmode": "overlay",
             "size": 10,
             "solidity": 0.2
            },
            "type": "scatter"
           }
          ],
          "scatter3d": [
           {
            "line": {
             "colorbar": {
              "outlinewidth": 0,
              "ticks": ""
             }
            },
            "marker": {
             "colorbar": {
              "outlinewidth": 0,
              "ticks": ""
             }
            },
            "type": "scatter3d"
           }
          ],
          "scattercarpet": [
           {
            "marker": {
             "colorbar": {
              "outlinewidth": 0,
              "ticks": ""
             }
            },
            "type": "scattercarpet"
           }
          ],
          "scattergeo": [
           {
            "marker": {
             "colorbar": {
              "outlinewidth": 0,
              "ticks": ""
             }
            },
            "type": "scattergeo"
           }
          ],
          "scattergl": [
           {
            "marker": {
             "colorbar": {
              "outlinewidth": 0,
              "ticks": ""
             }
            },
            "type": "scattergl"
           }
          ],
          "scattermap": [
           {
            "marker": {
             "colorbar": {
              "outlinewidth": 0,
              "ticks": ""
             }
            },
            "type": "scattermap"
           }
          ],
          "scattermapbox": [
           {
            "marker": {
             "colorbar": {
              "outlinewidth": 0,
              "ticks": ""
             }
            },
            "type": "scattermapbox"
           }
          ],
          "scatterpolar": [
           {
            "marker": {
             "colorbar": {
              "outlinewidth": 0,
              "ticks": ""
             }
            },
            "type": "scatterpolar"
           }
          ],
          "scatterpolargl": [
           {
            "marker": {
             "colorbar": {
              "outlinewidth": 0,
              "ticks": ""
             }
            },
            "type": "scatterpolargl"
           }
          ],
          "scatterternary": [
           {
            "marker": {
             "colorbar": {
              "outlinewidth": 0,
              "ticks": ""
             }
            },
            "type": "scatterternary"
           }
          ],
          "surface": [
           {
            "colorbar": {
             "outlinewidth": 0,
             "ticks": ""
            },
            "colorscale": [
             [
              0,
              "#0d0887"
             ],
             [
              0.1111111111111111,
              "#46039f"
             ],
             [
              0.2222222222222222,
              "#7201a8"
             ],
             [
              0.3333333333333333,
              "#9c179e"
             ],
             [
              0.4444444444444444,
              "#bd3786"
             ],
             [
              0.5555555555555556,
              "#d8576b"
             ],
             [
              0.6666666666666666,
              "#ed7953"
             ],
             [
              0.7777777777777778,
              "#fb9f3a"
             ],
             [
              0.8888888888888888,
              "#fdca26"
             ],
             [
              1,
              "#f0f921"
             ]
            ],
            "type": "surface"
           }
          ],
          "table": [
           {
            "cells": {
             "fill": {
              "color": "#EBF0F8"
             },
             "line": {
              "color": "white"
             }
            },
            "header": {
             "fill": {
              "color": "#C8D4E3"
             },
             "line": {
              "color": "white"
             }
            },
            "type": "table"
           }
          ]
         },
         "layout": {
          "annotationdefaults": {
           "arrowcolor": "#2a3f5f",
           "arrowhead": 0,
           "arrowwidth": 1
          },
          "autotypenumbers": "strict",
          "coloraxis": {
           "colorbar": {
            "outlinewidth": 0,
            "ticks": ""
           }
          },
          "colorscale": {
           "diverging": [
            [
             0,
             "#8e0152"
            ],
            [
             0.1,
             "#c51b7d"
            ],
            [
             0.2,
             "#de77ae"
            ],
            [
             0.3,
             "#f1b6da"
            ],
            [
             0.4,
             "#fde0ef"
            ],
            [
             0.5,
             "#f7f7f7"
            ],
            [
             0.6,
             "#e6f5d0"
            ],
            [
             0.7,
             "#b8e186"
            ],
            [
             0.8,
             "#7fbc41"
            ],
            [
             0.9,
             "#4d9221"
            ],
            [
             1,
             "#276419"
            ]
           ],
           "sequential": [
            [
             0,
             "#0d0887"
            ],
            [
             0.1111111111111111,
             "#46039f"
            ],
            [
             0.2222222222222222,
             "#7201a8"
            ],
            [
             0.3333333333333333,
             "#9c179e"
            ],
            [
             0.4444444444444444,
             "#bd3786"
            ],
            [
             0.5555555555555556,
             "#d8576b"
            ],
            [
             0.6666666666666666,
             "#ed7953"
            ],
            [
             0.7777777777777778,
             "#fb9f3a"
            ],
            [
             0.8888888888888888,
             "#fdca26"
            ],
            [
             1,
             "#f0f921"
            ]
           ],
           "sequentialminus": [
            [
             0,
             "#0d0887"
            ],
            [
             0.1111111111111111,
             "#46039f"
            ],
            [
             0.2222222222222222,
             "#7201a8"
            ],
            [
             0.3333333333333333,
             "#9c179e"
            ],
            [
             0.4444444444444444,
             "#bd3786"
            ],
            [
             0.5555555555555556,
             "#d8576b"
            ],
            [
             0.6666666666666666,
             "#ed7953"
            ],
            [
             0.7777777777777778,
             "#fb9f3a"
            ],
            [
             0.8888888888888888,
             "#fdca26"
            ],
            [
             1,
             "#f0f921"
            ]
           ]
          },
          "colorway": [
           "#636efa",
           "#EF553B",
           "#00cc96",
           "#ab63fa",
           "#FFA15A",
           "#19d3f3",
           "#FF6692",
           "#B6E880",
           "#FF97FF",
           "#FECB52"
          ],
          "font": {
           "color": "#2a3f5f"
          },
          "geo": {
           "bgcolor": "white",
           "lakecolor": "white",
           "landcolor": "#E5ECF6",
           "showlakes": true,
           "showland": true,
           "subunitcolor": "white"
          },
          "hoverlabel": {
           "align": "left"
          },
          "hovermode": "closest",
          "mapbox": {
           "style": "light"
          },
          "paper_bgcolor": "white",
          "plot_bgcolor": "#E5ECF6",
          "polar": {
           "angularaxis": {
            "gridcolor": "white",
            "linecolor": "white",
            "ticks": ""
           },
           "bgcolor": "#E5ECF6",
           "radialaxis": {
            "gridcolor": "white",
            "linecolor": "white",
            "ticks": ""
           }
          },
          "scene": {
           "xaxis": {
            "backgroundcolor": "#E5ECF6",
            "gridcolor": "white",
            "gridwidth": 2,
            "linecolor": "white",
            "showbackground": true,
            "ticks": "",
            "zerolinecolor": "white"
           },
           "yaxis": {
            "backgroundcolor": "#E5ECF6",
            "gridcolor": "white",
            "gridwidth": 2,
            "linecolor": "white",
            "showbackground": true,
            "ticks": "",
            "zerolinecolor": "white"
           },
           "zaxis": {
            "backgroundcolor": "#E5ECF6",
            "gridcolor": "white",
            "gridwidth": 2,
            "linecolor": "white",
            "showbackground": true,
            "ticks": "",
            "zerolinecolor": "white"
           }
          },
          "shapedefaults": {
           "line": {
            "color": "#2a3f5f"
           }
          },
          "ternary": {
           "aaxis": {
            "gridcolor": "white",
            "linecolor": "white",
            "ticks": ""
           },
           "baxis": {
            "gridcolor": "white",
            "linecolor": "white",
            "ticks": ""
           },
           "bgcolor": "#E5ECF6",
           "caxis": {
            "gridcolor": "white",
            "linecolor": "white",
            "ticks": ""
           }
          },
          "title": {
           "x": 0.05
          },
          "xaxis": {
           "automargin": true,
           "gridcolor": "white",
           "linecolor": "white",
           "ticks": "",
           "title": {
            "standoff": 15
           },
           "zerolinecolor": "white",
           "zerolinewidth": 2
          },
          "yaxis": {
           "automargin": true,
           "gridcolor": "white",
           "linecolor": "white",
           "ticks": "",
           "title": {
            "standoff": 15
           },
           "zerolinecolor": "white",
           "zerolinewidth": 2
          }
         }
        },
        "title": {
         "font": {
          "color": "black",
          "family": "Arial",
          "size": 24
         },
         "text": "Tendencia de largo plazo del valor FOB de las exportaciones"
        },
        "xaxis": {
         "tickfont": {
          "size": 12
         },
         "title": {
          "text": "Año"
         }
        },
        "yaxis": {
         "tickfont": {
          "size": 12
         },
         "title": {
          "text": "FOB Dólares"
         }
        }
       }
      }
     },
     "metadata": {},
     "output_type": "display_data"
    }
   ],
   "source": [
    "y_pred = intercept + slope * x\n",
    "\n",
    "fig = go.Figure()\n",
    "\n",
    "fig.add_trace(go.Scatter(\n",
    "    x=x,\n",
    "    y=y,\n",
    "    mode=\"markers\",\n",
    "    name=\"Exportaciones anuales\",\n",
    "    marker=dict(color=\"steelblue\", size=8)\n",
    "))\n",
    "\n",
    "fig.add_trace(go.Scatter(\n",
    "    x=x,\n",
    "    y=y_pred,\n",
    "    mode=\"lines\",\n",
    "    name=\"Tendencia lineal\",\n",
    "    line=dict(color=\"red\", dash=\"dash\")\n",
    "))\n",
    "\n",
    "fig.update_layout(\n",
    "    title=\"Tendencia de largo plazo del valor FOB de las exportaciones\",\n",
    "    xaxis_title=\"Año\",\n",
    "    yaxis_title=\"FOB Dólares\",\n",
    "    title_font=dict(size=24, family=\"Arial\", color=\"black\"),\n",
    "    xaxis_tickfont=dict(size=12),\n",
    "    yaxis_tickfont=dict(size=12),\n",
    "    plot_bgcolor=\"white\",\n",
    "    showlegend=True\n",
    ")\n",
    "fig.show()"
   ]
  },
  {
   "cell_type": "markdown",
   "id": "9eb2799d",
   "metadata": {},
   "source": [
    "###### *__Finalidad:__ Identificar la tendencia general de las exportaciones a lo largo del tiempo mediante una regresión lineal, lo que permite observar si existe un crecimiento o disminución sostenida en el valor FOB anual y qué tan bien se ajusta esta tendencia a los datos históricos.*"
   ]
  }
 ],
 "metadata": {
  "kernelspec": {
   "display_name": ".env",
   "language": "python",
   "name": "python3"
  },
  "language_info": {
   "codemirror_mode": {
    "name": "ipython",
    "version": 3
   },
   "file_extension": ".py",
   "mimetype": "text/x-python",
   "name": "python",
   "nbconvert_exporter": "python",
   "pygments_lexer": "ipython3",
   "version": "3.13.0"
  }
 },
 "nbformat": 4,
 "nbformat_minor": 5
}
