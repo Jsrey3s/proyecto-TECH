{
 "cells": [
  {
   "cell_type": "markdown",
   "id": "a00ef008",
   "metadata": {},
   "source": [
    "### Importar en los notebooks\n",
    "```python\n",
    "import sys\n",
    "sys.path.append('..')\n",
    "from utils.paths import PATHS, PARAMS, get_file_path, get_data_path\n"
   ]
  },
  {
   "cell_type": "markdown",
   "id": "f70a8b52",
   "metadata": {},
   "source": [
    "### Acceso directo\n",
    "```python\n",
    "df = pd.read_csv(get_file_path('cleaned', 'exportaciones'))\n",
    "paises = pd.read_csv(get_file_path('mappings', 'paises'))"
   ]
  },
  {
   "cell_type": "markdown",
   "id": "6b52069b",
   "metadata": {},
   "source": [
    "### O acceso por carpeta\n",
    "```python\n",
    "raw_folder = get_data_path('raw')\n",
    "cleaned_folder = get_data_path('cleaned')"
   ]
  },
  {
   "cell_type": "markdown",
   "id": "3b6d5972",
   "metadata": {},
   "source": [
    "### Construir ruta personalizada\n",
    "```python\n",
    "mi_archivo = get_data_path('raw', 'nuevo_archivo.csv')"
   ]
  },
  {
   "cell_type": "markdown",
   "id": "93818503",
   "metadata": {},
   "source": [
    "### Usando `get_file_path`"
   ]
  },
  {
   "cell_type": "code",
   "execution_count": 10,
   "id": "9c092035",
   "metadata": {},
   "outputs": [],
   "source": [
    "import pandas as pd\n",
    "import sys\n",
    "sys.path.append('..')\n",
    "from utils.paths import get_file_path\n"
   ]
  },
  {
   "cell_type": "code",
   "execution_count": 11,
   "id": "ca711b0c",
   "metadata": {},
   "outputs": [],
   "source": [
    "df = pd.read_csv(get_file_path('mappings', 'paises'))"
   ]
  },
  {
   "cell_type": "code",
   "execution_count": 12,
   "id": "eef6bb09",
   "metadata": {},
   "outputs": [
    {
     "data": {
      "application/vnd.microsoft.datawrangler.viewer.v0+json": {
       "columns": [
        {
         "name": "index",
         "rawType": "int64",
         "type": "integer"
        },
        {
         "name": "Código",
         "rawType": "int64",
         "type": "integer"
        },
        {
         "name": "Nombre",
         "rawType": "object",
         "type": "string"
        }
       ],
       "ref": "93e4c278-bb00-4886-b5a4-bc8a2afa6b21",
       "rows": [
        [
         "0",
         "13",
         "Afganistán"
        ],
        [
         "1",
         "15",
         "Islas Åland"
        ],
        [
         "2",
         "17",
         "Albania"
        ],
        [
         "3",
         "23",
         "Alemania"
        ],
        [
         "4",
         "24",
         "Antártida"
        ]
       ],
       "shape": {
        "columns": 2,
        "rows": 5
       }
      },
      "text/html": [
       "<div>\n",
       "<style scoped>\n",
       "    .dataframe tbody tr th:only-of-type {\n",
       "        vertical-align: middle;\n",
       "    }\n",
       "\n",
       "    .dataframe tbody tr th {\n",
       "        vertical-align: top;\n",
       "    }\n",
       "\n",
       "    .dataframe thead th {\n",
       "        text-align: right;\n",
       "    }\n",
       "</style>\n",
       "<table border=\"1\" class=\"dataframe\">\n",
       "  <thead>\n",
       "    <tr style=\"text-align: right;\">\n",
       "      <th></th>\n",
       "      <th>Código</th>\n",
       "      <th>Nombre</th>\n",
       "    </tr>\n",
       "  </thead>\n",
       "  <tbody>\n",
       "    <tr>\n",
       "      <th>0</th>\n",
       "      <td>13</td>\n",
       "      <td>Afganistán</td>\n",
       "    </tr>\n",
       "    <tr>\n",
       "      <th>1</th>\n",
       "      <td>15</td>\n",
       "      <td>Islas Åland</td>\n",
       "    </tr>\n",
       "    <tr>\n",
       "      <th>2</th>\n",
       "      <td>17</td>\n",
       "      <td>Albania</td>\n",
       "    </tr>\n",
       "    <tr>\n",
       "      <th>3</th>\n",
       "      <td>23</td>\n",
       "      <td>Alemania</td>\n",
       "    </tr>\n",
       "    <tr>\n",
       "      <th>4</th>\n",
       "      <td>24</td>\n",
       "      <td>Antártida</td>\n",
       "    </tr>\n",
       "  </tbody>\n",
       "</table>\n",
       "</div>"
      ],
      "text/plain": [
       "   Código       Nombre\n",
       "0      13   Afganistán\n",
       "1      15  Islas Åland\n",
       "2      17      Albania\n",
       "3      23     Alemania\n",
       "4      24    Antártida"
      ]
     },
     "execution_count": 12,
     "metadata": {},
     "output_type": "execute_result"
    }
   ],
   "source": [
    "df.head()"
   ]
  }
 ],
 "metadata": {
  "kernelspec": {
   "display_name": ".env",
   "language": "python",
   "name": "python3"
  },
  "language_info": {
   "codemirror_mode": {
    "name": "ipython",
    "version": 3
   },
   "file_extension": ".py",
   "mimetype": "text/x-python",
   "name": "python",
   "nbconvert_exporter": "python",
   "pygments_lexer": "ipython3",
   "version": "3.13.0"
  }
 },
 "nbformat": 4,
 "nbformat_minor": 5
}
