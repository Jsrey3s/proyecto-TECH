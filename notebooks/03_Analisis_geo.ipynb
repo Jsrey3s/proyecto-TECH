{
 "cells": [
  {
   "cell_type": "code",
   "execution_count": 1,
   "id": "51ed91a0",
   "metadata": {},
   "outputs": [],
   "source": [
    "import sys\n",
    "sys.path.append('..')\n",
    "from utils.paths import get_file_path\n",
    "\n",
    "import polars as pl\n",
    "import pandas as pd\n",
    "import plotly.express as px\n",
    "import plotly.graph_objects as go"
   ]
  },
  {
   "cell_type": "code",
   "execution_count": 2,
   "id": "51d57a7d",
   "metadata": {},
   "outputs": [],
   "source": [
    "def estilo(fig):\n",
    "    fig.update_layout(\n",
    "        title_font=dict(size=24, family=\"Arial\", color=\"black\"),\n",
    "        xaxis_tickangle=-45,\n",
    "        xaxis_tickfont=dict(size=12),\n",
    "        yaxis_tickfont=dict(size=12),\n",
    "        plot_bgcolor=\"white\",\n",
    "        paper_bgcolor=\"white\",\n",
    "        showlegend=False,\n",
    "        margin=dict(t=80, l=40, r=20, b=120),\n",
    "    )\n",
    "    return fig"
   ]
  },
  {
   "cell_type": "code",
   "execution_count": 3,
   "id": "1a486544",
   "metadata": {},
   "outputs": [],
   "source": [
    "df = pl.scan_csv(\n",
    "    get_file_path('cleaned', 'exportaciones'),\n",
    "    low_memory=True\n",
    ").collect()"
   ]
  },
  {
   "cell_type": "markdown",
   "id": "bbe6c98a",
   "metadata": {},
   "source": [
    "### Concentración de mercados: Cálculo del Índice Herfindahl por país"
   ]
  },
  {
   "cell_type": "code",
   "execution_count": 4,
   "id": "f0e4d770",
   "metadata": {},
   "outputs": [
    {
     "name": "stdout",
     "output_type": "stream",
     "text": [
      "Índice HHI por país: 0.1190\n"
     ]
    }
   ],
   "source": [
    "fob_pais = (\n",
    "    df.group_by(\"PAIS\")\n",
    "    .agg(pl.col(\"FOBDOL\").sum().alias(\"FOBDOL\"))\n",
    ")\n",
    "\n",
    "total_fob = fob_pais.select(pl.col(\"FOBDOL\").sum()).item()\n",
    "\n",
    "fob_pais = (\n",
    "    fob_pais.with_columns(\n",
    "        (pl.col(\"FOBDOL\") / total_fob).alias(\"participacion\")\n",
    "    )\n",
    "    .with_columns(\n",
    "        (pl.col(\"participacion\") ** 2).alias(\"participacion_cuadrada\")\n",
    "    )\n",
    ")\n",
    "\n",
    "hhi_paises = fob_pais.select(pl.col(\"participacion_cuadrada\").sum()).item()\n",
    "print(f\"Índice HHI por país: {hhi_paises:.4f}\")\n",
    "\n",
    "fob_pais_pd = fob_pais.to_pandas()\n",
    "\n",
    "fob_pais_pd = fob_pais_pd[fob_pais_pd[\"participacion\"] > 0.01]"
   ]
  },
  {
   "cell_type": "markdown",
   "id": "505072fd",
   "metadata": {},
   "source": [
    "### Participación de países con más del 1% en las exportaciones totales"
   ]
  },
  {
   "cell_type": "code",
   "execution_count": 5,
   "id": "35e67c84",
   "metadata": {},
   "outputs": [
    {
     "data": {
      "application/vnd.plotly.v1+json": {
       "config": {
        "plotlyServerURL": "https://plot.ly"
       },
       "data": [
        {
         "hovertemplate": "Participación=%{x}<br>País=%{y}<extra></extra>",
         "legendgroup": "",
         "marker": {
          "color": "#636efa",
          "pattern": {
           "shape": ""
          }
         },
         "name": "",
         "orientation": "h",
         "showlegend": false,
         "textposition": "auto",
         "type": "bar",
         "x": {
          "bdata": "PrBh4dMjhT9xmf2r7ISGP6HBFAhUNYc/zdwhuB3thz82FMgHOP2IP/+gS9M0kok/JhYTQuKaiT8qtd7TxcaOP4rU5xlbI48/l80IDbBPkz+oK+YcPRCZP8oM261gs5k/ULwEIRQdmj9+wfowaG+aPworwXoZFJ0/4cvNQfMinj8QJuVcgOmhP+SYm2MUk6Q/CgOBhf5spj9LjPSUxSerP+0l31VDi60/VOPZO3hf1D8=",
          "dtype": "f8"
         },
         "xaxis": "x",
         "y": [
          "Puerto Rico",
          "Japón",
          "Suiza",
          "Bélgica",
          "República Dominicana",
          "Canadá",
          "Alemania",
          "Reino Unido",
          "Italia",
          "Turquía",
          "Chile",
          "India",
          "México",
          "Perú",
          "España",
          "Brasil",
          "Países Bajos",
          "Ecuador",
          "Venezuela",
          "Panamá",
          "China",
          "Estados Unidos"
         ],
         "yaxis": "y"
        }
       ],
       "layout": {
        "barmode": "relative",
        "legend": {
         "tracegroupgap": 0
        },
        "margin": {
         "b": 40,
         "l": 100,
         "r": 40,
         "t": 60
        },
        "paper_bgcolor": "white",
        "plot_bgcolor": "white",
        "showlegend": false,
        "template": {
         "data": {
          "bar": [
           {
            "error_x": {
             "color": "#2a3f5f"
            },
            "error_y": {
             "color": "#2a3f5f"
            },
            "marker": {
             "line": {
              "color": "#E5ECF6",
              "width": 0.5
             },
             "pattern": {
              "fillmode": "overlay",
              "size": 10,
              "solidity": 0.2
             }
            },
            "type": "bar"
           }
          ],
          "barpolar": [
           {
            "marker": {
             "line": {
              "color": "#E5ECF6",
              "width": 0.5
             },
             "pattern": {
              "fillmode": "overlay",
              "size": 10,
              "solidity": 0.2
             }
            },
            "type": "barpolar"
           }
          ],
          "carpet": [
           {
            "aaxis": {
             "endlinecolor": "#2a3f5f",
             "gridcolor": "white",
             "linecolor": "white",
             "minorgridcolor": "white",
             "startlinecolor": "#2a3f5f"
            },
            "baxis": {
             "endlinecolor": "#2a3f5f",
             "gridcolor": "white",
             "linecolor": "white",
             "minorgridcolor": "white",
             "startlinecolor": "#2a3f5f"
            },
            "type": "carpet"
           }
          ],
          "choropleth": [
           {
            "colorbar": {
             "outlinewidth": 0,
             "ticks": ""
            },
            "type": "choropleth"
           }
          ],
          "contour": [
           {
            "colorbar": {
             "outlinewidth": 0,
             "ticks": ""
            },
            "colorscale": [
             [
              0,
              "#0d0887"
             ],
             [
              0.1111111111111111,
              "#46039f"
             ],
             [
              0.2222222222222222,
              "#7201a8"
             ],
             [
              0.3333333333333333,
              "#9c179e"
             ],
             [
              0.4444444444444444,
              "#bd3786"
             ],
             [
              0.5555555555555556,
              "#d8576b"
             ],
             [
              0.6666666666666666,
              "#ed7953"
             ],
             [
              0.7777777777777778,
              "#fb9f3a"
             ],
             [
              0.8888888888888888,
              "#fdca26"
             ],
             [
              1,
              "#f0f921"
             ]
            ],
            "type": "contour"
           }
          ],
          "contourcarpet": [
           {
            "colorbar": {
             "outlinewidth": 0,
             "ticks": ""
            },
            "type": "contourcarpet"
           }
          ],
          "heatmap": [
           {
            "colorbar": {
             "outlinewidth": 0,
             "ticks": ""
            },
            "colorscale": [
             [
              0,
              "#0d0887"
             ],
             [
              0.1111111111111111,
              "#46039f"
             ],
             [
              0.2222222222222222,
              "#7201a8"
             ],
             [
              0.3333333333333333,
              "#9c179e"
             ],
             [
              0.4444444444444444,
              "#bd3786"
             ],
             [
              0.5555555555555556,
              "#d8576b"
             ],
             [
              0.6666666666666666,
              "#ed7953"
             ],
             [
              0.7777777777777778,
              "#fb9f3a"
             ],
             [
              0.8888888888888888,
              "#fdca26"
             ],
             [
              1,
              "#f0f921"
             ]
            ],
            "type": "heatmap"
           }
          ],
          "histogram": [
           {
            "marker": {
             "pattern": {
              "fillmode": "overlay",
              "size": 10,
              "solidity": 0.2
             }
            },
            "type": "histogram"
           }
          ],
          "histogram2d": [
           {
            "colorbar": {
             "outlinewidth": 0,
             "ticks": ""
            },
            "colorscale": [
             [
              0,
              "#0d0887"
             ],
             [
              0.1111111111111111,
              "#46039f"
             ],
             [
              0.2222222222222222,
              "#7201a8"
             ],
             [
              0.3333333333333333,
              "#9c179e"
             ],
             [
              0.4444444444444444,
              "#bd3786"
             ],
             [
              0.5555555555555556,
              "#d8576b"
             ],
             [
              0.6666666666666666,
              "#ed7953"
             ],
             [
              0.7777777777777778,
              "#fb9f3a"
             ],
             [
              0.8888888888888888,
              "#fdca26"
             ],
             [
              1,
              "#f0f921"
             ]
            ],
            "type": "histogram2d"
           }
          ],
          "histogram2dcontour": [
           {
            "colorbar": {
             "outlinewidth": 0,
             "ticks": ""
            },
            "colorscale": [
             [
              0,
              "#0d0887"
             ],
             [
              0.1111111111111111,
              "#46039f"
             ],
             [
              0.2222222222222222,
              "#7201a8"
             ],
             [
              0.3333333333333333,
              "#9c179e"
             ],
             [
              0.4444444444444444,
              "#bd3786"
             ],
             [
              0.5555555555555556,
              "#d8576b"
             ],
             [
              0.6666666666666666,
              "#ed7953"
             ],
             [
              0.7777777777777778,
              "#fb9f3a"
             ],
             [
              0.8888888888888888,
              "#fdca26"
             ],
             [
              1,
              "#f0f921"
             ]
            ],
            "type": "histogram2dcontour"
           }
          ],
          "mesh3d": [
           {
            "colorbar": {
             "outlinewidth": 0,
             "ticks": ""
            },
            "type": "mesh3d"
           }
          ],
          "parcoords": [
           {
            "line": {
             "colorbar": {
              "outlinewidth": 0,
              "ticks": ""
             }
            },
            "type": "parcoords"
           }
          ],
          "pie": [
           {
            "automargin": true,
            "type": "pie"
           }
          ],
          "scatter": [
           {
            "fillpattern": {
             "fillmode": "overlay",
             "size": 10,
             "solidity": 0.2
            },
            "type": "scatter"
           }
          ],
          "scatter3d": [
           {
            "line": {
             "colorbar": {
              "outlinewidth": 0,
              "ticks": ""
             }
            },
            "marker": {
             "colorbar": {
              "outlinewidth": 0,
              "ticks": ""
             }
            },
            "type": "scatter3d"
           }
          ],
          "scattercarpet": [
           {
            "marker": {
             "colorbar": {
              "outlinewidth": 0,
              "ticks": ""
             }
            },
            "type": "scattercarpet"
           }
          ],
          "scattergeo": [
           {
            "marker": {
             "colorbar": {
              "outlinewidth": 0,
              "ticks": ""
             }
            },
            "type": "scattergeo"
           }
          ],
          "scattergl": [
           {
            "marker": {
             "colorbar": {
              "outlinewidth": 0,
              "ticks": ""
             }
            },
            "type": "scattergl"
           }
          ],
          "scattermap": [
           {
            "marker": {
             "colorbar": {
              "outlinewidth": 0,
              "ticks": ""
             }
            },
            "type": "scattermap"
           }
          ],
          "scattermapbox": [
           {
            "marker": {
             "colorbar": {
              "outlinewidth": 0,
              "ticks": ""
             }
            },
            "type": "scattermapbox"
           }
          ],
          "scatterpolar": [
           {
            "marker": {
             "colorbar": {
              "outlinewidth": 0,
              "ticks": ""
             }
            },
            "type": "scatterpolar"
           }
          ],
          "scatterpolargl": [
           {
            "marker": {
             "colorbar": {
              "outlinewidth": 0,
              "ticks": ""
             }
            },
            "type": "scatterpolargl"
           }
          ],
          "scatterternary": [
           {
            "marker": {
             "colorbar": {
              "outlinewidth": 0,
              "ticks": ""
             }
            },
            "type": "scatterternary"
           }
          ],
          "surface": [
           {
            "colorbar": {
             "outlinewidth": 0,
             "ticks": ""
            },
            "colorscale": [
             [
              0,
              "#0d0887"
             ],
             [
              0.1111111111111111,
              "#46039f"
             ],
             [
              0.2222222222222222,
              "#7201a8"
             ],
             [
              0.3333333333333333,
              "#9c179e"
             ],
             [
              0.4444444444444444,
              "#bd3786"
             ],
             [
              0.5555555555555556,
              "#d8576b"
             ],
             [
              0.6666666666666666,
              "#ed7953"
             ],
             [
              0.7777777777777778,
              "#fb9f3a"
             ],
             [
              0.8888888888888888,
              "#fdca26"
             ],
             [
              1,
              "#f0f921"
             ]
            ],
            "type": "surface"
           }
          ],
          "table": [
           {
            "cells": {
             "fill": {
              "color": "#EBF0F8"
             },
             "line": {
              "color": "white"
             }
            },
            "header": {
             "fill": {
              "color": "#C8D4E3"
             },
             "line": {
              "color": "white"
             }
            },
            "type": "table"
           }
          ]
         },
         "layout": {
          "annotationdefaults": {
           "arrowcolor": "#2a3f5f",
           "arrowhead": 0,
           "arrowwidth": 1
          },
          "autotypenumbers": "strict",
          "coloraxis": {
           "colorbar": {
            "outlinewidth": 0,
            "ticks": ""
           }
          },
          "colorscale": {
           "diverging": [
            [
             0,
             "#8e0152"
            ],
            [
             0.1,
             "#c51b7d"
            ],
            [
             0.2,
             "#de77ae"
            ],
            [
             0.3,
             "#f1b6da"
            ],
            [
             0.4,
             "#fde0ef"
            ],
            [
             0.5,
             "#f7f7f7"
            ],
            [
             0.6,
             "#e6f5d0"
            ],
            [
             0.7,
             "#b8e186"
            ],
            [
             0.8,
             "#7fbc41"
            ],
            [
             0.9,
             "#4d9221"
            ],
            [
             1,
             "#276419"
            ]
           ],
           "sequential": [
            [
             0,
             "#0d0887"
            ],
            [
             0.1111111111111111,
             "#46039f"
            ],
            [
             0.2222222222222222,
             "#7201a8"
            ],
            [
             0.3333333333333333,
             "#9c179e"
            ],
            [
             0.4444444444444444,
             "#bd3786"
            ],
            [
             0.5555555555555556,
             "#d8576b"
            ],
            [
             0.6666666666666666,
             "#ed7953"
            ],
            [
             0.7777777777777778,
             "#fb9f3a"
            ],
            [
             0.8888888888888888,
             "#fdca26"
            ],
            [
             1,
             "#f0f921"
            ]
           ],
           "sequentialminus": [
            [
             0,
             "#0d0887"
            ],
            [
             0.1111111111111111,
             "#46039f"
            ],
            [
             0.2222222222222222,
             "#7201a8"
            ],
            [
             0.3333333333333333,
             "#9c179e"
            ],
            [
             0.4444444444444444,
             "#bd3786"
            ],
            [
             0.5555555555555556,
             "#d8576b"
            ],
            [
             0.6666666666666666,
             "#ed7953"
            ],
            [
             0.7777777777777778,
             "#fb9f3a"
            ],
            [
             0.8888888888888888,
             "#fdca26"
            ],
            [
             1,
             "#f0f921"
            ]
           ]
          },
          "colorway": [
           "#636efa",
           "#EF553B",
           "#00cc96",
           "#ab63fa",
           "#FFA15A",
           "#19d3f3",
           "#FF6692",
           "#B6E880",
           "#FF97FF",
           "#FECB52"
          ],
          "font": {
           "color": "#2a3f5f"
          },
          "geo": {
           "bgcolor": "white",
           "lakecolor": "white",
           "landcolor": "#E5ECF6",
           "showlakes": true,
           "showland": true,
           "subunitcolor": "white"
          },
          "hoverlabel": {
           "align": "left"
          },
          "hovermode": "closest",
          "mapbox": {
           "style": "light"
          },
          "paper_bgcolor": "white",
          "plot_bgcolor": "#E5ECF6",
          "polar": {
           "angularaxis": {
            "gridcolor": "white",
            "linecolor": "white",
            "ticks": ""
           },
           "bgcolor": "#E5ECF6",
           "radialaxis": {
            "gridcolor": "white",
            "linecolor": "white",
            "ticks": ""
           }
          },
          "scene": {
           "xaxis": {
            "backgroundcolor": "#E5ECF6",
            "gridcolor": "white",
            "gridwidth": 2,
            "linecolor": "white",
            "showbackground": true,
            "ticks": "",
            "zerolinecolor": "white"
           },
           "yaxis": {
            "backgroundcolor": "#E5ECF6",
            "gridcolor": "white",
            "gridwidth": 2,
            "linecolor": "white",
            "showbackground": true,
            "ticks": "",
            "zerolinecolor": "white"
           },
           "zaxis": {
            "backgroundcolor": "#E5ECF6",
            "gridcolor": "white",
            "gridwidth": 2,
            "linecolor": "white",
            "showbackground": true,
            "ticks": "",
            "zerolinecolor": "white"
           }
          },
          "shapedefaults": {
           "line": {
            "color": "#2a3f5f"
           }
          },
          "ternary": {
           "aaxis": {
            "gridcolor": "white",
            "linecolor": "white",
            "ticks": ""
           },
           "baxis": {
            "gridcolor": "white",
            "linecolor": "white",
            "ticks": ""
           },
           "bgcolor": "#E5ECF6",
           "caxis": {
            "gridcolor": "white",
            "linecolor": "white",
            "ticks": ""
           }
          },
          "title": {
           "x": 0.05
          },
          "xaxis": {
           "automargin": true,
           "gridcolor": "white",
           "linecolor": "white",
           "ticks": "",
           "title": {
            "standoff": 15
           },
           "zerolinecolor": "white",
           "zerolinewidth": 2
          },
          "yaxis": {
           "automargin": true,
           "gridcolor": "white",
           "linecolor": "white",
           "ticks": "",
           "title": {
            "standoff": 15
           },
           "zerolinecolor": "white",
           "zerolinewidth": 2
          }
         }
        },
        "title": {
         "font": {
          "color": "black",
          "family": "Arial",
          "size": 24
         },
         "text": "Participación de países con más del 1% en las exportaciones totales"
        },
        "xaxis": {
         "anchor": "y",
         "domain": [
          0,
          1
         ],
         "tickangle": -45,
         "tickfont": {
          "size": 12
         },
         "tickformat": ".2%",
         "title": {
          "text": "Participación"
         }
        },
        "yaxis": {
         "anchor": "x",
         "domain": [
          0,
          1
         ],
         "tickfont": {
          "size": 12
         },
         "title": {
          "text": "País"
         }
        }
       }
      }
     },
     "metadata": {},
     "output_type": "display_data"
    }
   ],
   "source": [
    "fig = px.bar(\n",
    "    fob_pais_pd.sort_values(\"participacion\", ascending=True),\n",
    "    x=\"participacion\",\n",
    "    y=\"PAIS\",\n",
    "    orientation=\"h\",\n",
    "    title=\"Participación de países con más del 1% en las exportaciones totales\",\n",
    "    labels={\"participacion\": \"Participación\", \"PAIS\": \"País\"},\n",
    ")\n",
    "fig = estilo(fig)\n",
    "fig.update_layout(xaxis_tickformat=\".2%\", margin=dict(t=60, l=100, r=40, b=40))\n",
    "fig.show()"
   ]
  },
  {
   "cell_type": "markdown",
   "id": "e6baf894",
   "metadata": {},
   "source": [
    "> ###### __Finalidad:__ Visualizar los países que representan al menos el 1% del total de las exportaciones, permitiendo identificar los principales destinos y evaluar el grado de diversificación geográfica del comercio exterior.\n",
    "\n",
    "__Conclusión:__ Las exportaciones están altamente concentradas en Estados Unidos, que supera el 30% de participación, seguido por China y Panamá con niveles notablemente menores. Aunque hay otros países relevantes, la distribución no es equitativa, lo que sugiere una dependencia significativa de unos pocos mercados internacionales."
   ]
  },
  {
   "cell_type": "markdown",
   "id": "ea7668e2",
   "metadata": {},
   "source": [
    "### Top 10 países con mayor impacto en el índice HHI"
   ]
  },
  {
   "cell_type": "code",
   "execution_count": 6,
   "id": "42c20bb9",
   "metadata": {},
   "outputs": [
    {
     "data": {
      "application/vnd.plotly.v1+json": {
       "config": {
        "plotlyServerURL": "https://plot.ly"
       },
       "data": [
        {
         "hovertemplate": "Participación²=%{x}<br>País=%{y}<extra></extra>",
         "legendgroup": "",
         "marker": {
          "color": "#636efa",
          "pattern": {
           "shape": ""
          }
         },
         "name": "",
         "orientation": "h",
         "showlegend": false,
         "textposition": "auto",
         "type": "bar",
         "x": {
          "bdata": "YvbuPObwuT/UJywdyEZrP421u9lOC2c/H+n9aqJuXz/ERMX/+nRaP0RT/nOADVQ/hOOGR65hTD8d2WvOemxKP7SEviuN1kU//zMwIltPRT8=",
          "dtype": "f8"
         },
         "xaxis": "x",
         "y": [
          "Estados Unidos",
          "China",
          "Panamá",
          "Venezuela",
          "Ecuador",
          "Países Bajos",
          "Brasil",
          "España",
          "Perú",
          "México"
         ],
         "yaxis": "y"
        }
       ],
       "layout": {
        "barmode": "relative",
        "legend": {
         "tracegroupgap": 0
        },
        "margin": {
         "b": 120,
         "l": 40,
         "r": 20,
         "t": 80
        },
        "paper_bgcolor": "white",
        "plot_bgcolor": "white",
        "showlegend": false,
        "template": {
         "data": {
          "bar": [
           {
            "error_x": {
             "color": "#2a3f5f"
            },
            "error_y": {
             "color": "#2a3f5f"
            },
            "marker": {
             "line": {
              "color": "#E5ECF6",
              "width": 0.5
             },
             "pattern": {
              "fillmode": "overlay",
              "size": 10,
              "solidity": 0.2
             }
            },
            "type": "bar"
           }
          ],
          "barpolar": [
           {
            "marker": {
             "line": {
              "color": "#E5ECF6",
              "width": 0.5
             },
             "pattern": {
              "fillmode": "overlay",
              "size": 10,
              "solidity": 0.2
             }
            },
            "type": "barpolar"
           }
          ],
          "carpet": [
           {
            "aaxis": {
             "endlinecolor": "#2a3f5f",
             "gridcolor": "white",
             "linecolor": "white",
             "minorgridcolor": "white",
             "startlinecolor": "#2a3f5f"
            },
            "baxis": {
             "endlinecolor": "#2a3f5f",
             "gridcolor": "white",
             "linecolor": "white",
             "minorgridcolor": "white",
             "startlinecolor": "#2a3f5f"
            },
            "type": "carpet"
           }
          ],
          "choropleth": [
           {
            "colorbar": {
             "outlinewidth": 0,
             "ticks": ""
            },
            "type": "choropleth"
           }
          ],
          "contour": [
           {
            "colorbar": {
             "outlinewidth": 0,
             "ticks": ""
            },
            "colorscale": [
             [
              0,
              "#0d0887"
             ],
             [
              0.1111111111111111,
              "#46039f"
             ],
             [
              0.2222222222222222,
              "#7201a8"
             ],
             [
              0.3333333333333333,
              "#9c179e"
             ],
             [
              0.4444444444444444,
              "#bd3786"
             ],
             [
              0.5555555555555556,
              "#d8576b"
             ],
             [
              0.6666666666666666,
              "#ed7953"
             ],
             [
              0.7777777777777778,
              "#fb9f3a"
             ],
             [
              0.8888888888888888,
              "#fdca26"
             ],
             [
              1,
              "#f0f921"
             ]
            ],
            "type": "contour"
           }
          ],
          "contourcarpet": [
           {
            "colorbar": {
             "outlinewidth": 0,
             "ticks": ""
            },
            "type": "contourcarpet"
           }
          ],
          "heatmap": [
           {
            "colorbar": {
             "outlinewidth": 0,
             "ticks": ""
            },
            "colorscale": [
             [
              0,
              "#0d0887"
             ],
             [
              0.1111111111111111,
              "#46039f"
             ],
             [
              0.2222222222222222,
              "#7201a8"
             ],
             [
              0.3333333333333333,
              "#9c179e"
             ],
             [
              0.4444444444444444,
              "#bd3786"
             ],
             [
              0.5555555555555556,
              "#d8576b"
             ],
             [
              0.6666666666666666,
              "#ed7953"
             ],
             [
              0.7777777777777778,
              "#fb9f3a"
             ],
             [
              0.8888888888888888,
              "#fdca26"
             ],
             [
              1,
              "#f0f921"
             ]
            ],
            "type": "heatmap"
           }
          ],
          "histogram": [
           {
            "marker": {
             "pattern": {
              "fillmode": "overlay",
              "size": 10,
              "solidity": 0.2
             }
            },
            "type": "histogram"
           }
          ],
          "histogram2d": [
           {
            "colorbar": {
             "outlinewidth": 0,
             "ticks": ""
            },
            "colorscale": [
             [
              0,
              "#0d0887"
             ],
             [
              0.1111111111111111,
              "#46039f"
             ],
             [
              0.2222222222222222,
              "#7201a8"
             ],
             [
              0.3333333333333333,
              "#9c179e"
             ],
             [
              0.4444444444444444,
              "#bd3786"
             ],
             [
              0.5555555555555556,
              "#d8576b"
             ],
             [
              0.6666666666666666,
              "#ed7953"
             ],
             [
              0.7777777777777778,
              "#fb9f3a"
             ],
             [
              0.8888888888888888,
              "#fdca26"
             ],
             [
              1,
              "#f0f921"
             ]
            ],
            "type": "histogram2d"
           }
          ],
          "histogram2dcontour": [
           {
            "colorbar": {
             "outlinewidth": 0,
             "ticks": ""
            },
            "colorscale": [
             [
              0,
              "#0d0887"
             ],
             [
              0.1111111111111111,
              "#46039f"
             ],
             [
              0.2222222222222222,
              "#7201a8"
             ],
             [
              0.3333333333333333,
              "#9c179e"
             ],
             [
              0.4444444444444444,
              "#bd3786"
             ],
             [
              0.5555555555555556,
              "#d8576b"
             ],
             [
              0.6666666666666666,
              "#ed7953"
             ],
             [
              0.7777777777777778,
              "#fb9f3a"
             ],
             [
              0.8888888888888888,
              "#fdca26"
             ],
             [
              1,
              "#f0f921"
             ]
            ],
            "type": "histogram2dcontour"
           }
          ],
          "mesh3d": [
           {
            "colorbar": {
             "outlinewidth": 0,
             "ticks": ""
            },
            "type": "mesh3d"
           }
          ],
          "parcoords": [
           {
            "line": {
             "colorbar": {
              "outlinewidth": 0,
              "ticks": ""
             }
            },
            "type": "parcoords"
           }
          ],
          "pie": [
           {
            "automargin": true,
            "type": "pie"
           }
          ],
          "scatter": [
           {
            "fillpattern": {
             "fillmode": "overlay",
             "size": 10,
             "solidity": 0.2
            },
            "type": "scatter"
           }
          ],
          "scatter3d": [
           {
            "line": {
             "colorbar": {
              "outlinewidth": 0,
              "ticks": ""
             }
            },
            "marker": {
             "colorbar": {
              "outlinewidth": 0,
              "ticks": ""
             }
            },
            "type": "scatter3d"
           }
          ],
          "scattercarpet": [
           {
            "marker": {
             "colorbar": {
              "outlinewidth": 0,
              "ticks": ""
             }
            },
            "type": "scattercarpet"
           }
          ],
          "scattergeo": [
           {
            "marker": {
             "colorbar": {
              "outlinewidth": 0,
              "ticks": ""
             }
            },
            "type": "scattergeo"
           }
          ],
          "scattergl": [
           {
            "marker": {
             "colorbar": {
              "outlinewidth": 0,
              "ticks": ""
             }
            },
            "type": "scattergl"
           }
          ],
          "scattermap": [
           {
            "marker": {
             "colorbar": {
              "outlinewidth": 0,
              "ticks": ""
             }
            },
            "type": "scattermap"
           }
          ],
          "scattermapbox": [
           {
            "marker": {
             "colorbar": {
              "outlinewidth": 0,
              "ticks": ""
             }
            },
            "type": "scattermapbox"
           }
          ],
          "scatterpolar": [
           {
            "marker": {
             "colorbar": {
              "outlinewidth": 0,
              "ticks": ""
             }
            },
            "type": "scatterpolar"
           }
          ],
          "scatterpolargl": [
           {
            "marker": {
             "colorbar": {
              "outlinewidth": 0,
              "ticks": ""
             }
            },
            "type": "scatterpolargl"
           }
          ],
          "scatterternary": [
           {
            "marker": {
             "colorbar": {
              "outlinewidth": 0,
              "ticks": ""
             }
            },
            "type": "scatterternary"
           }
          ],
          "surface": [
           {
            "colorbar": {
             "outlinewidth": 0,
             "ticks": ""
            },
            "colorscale": [
             [
              0,
              "#0d0887"
             ],
             [
              0.1111111111111111,
              "#46039f"
             ],
             [
              0.2222222222222222,
              "#7201a8"
             ],
             [
              0.3333333333333333,
              "#9c179e"
             ],
             [
              0.4444444444444444,
              "#bd3786"
             ],
             [
              0.5555555555555556,
              "#d8576b"
             ],
             [
              0.6666666666666666,
              "#ed7953"
             ],
             [
              0.7777777777777778,
              "#fb9f3a"
             ],
             [
              0.8888888888888888,
              "#fdca26"
             ],
             [
              1,
              "#f0f921"
             ]
            ],
            "type": "surface"
           }
          ],
          "table": [
           {
            "cells": {
             "fill": {
              "color": "#EBF0F8"
             },
             "line": {
              "color": "white"
             }
            },
            "header": {
             "fill": {
              "color": "#C8D4E3"
             },
             "line": {
              "color": "white"
             }
            },
            "type": "table"
           }
          ]
         },
         "layout": {
          "annotationdefaults": {
           "arrowcolor": "#2a3f5f",
           "arrowhead": 0,
           "arrowwidth": 1
          },
          "autotypenumbers": "strict",
          "coloraxis": {
           "colorbar": {
            "outlinewidth": 0,
            "ticks": ""
           }
          },
          "colorscale": {
           "diverging": [
            [
             0,
             "#8e0152"
            ],
            [
             0.1,
             "#c51b7d"
            ],
            [
             0.2,
             "#de77ae"
            ],
            [
             0.3,
             "#f1b6da"
            ],
            [
             0.4,
             "#fde0ef"
            ],
            [
             0.5,
             "#f7f7f7"
            ],
            [
             0.6,
             "#e6f5d0"
            ],
            [
             0.7,
             "#b8e186"
            ],
            [
             0.8,
             "#7fbc41"
            ],
            [
             0.9,
             "#4d9221"
            ],
            [
             1,
             "#276419"
            ]
           ],
           "sequential": [
            [
             0,
             "#0d0887"
            ],
            [
             0.1111111111111111,
             "#46039f"
            ],
            [
             0.2222222222222222,
             "#7201a8"
            ],
            [
             0.3333333333333333,
             "#9c179e"
            ],
            [
             0.4444444444444444,
             "#bd3786"
            ],
            [
             0.5555555555555556,
             "#d8576b"
            ],
            [
             0.6666666666666666,
             "#ed7953"
            ],
            [
             0.7777777777777778,
             "#fb9f3a"
            ],
            [
             0.8888888888888888,
             "#fdca26"
            ],
            [
             1,
             "#f0f921"
            ]
           ],
           "sequentialminus": [
            [
             0,
             "#0d0887"
            ],
            [
             0.1111111111111111,
             "#46039f"
            ],
            [
             0.2222222222222222,
             "#7201a8"
            ],
            [
             0.3333333333333333,
             "#9c179e"
            ],
            [
             0.4444444444444444,
             "#bd3786"
            ],
            [
             0.5555555555555556,
             "#d8576b"
            ],
            [
             0.6666666666666666,
             "#ed7953"
            ],
            [
             0.7777777777777778,
             "#fb9f3a"
            ],
            [
             0.8888888888888888,
             "#fdca26"
            ],
            [
             1,
             "#f0f921"
            ]
           ]
          },
          "colorway": [
           "#636efa",
           "#EF553B",
           "#00cc96",
           "#ab63fa",
           "#FFA15A",
           "#19d3f3",
           "#FF6692",
           "#B6E880",
           "#FF97FF",
           "#FECB52"
          ],
          "font": {
           "color": "#2a3f5f"
          },
          "geo": {
           "bgcolor": "white",
           "lakecolor": "white",
           "landcolor": "#E5ECF6",
           "showlakes": true,
           "showland": true,
           "subunitcolor": "white"
          },
          "hoverlabel": {
           "align": "left"
          },
          "hovermode": "closest",
          "mapbox": {
           "style": "light"
          },
          "paper_bgcolor": "white",
          "plot_bgcolor": "#E5ECF6",
          "polar": {
           "angularaxis": {
            "gridcolor": "white",
            "linecolor": "white",
            "ticks": ""
           },
           "bgcolor": "#E5ECF6",
           "radialaxis": {
            "gridcolor": "white",
            "linecolor": "white",
            "ticks": ""
           }
          },
          "scene": {
           "xaxis": {
            "backgroundcolor": "#E5ECF6",
            "gridcolor": "white",
            "gridwidth": 2,
            "linecolor": "white",
            "showbackground": true,
            "ticks": "",
            "zerolinecolor": "white"
           },
           "yaxis": {
            "backgroundcolor": "#E5ECF6",
            "gridcolor": "white",
            "gridwidth": 2,
            "linecolor": "white",
            "showbackground": true,
            "ticks": "",
            "zerolinecolor": "white"
           },
           "zaxis": {
            "backgroundcolor": "#E5ECF6",
            "gridcolor": "white",
            "gridwidth": 2,
            "linecolor": "white",
            "showbackground": true,
            "ticks": "",
            "zerolinecolor": "white"
           }
          },
          "shapedefaults": {
           "line": {
            "color": "#2a3f5f"
           }
          },
          "ternary": {
           "aaxis": {
            "gridcolor": "white",
            "linecolor": "white",
            "ticks": ""
           },
           "baxis": {
            "gridcolor": "white",
            "linecolor": "white",
            "ticks": ""
           },
           "bgcolor": "#E5ECF6",
           "caxis": {
            "gridcolor": "white",
            "linecolor": "white",
            "ticks": ""
           }
          },
          "title": {
           "x": 0.05
          },
          "xaxis": {
           "automargin": true,
           "gridcolor": "white",
           "linecolor": "white",
           "ticks": "",
           "title": {
            "standoff": 15
           },
           "zerolinecolor": "white",
           "zerolinewidth": 2
          },
          "yaxis": {
           "automargin": true,
           "gridcolor": "white",
           "linecolor": "white",
           "ticks": "",
           "title": {
            "standoff": 15
           },
           "zerolinecolor": "white",
           "zerolinewidth": 2
          }
         }
        },
        "title": {
         "font": {
          "color": "black",
          "family": "Arial",
          "size": 24
         },
         "text": "Top 10 países con mayor impacto en el índice HHI"
        },
        "xaxis": {
         "anchor": "y",
         "domain": [
          0,
          1
         ],
         "tickangle": -45,
         "tickfont": {
          "size": 12
         },
         "tickformat": ".4f",
         "title": {
          "text": "Participación²"
         }
        },
        "yaxis": {
         "anchor": "x",
         "domain": [
          0,
          1
         ],
         "tickfont": {
          "size": 12
         },
         "title": {
          "text": "País"
         }
        }
       }
      }
     },
     "metadata": {},
     "output_type": "display_data"
    }
   ],
   "source": [
    "top_hhi = fob_pais_pd.sort_values(\"participacion_cuadrada\", ascending=False).head(10)\n",
    "\n",
    "fig = px.bar(\n",
    "    top_hhi,\n",
    "    x=\"participacion_cuadrada\",\n",
    "    y=\"PAIS\",\n",
    "    orientation=\"h\",\n",
    "    title=\"Top 10 países con mayor impacto en el índice HHI\",\n",
    "    labels={\"participacion_cuadrada\": \"Participación²\", \"PAIS\": \"País\"},\n",
    ")\n",
    "fig = estilo(fig)\n",
    "fig.update_layout(xaxis_tickformat=\".4f\")\n",
    "fig.show()\n"
   ]
  },
  {
   "cell_type": "markdown",
   "id": "da8f9baa",
   "metadata": {},
   "source": [
    "> ###### __Finalidad:__ Mostrar qué países tienen mayor peso en el índice Herfindahl-Hirschman, es decir, cuáles contribuyen más a la concentración del mercado exportador.\n",
    "\n",
    "__Conclusión:__ Estados Unidos domina por completo la contribución al HHI, con una participación² que sobrepasa a cualquier otro país por amplio margen. Esto confirma que la concentración del comercio exterior está altamente influenciada por un solo destino, lo que aumenta el riesgo comercial ante cambios en la demanda o políticas de ese país."
   ]
  },
  {
   "cell_type": "markdown",
   "id": "4b4b676b",
   "metadata": {},
   "source": [
    "### Conclusión general del análisis HHI"
   ]
  },
  {
   "cell_type": "markdown",
   "id": "b109daff",
   "metadata": {},
   "source": [
    "El valor del índice HHI y los gráficos asociados indican una concentración moderada-alta en los mercados de exportación. Aunque hay múltiples países con participaciones superiores al 1%, el peso desproporcionado de Estados Unidos compromete la diversificación y puede afectar la resiliencia económica ante choques externos."
   ]
  },
  {
   "cell_type": "markdown",
   "id": "c175ed2c",
   "metadata": {},
   "source": [
    "### Matriz de origen-destino: principales 10 países destino por exportaciones"
   ]
  },
  {
   "cell_type": "code",
   "execution_count": 7,
   "id": "e3d58032",
   "metadata": {},
   "outputs": [],
   "source": [
    "# Filtros\n",
    "top_paises = df.group_by(\"PAIS\").agg(pl.col(\"FOBDOL\").sum()).sort(\"FOBDOL\", descending=True).head(10)\n",
    "top_departamentos = df.group_by(\"DEPTO\").agg(pl.col(\"FOBDOL\").sum()).sort(\"FOBDOL\", descending=True).head(10)\n",
    "\n",
    "# Listas\n",
    "lista_paises = top_paises.get_column(\"PAIS\").to_list()\n",
    "lista_deptos = top_departamentos.get_column(\"DEPTO\").to_list()\n",
    "\n",
    "# Dataframe (Filtrado)\n",
    "df_filtrado = df.filter(\n",
    "    pl.col(\"PAIS\").is_in(lista_paises) & pl.col(\"DEPTO\").is_in(lista_deptos)\n",
    ")"
   ]
  },
  {
   "cell_type": "code",
   "execution_count": 8,
   "id": "80758e96",
   "metadata": {},
   "outputs": [],
   "source": [
    "matriz_od = df_filtrado.group_by([\"DEPTO\", \"PAIS\"]).agg(pl.col(\"FOBDOL\").sum())\n",
    "matriz_od = matriz_od.to_pandas()\n",
    "pivot_table = matriz_od.pivot(index=\"DEPTO\", columns=\"PAIS\", values=\"FOBDOL\")"
   ]
  },
  {
   "cell_type": "code",
   "execution_count": 9,
   "id": "e8d262cb",
   "metadata": {},
   "outputs": [
    {
     "data": {
      "application/vnd.microsoft.datawrangler.viewer.v0+json": {
       "columns": [
        {
         "name": "DEPTO",
         "rawType": "object",
         "type": "string"
        },
        {
         "name": "Brasil",
         "rawType": "float64",
         "type": "float"
        },
        {
         "name": "China",
         "rawType": "float64",
         "type": "float"
        },
        {
         "name": "Ecuador",
         "rawType": "float64",
         "type": "float"
        },
        {
         "name": "España",
         "rawType": "float64",
         "type": "float"
        },
        {
         "name": "Estados Unidos",
         "rawType": "float64",
         "type": "float"
        },
        {
         "name": "México",
         "rawType": "float64",
         "type": "float"
        },
        {
         "name": "Panamá",
         "rawType": "float64",
         "type": "float"
        },
        {
         "name": "Países Bajos",
         "rawType": "float64",
         "type": "float"
        },
        {
         "name": "Perú",
         "rawType": "float64",
         "type": "float"
        },
        {
         "name": "Venezuela",
         "rawType": "float64",
         "type": "float"
        }
       ],
       "ref": "47df4381-44dd-407e-8a9b-b247c1740f31",
       "rows": [
        [
         "Antioquia",
         "1620856110.1400073",
         "1146092636.689999",
         "7083376034.90014",
         "1083468762.0199966",
         "37862324747.000374",
         "4038426368.4599733",
         "1174585516.4199877",
         "1224896634.9099917",
         "3736686164.369955",
         "5862225810.13009"
        ],
        [
         "Atlántico",
         "2215753084.1899986",
         "1423387060.3000042",
         "1529182260.8200061",
         "355672129.51",
         "7591262382.850034",
         "1552447335.1499963",
         "810305167.8999999",
         "493043011.9",
         "815926249.7600026",
         "2687114285.1900225"
        ],
        [
         "Bolívar",
         "6550403054.159965",
         "483313383.2799997",
         "2631948062.259983",
         "632431366.5499988",
         "8101758326.050036",
         "2098921903.1200042",
         "744329448.3400031",
         "206617366.77999982",
         "2563959612.8999968",
         "1736384008.9000041"
        ],
        [
         "Cesar",
         "2603179219.4799995",
         "943307732.9599998",
         "2089606.3099999998",
         "2352470447.69",
         "7028595499.579992",
         "3055482080.469999",
         "459898197.01",
         "8759408897.6",
         "184140796.1700001",
         "1063614792.8999999"
        ],
        [
         "Cundinamarca",
         "2356221872.6000032",
         "886793616.0100005",
         "4049349452.7800364",
         "504129758.16999763",
         "13516359909.760166",
         "1958415803.759993",
         "501619902.57000184",
         "936232078.0100011",
         "2173869564.479973",
         "2915098426.529985"
        ],
        [
         "Departamentos Varios",
         "165141667.74000004",
         "27802701060.470024",
         "211601054.07000002",
         "8081762180.0",
         "69199030527.96",
         "164827122.38999996",
         "19081709339.719997",
         "2348255999.9699993",
         "1012176950.46",
         "64449644.36"
        ],
        [
         "La Guajira",
         "1106700399.78",
         "1169537141.82",
         "235731.51",
         "2364058978.010001",
         "2894773582.350001",
         "158568525.80999997",
         "58455631.66000001",
         "9108058575.080002",
         "96563399.35000001",
         "2179442271.0699987"
        ],
        [
         "Petróleo y Derivados",
         "330170851.64000005",
         "2159003563.4699993",
         "251763983.89",
         "811366845.26",
         "50649349273.49001",
         "287503033.5799999",
         "1307803170.59",
         "272457292.16",
         "575429935.7100002",
         "14409830.9"
        ],
        [
         "Santafé de Bogotá",
         "1047424943.879997",
         "659959153.2200004",
         "7766527381.960013",
         "872581273.6499991",
         "18066121738.989666",
         "2982072746.7399983",
         "2067762689.6100132",
         "832000618.6299987",
         "3189457452.560033",
         "7768537854.670028"
        ],
        [
         "Valle del Cauca",
         "1349826293.7500005",
         "528465859.57999986",
         "6670202689.699873",
         "411266793.2299993",
         "7734949878.899933",
         "1863497171.8599827",
         "1219083752.2499976",
         "337348924.6299993",
         "4597932158.549979",
         "4670298388.619973"
        ]
       ],
       "shape": {
        "columns": 10,
        "rows": 10
       }
      },
      "text/html": [
       "<div>\n",
       "<style scoped>\n",
       "    .dataframe tbody tr th:only-of-type {\n",
       "        vertical-align: middle;\n",
       "    }\n",
       "\n",
       "    .dataframe tbody tr th {\n",
       "        vertical-align: top;\n",
       "    }\n",
       "\n",
       "    .dataframe thead th {\n",
       "        text-align: right;\n",
       "    }\n",
       "</style>\n",
       "<table border=\"1\" class=\"dataframe\">\n",
       "  <thead>\n",
       "    <tr style=\"text-align: right;\">\n",
       "      <th>PAIS</th>\n",
       "      <th>Brasil</th>\n",
       "      <th>China</th>\n",
       "      <th>Ecuador</th>\n",
       "      <th>España</th>\n",
       "      <th>Estados Unidos</th>\n",
       "      <th>México</th>\n",
       "      <th>Panamá</th>\n",
       "      <th>Países Bajos</th>\n",
       "      <th>Perú</th>\n",
       "      <th>Venezuela</th>\n",
       "    </tr>\n",
       "    <tr>\n",
       "      <th>DEPTO</th>\n",
       "      <th></th>\n",
       "      <th></th>\n",
       "      <th></th>\n",
       "      <th></th>\n",
       "      <th></th>\n",
       "      <th></th>\n",
       "      <th></th>\n",
       "      <th></th>\n",
       "      <th></th>\n",
       "      <th></th>\n",
       "    </tr>\n",
       "  </thead>\n",
       "  <tbody>\n",
       "    <tr>\n",
       "      <th>Antioquia</th>\n",
       "      <td>1.620856e+09</td>\n",
       "      <td>1.146093e+09</td>\n",
       "      <td>7.083376e+09</td>\n",
       "      <td>1.083469e+09</td>\n",
       "      <td>3.786232e+10</td>\n",
       "      <td>4.038426e+09</td>\n",
       "      <td>1.174586e+09</td>\n",
       "      <td>1.224897e+09</td>\n",
       "      <td>3.736686e+09</td>\n",
       "      <td>5.862226e+09</td>\n",
       "    </tr>\n",
       "    <tr>\n",
       "      <th>Atlántico</th>\n",
       "      <td>2.215753e+09</td>\n",
       "      <td>1.423387e+09</td>\n",
       "      <td>1.529182e+09</td>\n",
       "      <td>3.556721e+08</td>\n",
       "      <td>7.591262e+09</td>\n",
       "      <td>1.552447e+09</td>\n",
       "      <td>8.103052e+08</td>\n",
       "      <td>4.930430e+08</td>\n",
       "      <td>8.159262e+08</td>\n",
       "      <td>2.687114e+09</td>\n",
       "    </tr>\n",
       "    <tr>\n",
       "      <th>Bolívar</th>\n",
       "      <td>6.550403e+09</td>\n",
       "      <td>4.833134e+08</td>\n",
       "      <td>2.631948e+09</td>\n",
       "      <td>6.324314e+08</td>\n",
       "      <td>8.101758e+09</td>\n",
       "      <td>2.098922e+09</td>\n",
       "      <td>7.443294e+08</td>\n",
       "      <td>2.066174e+08</td>\n",
       "      <td>2.563960e+09</td>\n",
       "      <td>1.736384e+09</td>\n",
       "    </tr>\n",
       "    <tr>\n",
       "      <th>Cesar</th>\n",
       "      <td>2.603179e+09</td>\n",
       "      <td>9.433077e+08</td>\n",
       "      <td>2.089606e+06</td>\n",
       "      <td>2.352470e+09</td>\n",
       "      <td>7.028595e+09</td>\n",
       "      <td>3.055482e+09</td>\n",
       "      <td>4.598982e+08</td>\n",
       "      <td>8.759409e+09</td>\n",
       "      <td>1.841408e+08</td>\n",
       "      <td>1.063615e+09</td>\n",
       "    </tr>\n",
       "    <tr>\n",
       "      <th>Cundinamarca</th>\n",
       "      <td>2.356222e+09</td>\n",
       "      <td>8.867936e+08</td>\n",
       "      <td>4.049349e+09</td>\n",
       "      <td>5.041298e+08</td>\n",
       "      <td>1.351636e+10</td>\n",
       "      <td>1.958416e+09</td>\n",
       "      <td>5.016199e+08</td>\n",
       "      <td>9.362321e+08</td>\n",
       "      <td>2.173870e+09</td>\n",
       "      <td>2.915098e+09</td>\n",
       "    </tr>\n",
       "    <tr>\n",
       "      <th>Departamentos Varios</th>\n",
       "      <td>1.651417e+08</td>\n",
       "      <td>2.780270e+10</td>\n",
       "      <td>2.116011e+08</td>\n",
       "      <td>8.081762e+09</td>\n",
       "      <td>6.919903e+10</td>\n",
       "      <td>1.648271e+08</td>\n",
       "      <td>1.908171e+10</td>\n",
       "      <td>2.348256e+09</td>\n",
       "      <td>1.012177e+09</td>\n",
       "      <td>6.444964e+07</td>\n",
       "    </tr>\n",
       "    <tr>\n",
       "      <th>La Guajira</th>\n",
       "      <td>1.106700e+09</td>\n",
       "      <td>1.169537e+09</td>\n",
       "      <td>2.357315e+05</td>\n",
       "      <td>2.364059e+09</td>\n",
       "      <td>2.894774e+09</td>\n",
       "      <td>1.585685e+08</td>\n",
       "      <td>5.845563e+07</td>\n",
       "      <td>9.108059e+09</td>\n",
       "      <td>9.656340e+07</td>\n",
       "      <td>2.179442e+09</td>\n",
       "    </tr>\n",
       "    <tr>\n",
       "      <th>Petróleo y Derivados</th>\n",
       "      <td>3.301709e+08</td>\n",
       "      <td>2.159004e+09</td>\n",
       "      <td>2.517640e+08</td>\n",
       "      <td>8.113668e+08</td>\n",
       "      <td>5.064935e+10</td>\n",
       "      <td>2.875030e+08</td>\n",
       "      <td>1.307803e+09</td>\n",
       "      <td>2.724573e+08</td>\n",
       "      <td>5.754299e+08</td>\n",
       "      <td>1.440983e+07</td>\n",
       "    </tr>\n",
       "    <tr>\n",
       "      <th>Santafé de Bogotá</th>\n",
       "      <td>1.047425e+09</td>\n",
       "      <td>6.599592e+08</td>\n",
       "      <td>7.766527e+09</td>\n",
       "      <td>8.725813e+08</td>\n",
       "      <td>1.806612e+10</td>\n",
       "      <td>2.982073e+09</td>\n",
       "      <td>2.067763e+09</td>\n",
       "      <td>8.320006e+08</td>\n",
       "      <td>3.189457e+09</td>\n",
       "      <td>7.768538e+09</td>\n",
       "    </tr>\n",
       "    <tr>\n",
       "      <th>Valle del Cauca</th>\n",
       "      <td>1.349826e+09</td>\n",
       "      <td>5.284659e+08</td>\n",
       "      <td>6.670203e+09</td>\n",
       "      <td>4.112668e+08</td>\n",
       "      <td>7.734950e+09</td>\n",
       "      <td>1.863497e+09</td>\n",
       "      <td>1.219084e+09</td>\n",
       "      <td>3.373489e+08</td>\n",
       "      <td>4.597932e+09</td>\n",
       "      <td>4.670298e+09</td>\n",
       "    </tr>\n",
       "  </tbody>\n",
       "</table>\n",
       "</div>"
      ],
      "text/plain": [
       "PAIS                        Brasil         China       Ecuador        España  \\\n",
       "DEPTO                                                                          \n",
       "Antioquia             1.620856e+09  1.146093e+09  7.083376e+09  1.083469e+09   \n",
       "Atlántico             2.215753e+09  1.423387e+09  1.529182e+09  3.556721e+08   \n",
       "Bolívar               6.550403e+09  4.833134e+08  2.631948e+09  6.324314e+08   \n",
       "Cesar                 2.603179e+09  9.433077e+08  2.089606e+06  2.352470e+09   \n",
       "Cundinamarca          2.356222e+09  8.867936e+08  4.049349e+09  5.041298e+08   \n",
       "Departamentos Varios  1.651417e+08  2.780270e+10  2.116011e+08  8.081762e+09   \n",
       "La Guajira            1.106700e+09  1.169537e+09  2.357315e+05  2.364059e+09   \n",
       "Petróleo y Derivados  3.301709e+08  2.159004e+09  2.517640e+08  8.113668e+08   \n",
       "Santafé de Bogotá     1.047425e+09  6.599592e+08  7.766527e+09  8.725813e+08   \n",
       "Valle del Cauca       1.349826e+09  5.284659e+08  6.670203e+09  4.112668e+08   \n",
       "\n",
       "PAIS                  Estados Unidos        México        Panamá  \\\n",
       "DEPTO                                                              \n",
       "Antioquia               3.786232e+10  4.038426e+09  1.174586e+09   \n",
       "Atlántico               7.591262e+09  1.552447e+09  8.103052e+08   \n",
       "Bolívar                 8.101758e+09  2.098922e+09  7.443294e+08   \n",
       "Cesar                   7.028595e+09  3.055482e+09  4.598982e+08   \n",
       "Cundinamarca            1.351636e+10  1.958416e+09  5.016199e+08   \n",
       "Departamentos Varios    6.919903e+10  1.648271e+08  1.908171e+10   \n",
       "La Guajira              2.894774e+09  1.585685e+08  5.845563e+07   \n",
       "Petróleo y Derivados    5.064935e+10  2.875030e+08  1.307803e+09   \n",
       "Santafé de Bogotá       1.806612e+10  2.982073e+09  2.067763e+09   \n",
       "Valle del Cauca         7.734950e+09  1.863497e+09  1.219084e+09   \n",
       "\n",
       "PAIS                  Países Bajos          Perú     Venezuela  \n",
       "DEPTO                                                           \n",
       "Antioquia             1.224897e+09  3.736686e+09  5.862226e+09  \n",
       "Atlántico             4.930430e+08  8.159262e+08  2.687114e+09  \n",
       "Bolívar               2.066174e+08  2.563960e+09  1.736384e+09  \n",
       "Cesar                 8.759409e+09  1.841408e+08  1.063615e+09  \n",
       "Cundinamarca          9.362321e+08  2.173870e+09  2.915098e+09  \n",
       "Departamentos Varios  2.348256e+09  1.012177e+09  6.444964e+07  \n",
       "La Guajira            9.108059e+09  9.656340e+07  2.179442e+09  \n",
       "Petróleo y Derivados  2.724573e+08  5.754299e+08  1.440983e+07  \n",
       "Santafé de Bogotá     8.320006e+08  3.189457e+09  7.768538e+09  \n",
       "Valle del Cauca       3.373489e+08  4.597932e+09  4.670298e+09  "
      ]
     },
     "execution_count": 9,
     "metadata": {},
     "output_type": "execute_result"
    }
   ],
   "source": [
    "pivot_table.head(10)"
   ]
  },
  {
   "cell_type": "code",
   "execution_count": 10,
   "id": "136b3fb4",
   "metadata": {},
   "outputs": [
    {
     "data": {
      "application/vnd.plotly.v1+json": {
       "config": {
        "plotlyServerURL": "https://plot.ly"
       },
       "data": [
        {
         "colorbar": {
          "title": {
           "text": "FOB Dólares"
          }
         },
         "colorscale": [
          [
           0,
           "rgb(255,255,217)"
          ],
          [
           0.125,
           "rgb(237,248,177)"
          ],
          [
           0.25,
           "rgb(199,233,180)"
          ],
          [
           0.375,
           "rgb(127,205,187)"
          ],
          [
           0.5,
           "rgb(65,182,196)"
          ],
          [
           0.625,
           "rgb(29,145,192)"
          ],
          [
           0.75,
           "rgb(34,94,168)"
          ],
          [
           0.875,
           "rgb(37,52,148)"
          ],
          [
           1,
           "rgb(8,29,88)"
          ]
         ],
         "type": "heatmap",
         "x": [
          "Brasil",
          "China",
          "Ecuador",
          "España",
          "Estados Unidos",
          "México",
          "Panamá",
          "Países Bajos",
          "Perú",
          "Venezuela"
         ],
         "y": [
          "Antioquia",
          "Atlántico",
          "Bolívar",
          "Cesar",
          "Cundinamarca",
          "Departamentos Varios",
          "La Guajira",
          "Petróleo y Derivados",
          "Santafé de Bogotá",
          "Valle del Cauca"
         ],
         "z": {
          "bdata": "4fWISxMn2EHyKCwX/xPRQflmLto7Y/pBoEeB9hol0EExABZ0iqEhQhq4DuCvFu5BFOEaK7CA0UFOPboenEDSQazWi8op1+tB2RQieafW9UF4FIavNoLgQUUzE23KNdVB+3o0DV7J1kFcj4JBIDO1Qb2Z7YqXR/xBipnJ2R0i10EyM/NHIybIQWZm5kM9Y71BxEfh9AVRyEGqFKaFQwXkQTeP4n7zZvhBD65H58bOvEHIUcjjCpzjQVxmRoMR2cJB88xgV3Au/kEmrsdrwEbfQTmFK3TILsZBI1yPLXahqEHGzJxnXRrjQauZOYLH39lBKFxvmitl40FG4Xrq3RzMQfUoXE+G4j9BexT2NfuG4UGmR7my/S76QTsKD5zew+ZBXI8CVX1pu0HNzAzIz1AAQkEKV/iH86VBMjNzpLyyz0E6MxP2Io7hQbJHAciybcpBD/aYaYUr7kH3hCveaAy+QdIULkcaLQlCuqPwbsMu3UGk65G+HOa9QbdHAUfi5stB8FuPv1My4EGj9VDnG7jlQUnheke5r6NBTuERNK7kGUIL1yM8jTmpQQAAQHheG/5Bw/X/aJUcMEITrsfkH6ajQUfhbhxvxRFCPAr/X/F+4UFI4TobTCrOQa5H4WJju45BhevxG7p90EHhenQdbm3RQUjhehScxgxB7lFArBWd4UE1M8upV5HlQVG4npsg56JBFq5HfbLfi0HYo3iOD/cAQmdmZh3DBZdBbj3iy/Q84EEL16PjAa6zQTwKb/X4FeBBFK7HHzoDrkGuR6HePC7IQeP6MnnflSdC4HqUufIisUGPwqWI33zTQcP1KExePbBBSeHaly4mwUHNzMzcDHxrQb6j8Nc3N89B+SicuBarw0E3XF/ZvO78QSwz00xEAcpBa/UrkEzTEEIRrlc12jfmQXUKZ4Djz95BzKNQNanLyEHK65FFaMPnQW+46q+n8PxBAgBwvS0d1EHfepTDv3+/Qa4yG3Qz2fhBPOE66W6DuEEgZm5/n9D8QfUJ93StxNtB9v8Pem8q0kGiR6E8iRu0QbfM6AfuIPFBaetJkfFl8UE=",
          "dtype": "f8",
          "shape": "10, 10"
         }
        }
       ],
       "layout": {
        "paper_bgcolor": "white",
        "plot_bgcolor": "white",
        "template": {
         "data": {
          "bar": [
           {
            "error_x": {
             "color": "#2a3f5f"
            },
            "error_y": {
             "color": "#2a3f5f"
            },
            "marker": {
             "line": {
              "color": "#E5ECF6",
              "width": 0.5
             },
             "pattern": {
              "fillmode": "overlay",
              "size": 10,
              "solidity": 0.2
             }
            },
            "type": "bar"
           }
          ],
          "barpolar": [
           {
            "marker": {
             "line": {
              "color": "#E5ECF6",
              "width": 0.5
             },
             "pattern": {
              "fillmode": "overlay",
              "size": 10,
              "solidity": 0.2
             }
            },
            "type": "barpolar"
           }
          ],
          "carpet": [
           {
            "aaxis": {
             "endlinecolor": "#2a3f5f",
             "gridcolor": "white",
             "linecolor": "white",
             "minorgridcolor": "white",
             "startlinecolor": "#2a3f5f"
            },
            "baxis": {
             "endlinecolor": "#2a3f5f",
             "gridcolor": "white",
             "linecolor": "white",
             "minorgridcolor": "white",
             "startlinecolor": "#2a3f5f"
            },
            "type": "carpet"
           }
          ],
          "choropleth": [
           {
            "colorbar": {
             "outlinewidth": 0,
             "ticks": ""
            },
            "type": "choropleth"
           }
          ],
          "contour": [
           {
            "colorbar": {
             "outlinewidth": 0,
             "ticks": ""
            },
            "colorscale": [
             [
              0,
              "#0d0887"
             ],
             [
              0.1111111111111111,
              "#46039f"
             ],
             [
              0.2222222222222222,
              "#7201a8"
             ],
             [
              0.3333333333333333,
              "#9c179e"
             ],
             [
              0.4444444444444444,
              "#bd3786"
             ],
             [
              0.5555555555555556,
              "#d8576b"
             ],
             [
              0.6666666666666666,
              "#ed7953"
             ],
             [
              0.7777777777777778,
              "#fb9f3a"
             ],
             [
              0.8888888888888888,
              "#fdca26"
             ],
             [
              1,
              "#f0f921"
             ]
            ],
            "type": "contour"
           }
          ],
          "contourcarpet": [
           {
            "colorbar": {
             "outlinewidth": 0,
             "ticks": ""
            },
            "type": "contourcarpet"
           }
          ],
          "heatmap": [
           {
            "colorbar": {
             "outlinewidth": 0,
             "ticks": ""
            },
            "colorscale": [
             [
              0,
              "#0d0887"
             ],
             [
              0.1111111111111111,
              "#46039f"
             ],
             [
              0.2222222222222222,
              "#7201a8"
             ],
             [
              0.3333333333333333,
              "#9c179e"
             ],
             [
              0.4444444444444444,
              "#bd3786"
             ],
             [
              0.5555555555555556,
              "#d8576b"
             ],
             [
              0.6666666666666666,
              "#ed7953"
             ],
             [
              0.7777777777777778,
              "#fb9f3a"
             ],
             [
              0.8888888888888888,
              "#fdca26"
             ],
             [
              1,
              "#f0f921"
             ]
            ],
            "type": "heatmap"
           }
          ],
          "histogram": [
           {
            "marker": {
             "pattern": {
              "fillmode": "overlay",
              "size": 10,
              "solidity": 0.2
             }
            },
            "type": "histogram"
           }
          ],
          "histogram2d": [
           {
            "colorbar": {
             "outlinewidth": 0,
             "ticks": ""
            },
            "colorscale": [
             [
              0,
              "#0d0887"
             ],
             [
              0.1111111111111111,
              "#46039f"
             ],
             [
              0.2222222222222222,
              "#7201a8"
             ],
             [
              0.3333333333333333,
              "#9c179e"
             ],
             [
              0.4444444444444444,
              "#bd3786"
             ],
             [
              0.5555555555555556,
              "#d8576b"
             ],
             [
              0.6666666666666666,
              "#ed7953"
             ],
             [
              0.7777777777777778,
              "#fb9f3a"
             ],
             [
              0.8888888888888888,
              "#fdca26"
             ],
             [
              1,
              "#f0f921"
             ]
            ],
            "type": "histogram2d"
           }
          ],
          "histogram2dcontour": [
           {
            "colorbar": {
             "outlinewidth": 0,
             "ticks": ""
            },
            "colorscale": [
             [
              0,
              "#0d0887"
             ],
             [
              0.1111111111111111,
              "#46039f"
             ],
             [
              0.2222222222222222,
              "#7201a8"
             ],
             [
              0.3333333333333333,
              "#9c179e"
             ],
             [
              0.4444444444444444,
              "#bd3786"
             ],
             [
              0.5555555555555556,
              "#d8576b"
             ],
             [
              0.6666666666666666,
              "#ed7953"
             ],
             [
              0.7777777777777778,
              "#fb9f3a"
             ],
             [
              0.8888888888888888,
              "#fdca26"
             ],
             [
              1,
              "#f0f921"
             ]
            ],
            "type": "histogram2dcontour"
           }
          ],
          "mesh3d": [
           {
            "colorbar": {
             "outlinewidth": 0,
             "ticks": ""
            },
            "type": "mesh3d"
           }
          ],
          "parcoords": [
           {
            "line": {
             "colorbar": {
              "outlinewidth": 0,
              "ticks": ""
             }
            },
            "type": "parcoords"
           }
          ],
          "pie": [
           {
            "automargin": true,
            "type": "pie"
           }
          ],
          "scatter": [
           {
            "fillpattern": {
             "fillmode": "overlay",
             "size": 10,
             "solidity": 0.2
            },
            "type": "scatter"
           }
          ],
          "scatter3d": [
           {
            "line": {
             "colorbar": {
              "outlinewidth": 0,
              "ticks": ""
             }
            },
            "marker": {
             "colorbar": {
              "outlinewidth": 0,
              "ticks": ""
             }
            },
            "type": "scatter3d"
           }
          ],
          "scattercarpet": [
           {
            "marker": {
             "colorbar": {
              "outlinewidth": 0,
              "ticks": ""
             }
            },
            "type": "scattercarpet"
           }
          ],
          "scattergeo": [
           {
            "marker": {
             "colorbar": {
              "outlinewidth": 0,
              "ticks": ""
             }
            },
            "type": "scattergeo"
           }
          ],
          "scattergl": [
           {
            "marker": {
             "colorbar": {
              "outlinewidth": 0,
              "ticks": ""
             }
            },
            "type": "scattergl"
           }
          ],
          "scattermap": [
           {
            "marker": {
             "colorbar": {
              "outlinewidth": 0,
              "ticks": ""
             }
            },
            "type": "scattermap"
           }
          ],
          "scattermapbox": [
           {
            "marker": {
             "colorbar": {
              "outlinewidth": 0,
              "ticks": ""
             }
            },
            "type": "scattermapbox"
           }
          ],
          "scatterpolar": [
           {
            "marker": {
             "colorbar": {
              "outlinewidth": 0,
              "ticks": ""
             }
            },
            "type": "scatterpolar"
           }
          ],
          "scatterpolargl": [
           {
            "marker": {
             "colorbar": {
              "outlinewidth": 0,
              "ticks": ""
             }
            },
            "type": "scatterpolargl"
           }
          ],
          "scatterternary": [
           {
            "marker": {
             "colorbar": {
              "outlinewidth": 0,
              "ticks": ""
             }
            },
            "type": "scatterternary"
           }
          ],
          "surface": [
           {
            "colorbar": {
             "outlinewidth": 0,
             "ticks": ""
            },
            "colorscale": [
             [
              0,
              "#0d0887"
             ],
             [
              0.1111111111111111,
              "#46039f"
             ],
             [
              0.2222222222222222,
              "#7201a8"
             ],
             [
              0.3333333333333333,
              "#9c179e"
             ],
             [
              0.4444444444444444,
              "#bd3786"
             ],
             [
              0.5555555555555556,
              "#d8576b"
             ],
             [
              0.6666666666666666,
              "#ed7953"
             ],
             [
              0.7777777777777778,
              "#fb9f3a"
             ],
             [
              0.8888888888888888,
              "#fdca26"
             ],
             [
              1,
              "#f0f921"
             ]
            ],
            "type": "surface"
           }
          ],
          "table": [
           {
            "cells": {
             "fill": {
              "color": "#EBF0F8"
             },
             "line": {
              "color": "white"
             }
            },
            "header": {
             "fill": {
              "color": "#C8D4E3"
             },
             "line": {
              "color": "white"
             }
            },
            "type": "table"
           }
          ]
         },
         "layout": {
          "annotationdefaults": {
           "arrowcolor": "#2a3f5f",
           "arrowhead": 0,
           "arrowwidth": 1
          },
          "autotypenumbers": "strict",
          "coloraxis": {
           "colorbar": {
            "outlinewidth": 0,
            "ticks": ""
           }
          },
          "colorscale": {
           "diverging": [
            [
             0,
             "#8e0152"
            ],
            [
             0.1,
             "#c51b7d"
            ],
            [
             0.2,
             "#de77ae"
            ],
            [
             0.3,
             "#f1b6da"
            ],
            [
             0.4,
             "#fde0ef"
            ],
            [
             0.5,
             "#f7f7f7"
            ],
            [
             0.6,
             "#e6f5d0"
            ],
            [
             0.7,
             "#b8e186"
            ],
            [
             0.8,
             "#7fbc41"
            ],
            [
             0.9,
             "#4d9221"
            ],
            [
             1,
             "#276419"
            ]
           ],
           "sequential": [
            [
             0,
             "#0d0887"
            ],
            [
             0.1111111111111111,
             "#46039f"
            ],
            [
             0.2222222222222222,
             "#7201a8"
            ],
            [
             0.3333333333333333,
             "#9c179e"
            ],
            [
             0.4444444444444444,
             "#bd3786"
            ],
            [
             0.5555555555555556,
             "#d8576b"
            ],
            [
             0.6666666666666666,
             "#ed7953"
            ],
            [
             0.7777777777777778,
             "#fb9f3a"
            ],
            [
             0.8888888888888888,
             "#fdca26"
            ],
            [
             1,
             "#f0f921"
            ]
           ],
           "sequentialminus": [
            [
             0,
             "#0d0887"
            ],
            [
             0.1111111111111111,
             "#46039f"
            ],
            [
             0.2222222222222222,
             "#7201a8"
            ],
            [
             0.3333333333333333,
             "#9c179e"
            ],
            [
             0.4444444444444444,
             "#bd3786"
            ],
            [
             0.5555555555555556,
             "#d8576b"
            ],
            [
             0.6666666666666666,
             "#ed7953"
            ],
            [
             0.7777777777777778,
             "#fb9f3a"
            ],
            [
             0.8888888888888888,
             "#fdca26"
            ],
            [
             1,
             "#f0f921"
            ]
           ]
          },
          "colorway": [
           "#636efa",
           "#EF553B",
           "#00cc96",
           "#ab63fa",
           "#FFA15A",
           "#19d3f3",
           "#FF6692",
           "#B6E880",
           "#FF97FF",
           "#FECB52"
          ],
          "font": {
           "color": "#2a3f5f"
          },
          "geo": {
           "bgcolor": "white",
           "lakecolor": "white",
           "landcolor": "#E5ECF6",
           "showlakes": true,
           "showland": true,
           "subunitcolor": "white"
          },
          "hoverlabel": {
           "align": "left"
          },
          "hovermode": "closest",
          "mapbox": {
           "style": "light"
          },
          "paper_bgcolor": "white",
          "plot_bgcolor": "#E5ECF6",
          "polar": {
           "angularaxis": {
            "gridcolor": "white",
            "linecolor": "white",
            "ticks": ""
           },
           "bgcolor": "#E5ECF6",
           "radialaxis": {
            "gridcolor": "white",
            "linecolor": "white",
            "ticks": ""
           }
          },
          "scene": {
           "xaxis": {
            "backgroundcolor": "#E5ECF6",
            "gridcolor": "white",
            "gridwidth": 2,
            "linecolor": "white",
            "showbackground": true,
            "ticks": "",
            "zerolinecolor": "white"
           },
           "yaxis": {
            "backgroundcolor": "#E5ECF6",
            "gridcolor": "white",
            "gridwidth": 2,
            "linecolor": "white",
            "showbackground": true,
            "ticks": "",
            "zerolinecolor": "white"
           },
           "zaxis": {
            "backgroundcolor": "#E5ECF6",
            "gridcolor": "white",
            "gridwidth": 2,
            "linecolor": "white",
            "showbackground": true,
            "ticks": "",
            "zerolinecolor": "white"
           }
          },
          "shapedefaults": {
           "line": {
            "color": "#2a3f5f"
           }
          },
          "ternary": {
           "aaxis": {
            "gridcolor": "white",
            "linecolor": "white",
            "ticks": ""
           },
           "baxis": {
            "gridcolor": "white",
            "linecolor": "white",
            "ticks": ""
           },
           "bgcolor": "#E5ECF6",
           "caxis": {
            "gridcolor": "white",
            "linecolor": "white",
            "ticks": ""
           }
          },
          "title": {
           "x": 0.05
          },
          "xaxis": {
           "automargin": true,
           "gridcolor": "white",
           "linecolor": "white",
           "ticks": "",
           "title": {
            "standoff": 15
           },
           "zerolinecolor": "white",
           "zerolinewidth": 2
          },
          "yaxis": {
           "automargin": true,
           "gridcolor": "white",
           "linecolor": "white",
           "ticks": "",
           "title": {
            "standoff": 15
           },
           "zerolinecolor": "white",
           "zerolinewidth": 2
          }
         }
        },
        "title": {
         "font": {
          "color": "black",
          "family": "Arial",
          "size": 24
         },
         "text": "Matriz de origen-destino"
        },
        "xaxis": {
         "tickangle": -45,
         "tickfont": {
          "size": 12
         },
         "title": {
          "text": "País"
         },
         "type": "category"
        },
        "yaxis": {
         "tickfont": {
          "size": 12
         },
         "title": {
          "text": "Departamento"
         },
         "type": "category"
        }
       }
      }
     },
     "metadata": {},
     "output_type": "display_data"
    }
   ],
   "source": [
    "fig = go.Figure(data=go.Heatmap(\n",
    "    z=pivot_table.values,\n",
    "    x=pivot_table.columns,\n",
    "    y=pivot_table.index,\n",
    "    colorscale=\"YlGnBu\",\n",
    "    colorbar=dict(title=\"FOB Dólares\")\n",
    "))\n",
    "\n",
    "fig.update_layout(\n",
    "    title=\"Matriz de origen-destino\",\n",
    "    xaxis_title=\"País\",\n",
    "    yaxis_title=\"Departamento\",\n",
    "    xaxis_tickfont=dict(size=12),\n",
    "    yaxis_tickfont=dict(size=12),\n",
    "    xaxis=dict(type=\"category\"),\n",
    "    yaxis=dict(type=\"category\"),\n",
    "    title_font=dict(size=24, family=\"Arial\", color=\"black\"),\n",
    "    xaxis_tickangle=-45,\n",
    "    plot_bgcolor=\"white\",\n",
    "    paper_bgcolor=\"white\"\n",
    ")\n",
    "\n",
    "fig.show()"
   ]
  },
  {
   "cell_type": "markdown",
   "id": "e6d15dec",
   "metadata": {},
   "source": [
    ">###### __Finalidad__:Visualizar la concentración del comercio exterior colombiano desde distintos departamentos hacia los 10 países que concentran el mayor valor exportado en dólares FOB, permitiendo identificar patrones geográficos de exportación y relaciones bilaterales destacada"
   ]
  },
  {
   "cell_type": "markdown",
   "id": "0f5e7b50",
   "metadata": {},
   "source": [
    "__Conclusiones__:\n",
    "\n",
    "+ Estados Unidos sobresale como principal socio comercial en múltiples departamentos, destacándose especialmente en Departamentos Varios, Petróleo y Derivados y Atlántico.\n",
    "\n",
    "+ Algunos países como Países Bajos o Panamá tienen relaciones relevantes con departamentos específicos, sugiriendo rutas comerciales o productos estratégicos.\n",
    "\n",
    "+ A pesar de la reducción a solo 10 países, se observa una alta dispersión regional, lo que indica diversidad en los orígenes internos de las exportaciones colombianas.\n",
    "\n",
    "+ Esta selección permite enfocar el análisis sin perder de vista los actores más relevantes en términos de valor exportado."
   ]
  },
  {
   "cell_type": "markdown",
   "id": "2cf7354f",
   "metadata": {},
   "source": [
    "###  ¿Qué productos exportan estos países?"
   ]
  },
  {
   "cell_type": "code",
   "execution_count": 37,
   "id": "285665fa",
   "metadata": {},
   "outputs": [],
   "source": [
    "# Filtros\n",
    "grupo = (\n",
    "    df_filtrado.group_by([\"PAIS\", \"DEPTO\", \"POSARA\"])\n",
    "    .agg(pl.col(\"FOBDOL\").sum().alias(\"TOTAL_FOB\"))\n",
    ")\n",
    "\n",
    "producto_top = (\n",
    "    grupo.sort([\"PAIS\", \"DEPTO\", \"TOTAL_FOB\"], descending=[False, False, True])\n",
    "    .group_by([\"PAIS\", \"DEPTO\"])\n",
    "    .agg(pl.col(\"POSARA\").first().alias(\"POSARA_TOP\"), pl.col(\"TOTAL_FOB\").max())\n",
    ")\n",
    "# Conversión\n",
    "producto_top = producto_top.to_pandas()\n",
    "\n",
    "# Ruta\n",
    "productos = get_file_path('mappings', 'productos_top')\n",
    "\n",
    "# Mapping\n",
    "df_productos = pd.read_csv(productos)\n",
    "dict_productos = pd.Series(df_productos.PRODUCT.values, index=df_productos.POSARA).to_dict()\n",
    "producto_top[\"POSARA_TOP\"] = producto_top[\"POSARA_TOP\"].map(dict_productos)\n",
    "producto_top = producto_top.rename(columns={\"POSARA_TOP\":\"PRODUCTOS\"})"
   ]
  },
  {
   "cell_type": "code",
   "execution_count": 45,
   "id": "13eed0a7",
   "metadata": {},
   "outputs": [],
   "source": [
    "def filtro_pais(pais: str):\n",
    "    if not isinstance(pais, str):\n",
    "        raise ValueError(\"El parámetro 'pais' debe ser una cadena de texto.\")\n",
    "    \n",
    "    pais = pais.strip().upper()\n",
    "    return producto_top[producto_top[\"PAIS\"].str.strip().str.upper() == pais]"
   ]
  },
  {
   "cell_type": "code",
   "execution_count": 46,
   "id": "2f72c6d3",
   "metadata": {},
   "outputs": [
    {
     "data": {
      "application/vnd.microsoft.datawrangler.viewer.v0+json": {
       "columns": [
        {
         "name": "index",
         "rawType": "int64",
         "type": "integer"
        },
        {
         "name": "PAIS",
         "rawType": "object",
         "type": "string"
        },
        {
         "name": "DEPTO",
         "rawType": "object",
         "type": "string"
        },
        {
         "name": "PRODUCTOS",
         "rawType": "object",
         "type": "string"
        },
        {
         "name": "TOTAL_FOB",
         "rawType": "float64",
         "type": "float"
        }
       ],
       "ref": "526bcc07-941e-4c5c-a039-c0afefea0c77",
       "rows": [
        [
         "9",
         "Estados Unidos",
         "Departamentos Varios",
         "Petróleos crudos",
         "59814880848.11999"
        ],
        [
         "38",
         "Estados Unidos",
         "Cesar",
         "Hulla bituminosa, incluso pulverizada, sin aglomerar",
         "6805813857.869994"
        ],
        [
         "52",
         "Estados Unidos",
         "Valle del Cauca",
         "Gemas y metales preciosos",
         "1229240553.4300005"
        ],
        [
         "57",
         "Estados Unidos",
         "Cundinamarca",
         "Flores y capullos cortados frescos (otras variedades)",
         "2644423865.440001"
        ],
        [
         "65",
         "Estados Unidos",
         "Antioquia",
         "Gemas y metales preciosos",
         "18267879972.93"
        ],
        [
         "67",
         "Estados Unidos",
         "La Guajira",
         "Hulla bituminosa, incluso pulverizada, sin aglomerar",
         "2862320235.45"
        ],
        [
         "69",
         "Estados Unidos",
         "Santafé de Bogotá",
         "Flores y capullos cortados frescos (otras variedades)",
         "3170016500.339999"
        ],
        [
         "74",
         "Estados Unidos",
         "Bolívar",
         "Petróleos crudos",
         "2418854064.34"
        ],
        [
         "87",
         "Estados Unidos",
         "Atlántico",
         "Polvos de aluminio",
         "3142711548.469999"
        ],
        [
         "95",
         "Estados Unidos",
         "Petróleo y Derivados",
         "Petróleos crudos",
         "43089954337.26"
        ]
       ],
       "shape": {
        "columns": 4,
        "rows": 10
       }
      },
      "text/html": [
       "<div>\n",
       "<style scoped>\n",
       "    .dataframe tbody tr th:only-of-type {\n",
       "        vertical-align: middle;\n",
       "    }\n",
       "\n",
       "    .dataframe tbody tr th {\n",
       "        vertical-align: top;\n",
       "    }\n",
       "\n",
       "    .dataframe thead th {\n",
       "        text-align: right;\n",
       "    }\n",
       "</style>\n",
       "<table border=\"1\" class=\"dataframe\">\n",
       "  <thead>\n",
       "    <tr style=\"text-align: right;\">\n",
       "      <th></th>\n",
       "      <th>PAIS</th>\n",
       "      <th>DEPTO</th>\n",
       "      <th>PRODUCTOS</th>\n",
       "      <th>TOTAL_FOB</th>\n",
       "    </tr>\n",
       "  </thead>\n",
       "  <tbody>\n",
       "    <tr>\n",
       "      <th>9</th>\n",
       "      <td>Estados Unidos</td>\n",
       "      <td>Departamentos Varios</td>\n",
       "      <td>Petróleos crudos</td>\n",
       "      <td>5.981488e+10</td>\n",
       "    </tr>\n",
       "    <tr>\n",
       "      <th>38</th>\n",
       "      <td>Estados Unidos</td>\n",
       "      <td>Cesar</td>\n",
       "      <td>Hulla bituminosa, incluso pulverizada, sin agl...</td>\n",
       "      <td>6.805814e+09</td>\n",
       "    </tr>\n",
       "    <tr>\n",
       "      <th>52</th>\n",
       "      <td>Estados Unidos</td>\n",
       "      <td>Valle del Cauca</td>\n",
       "      <td>Gemas y metales preciosos</td>\n",
       "      <td>1.229241e+09</td>\n",
       "    </tr>\n",
       "    <tr>\n",
       "      <th>57</th>\n",
       "      <td>Estados Unidos</td>\n",
       "      <td>Cundinamarca</td>\n",
       "      <td>Flores y capullos cortados frescos (otras vari...</td>\n",
       "      <td>2.644424e+09</td>\n",
       "    </tr>\n",
       "    <tr>\n",
       "      <th>65</th>\n",
       "      <td>Estados Unidos</td>\n",
       "      <td>Antioquia</td>\n",
       "      <td>Gemas y metales preciosos</td>\n",
       "      <td>1.826788e+10</td>\n",
       "    </tr>\n",
       "    <tr>\n",
       "      <th>67</th>\n",
       "      <td>Estados Unidos</td>\n",
       "      <td>La Guajira</td>\n",
       "      <td>Hulla bituminosa, incluso pulverizada, sin agl...</td>\n",
       "      <td>2.862320e+09</td>\n",
       "    </tr>\n",
       "    <tr>\n",
       "      <th>69</th>\n",
       "      <td>Estados Unidos</td>\n",
       "      <td>Santafé de Bogotá</td>\n",
       "      <td>Flores y capullos cortados frescos (otras vari...</td>\n",
       "      <td>3.170017e+09</td>\n",
       "    </tr>\n",
       "    <tr>\n",
       "      <th>74</th>\n",
       "      <td>Estados Unidos</td>\n",
       "      <td>Bolívar</td>\n",
       "      <td>Petróleos crudos</td>\n",
       "      <td>2.418854e+09</td>\n",
       "    </tr>\n",
       "    <tr>\n",
       "      <th>87</th>\n",
       "      <td>Estados Unidos</td>\n",
       "      <td>Atlántico</td>\n",
       "      <td>Polvos de aluminio</td>\n",
       "      <td>3.142712e+09</td>\n",
       "    </tr>\n",
       "    <tr>\n",
       "      <th>95</th>\n",
       "      <td>Estados Unidos</td>\n",
       "      <td>Petróleo y Derivados</td>\n",
       "      <td>Petróleos crudos</td>\n",
       "      <td>4.308995e+10</td>\n",
       "    </tr>\n",
       "  </tbody>\n",
       "</table>\n",
       "</div>"
      ],
      "text/plain": [
       "              PAIS                 DEPTO  \\\n",
       "9   Estados Unidos  Departamentos Varios   \n",
       "38  Estados Unidos                 Cesar   \n",
       "52  Estados Unidos       Valle del Cauca   \n",
       "57  Estados Unidos          Cundinamarca   \n",
       "65  Estados Unidos             Antioquia   \n",
       "67  Estados Unidos            La Guajira   \n",
       "69  Estados Unidos     Santafé de Bogotá   \n",
       "74  Estados Unidos               Bolívar   \n",
       "87  Estados Unidos             Atlántico   \n",
       "95  Estados Unidos  Petróleo y Derivados   \n",
       "\n",
       "                                            PRODUCTOS     TOTAL_FOB  \n",
       "9                                    Petróleos crudos  5.981488e+10  \n",
       "38  Hulla bituminosa, incluso pulverizada, sin agl...  6.805814e+09  \n",
       "52                          Gemas y metales preciosos  1.229241e+09  \n",
       "57  Flores y capullos cortados frescos (otras vari...  2.644424e+09  \n",
       "65                          Gemas y metales preciosos  1.826788e+10  \n",
       "67  Hulla bituminosa, incluso pulverizada, sin agl...  2.862320e+09  \n",
       "69  Flores y capullos cortados frescos (otras vari...  3.170017e+09  \n",
       "74                                   Petróleos crudos  2.418854e+09  \n",
       "87                                 Polvos de aluminio  3.142712e+09  \n",
       "95                                   Petróleos crudos  4.308995e+10  "
      ]
     },
     "execution_count": 46,
     "metadata": {},
     "output_type": "execute_result"
    }
   ],
   "source": [
    "filtro_pais(\"Estados unidos\")"
   ]
  },
  {
   "cell_type": "markdown",
   "id": "e1a7bc1b",
   "metadata": {},
   "source": [
    "### Evolución de diversificación - Número de países activos por año"
   ]
  },
  {
   "cell_type": "code",
   "execution_count": null,
   "id": "80f04dcf",
   "metadata": {},
   "outputs": [],
   "source": [
    "diversificacion = df.group_by(\"AÑO\").agg(pl.col(\"PAIS\").n_unique().alias(\"num_paises\")).sort(\"AÑO\")"
   ]
  },
  {
   "cell_type": "code",
   "execution_count": 51,
   "id": "8cef6b0d",
   "metadata": {},
   "outputs": [
    {
     "data": {
      "text/html": [
       "<div><style>\n",
       ".dataframe > thead > tr,\n",
       ".dataframe > tbody > tr {\n",
       "  text-align: right;\n",
       "  white-space: pre-wrap;\n",
       "}\n",
       "</style>\n",
       "<small>shape: (21, 2)</small><table border=\"1\" class=\"dataframe\"><thead><tr><th>AÑO</th><th>num_paises</th></tr><tr><td>i64</td><td>u32</td></tr></thead><tbody><tr><td>2004</td><td>189</td></tr><tr><td>2005</td><td>185</td></tr><tr><td>2006</td><td>196</td></tr><tr><td>2007</td><td>195</td></tr><tr><td>2008</td><td>204</td></tr><tr><td>&hellip;</td><td>&hellip;</td></tr><tr><td>2020</td><td>212</td></tr><tr><td>2021</td><td>205</td></tr><tr><td>2022</td><td>206</td></tr><tr><td>2023</td><td>205</td></tr><tr><td>2024</td><td>212</td></tr></tbody></table></div>"
      ],
      "text/plain": [
       "shape: (21, 2)\n",
       "┌──────┬────────────┐\n",
       "│ AÑO  ┆ num_paises │\n",
       "│ ---  ┆ ---        │\n",
       "│ i64  ┆ u32        │\n",
       "╞══════╪════════════╡\n",
       "│ 2004 ┆ 189        │\n",
       "│ 2005 ┆ 185        │\n",
       "│ 2006 ┆ 196        │\n",
       "│ 2007 ┆ 195        │\n",
       "│ 2008 ┆ 204        │\n",
       "│ …    ┆ …          │\n",
       "│ 2020 ┆ 212        │\n",
       "│ 2021 ┆ 205        │\n",
       "│ 2022 ┆ 206        │\n",
       "│ 2023 ┆ 205        │\n",
       "│ 2024 ┆ 212        │\n",
       "└──────┴────────────┘"
      ]
     },
     "execution_count": 51,
     "metadata": {},
     "output_type": "execute_result"
    }
   ],
   "source": [
    "diversificacion"
   ]
  },
  {
   "cell_type": "code",
   "execution_count": 52,
   "id": "7ca6702b",
   "metadata": {},
   "outputs": [
    {
     "data": {
      "application/vnd.plotly.v1+json": {
       "config": {
        "plotlyServerURL": "https://plot.ly"
       },
       "data": [
        {
         "hovertemplate": "Año=%{x}<br>Numero de paises=%{y}<extra></extra>",
         "legendgroup": "",
         "line": {
          "color": "#636efa",
          "dash": "solid"
         },
         "marker": {
          "symbol": "circle"
         },
         "mode": "lines",
         "name": "",
         "orientation": "v",
         "showlegend": false,
         "type": "scatter",
         "x": {
          "bdata": "1AfVB9YH1wfYB9kH2gfbB9wH3QfeB98H4AfhB+IH4wfkB+UH5gfnB+gH",
          "dtype": "i2"
         },
         "xaxis": "x",
         "y": {
          "bdata": "vQAAALkAAADEAAAAwwAAAMwAAADKAAAAxAAAANAAAADPAAAAzAAAANYAAADSAAAA1AAAANMAAADUAAAA1wAAANQAAADNAAAAzgAAAM0AAADUAAAA",
          "dtype": "u4"
         },
         "yaxis": "y"
        }
       ],
       "layout": {
        "legend": {
         "tracegroupgap": 0
        },
        "margin": {
         "b": 120,
         "l": 40,
         "r": 20,
         "t": 80
        },
        "paper_bgcolor": "white",
        "plot_bgcolor": "white",
        "showlegend": false,
        "template": {
         "data": {
          "bar": [
           {
            "error_x": {
             "color": "#2a3f5f"
            },
            "error_y": {
             "color": "#2a3f5f"
            },
            "marker": {
             "line": {
              "color": "#E5ECF6",
              "width": 0.5
             },
             "pattern": {
              "fillmode": "overlay",
              "size": 10,
              "solidity": 0.2
             }
            },
            "type": "bar"
           }
          ],
          "barpolar": [
           {
            "marker": {
             "line": {
              "color": "#E5ECF6",
              "width": 0.5
             },
             "pattern": {
              "fillmode": "overlay",
              "size": 10,
              "solidity": 0.2
             }
            },
            "type": "barpolar"
           }
          ],
          "carpet": [
           {
            "aaxis": {
             "endlinecolor": "#2a3f5f",
             "gridcolor": "white",
             "linecolor": "white",
             "minorgridcolor": "white",
             "startlinecolor": "#2a3f5f"
            },
            "baxis": {
             "endlinecolor": "#2a3f5f",
             "gridcolor": "white",
             "linecolor": "white",
             "minorgridcolor": "white",
             "startlinecolor": "#2a3f5f"
            },
            "type": "carpet"
           }
          ],
          "choropleth": [
           {
            "colorbar": {
             "outlinewidth": 0,
             "ticks": ""
            },
            "type": "choropleth"
           }
          ],
          "contour": [
           {
            "colorbar": {
             "outlinewidth": 0,
             "ticks": ""
            },
            "colorscale": [
             [
              0,
              "#0d0887"
             ],
             [
              0.1111111111111111,
              "#46039f"
             ],
             [
              0.2222222222222222,
              "#7201a8"
             ],
             [
              0.3333333333333333,
              "#9c179e"
             ],
             [
              0.4444444444444444,
              "#bd3786"
             ],
             [
              0.5555555555555556,
              "#d8576b"
             ],
             [
              0.6666666666666666,
              "#ed7953"
             ],
             [
              0.7777777777777778,
              "#fb9f3a"
             ],
             [
              0.8888888888888888,
              "#fdca26"
             ],
             [
              1,
              "#f0f921"
             ]
            ],
            "type": "contour"
           }
          ],
          "contourcarpet": [
           {
            "colorbar": {
             "outlinewidth": 0,
             "ticks": ""
            },
            "type": "contourcarpet"
           }
          ],
          "heatmap": [
           {
            "colorbar": {
             "outlinewidth": 0,
             "ticks": ""
            },
            "colorscale": [
             [
              0,
              "#0d0887"
             ],
             [
              0.1111111111111111,
              "#46039f"
             ],
             [
              0.2222222222222222,
              "#7201a8"
             ],
             [
              0.3333333333333333,
              "#9c179e"
             ],
             [
              0.4444444444444444,
              "#bd3786"
             ],
             [
              0.5555555555555556,
              "#d8576b"
             ],
             [
              0.6666666666666666,
              "#ed7953"
             ],
             [
              0.7777777777777778,
              "#fb9f3a"
             ],
             [
              0.8888888888888888,
              "#fdca26"
             ],
             [
              1,
              "#f0f921"
             ]
            ],
            "type": "heatmap"
           }
          ],
          "histogram": [
           {
            "marker": {
             "pattern": {
              "fillmode": "overlay",
              "size": 10,
              "solidity": 0.2
             }
            },
            "type": "histogram"
           }
          ],
          "histogram2d": [
           {
            "colorbar": {
             "outlinewidth": 0,
             "ticks": ""
            },
            "colorscale": [
             [
              0,
              "#0d0887"
             ],
             [
              0.1111111111111111,
              "#46039f"
             ],
             [
              0.2222222222222222,
              "#7201a8"
             ],
             [
              0.3333333333333333,
              "#9c179e"
             ],
             [
              0.4444444444444444,
              "#bd3786"
             ],
             [
              0.5555555555555556,
              "#d8576b"
             ],
             [
              0.6666666666666666,
              "#ed7953"
             ],
             [
              0.7777777777777778,
              "#fb9f3a"
             ],
             [
              0.8888888888888888,
              "#fdca26"
             ],
             [
              1,
              "#f0f921"
             ]
            ],
            "type": "histogram2d"
           }
          ],
          "histogram2dcontour": [
           {
            "colorbar": {
             "outlinewidth": 0,
             "ticks": ""
            },
            "colorscale": [
             [
              0,
              "#0d0887"
             ],
             [
              0.1111111111111111,
              "#46039f"
             ],
             [
              0.2222222222222222,
              "#7201a8"
             ],
             [
              0.3333333333333333,
              "#9c179e"
             ],
             [
              0.4444444444444444,
              "#bd3786"
             ],
             [
              0.5555555555555556,
              "#d8576b"
             ],
             [
              0.6666666666666666,
              "#ed7953"
             ],
             [
              0.7777777777777778,
              "#fb9f3a"
             ],
             [
              0.8888888888888888,
              "#fdca26"
             ],
             [
              1,
              "#f0f921"
             ]
            ],
            "type": "histogram2dcontour"
           }
          ],
          "mesh3d": [
           {
            "colorbar": {
             "outlinewidth": 0,
             "ticks": ""
            },
            "type": "mesh3d"
           }
          ],
          "parcoords": [
           {
            "line": {
             "colorbar": {
              "outlinewidth": 0,
              "ticks": ""
             }
            },
            "type": "parcoords"
           }
          ],
          "pie": [
           {
            "automargin": true,
            "type": "pie"
           }
          ],
          "scatter": [
           {
            "fillpattern": {
             "fillmode": "overlay",
             "size": 10,
             "solidity": 0.2
            },
            "type": "scatter"
           }
          ],
          "scatter3d": [
           {
            "line": {
             "colorbar": {
              "outlinewidth": 0,
              "ticks": ""
             }
            },
            "marker": {
             "colorbar": {
              "outlinewidth": 0,
              "ticks": ""
             }
            },
            "type": "scatter3d"
           }
          ],
          "scattercarpet": [
           {
            "marker": {
             "colorbar": {
              "outlinewidth": 0,
              "ticks": ""
             }
            },
            "type": "scattercarpet"
           }
          ],
          "scattergeo": [
           {
            "marker": {
             "colorbar": {
              "outlinewidth": 0,
              "ticks": ""
             }
            },
            "type": "scattergeo"
           }
          ],
          "scattergl": [
           {
            "marker": {
             "colorbar": {
              "outlinewidth": 0,
              "ticks": ""
             }
            },
            "type": "scattergl"
           }
          ],
          "scattermap": [
           {
            "marker": {
             "colorbar": {
              "outlinewidth": 0,
              "ticks": ""
             }
            },
            "type": "scattermap"
           }
          ],
          "scattermapbox": [
           {
            "marker": {
             "colorbar": {
              "outlinewidth": 0,
              "ticks": ""
             }
            },
            "type": "scattermapbox"
           }
          ],
          "scatterpolar": [
           {
            "marker": {
             "colorbar": {
              "outlinewidth": 0,
              "ticks": ""
             }
            },
            "type": "scatterpolar"
           }
          ],
          "scatterpolargl": [
           {
            "marker": {
             "colorbar": {
              "outlinewidth": 0,
              "ticks": ""
             }
            },
            "type": "scatterpolargl"
           }
          ],
          "scatterternary": [
           {
            "marker": {
             "colorbar": {
              "outlinewidth": 0,
              "ticks": ""
             }
            },
            "type": "scatterternary"
           }
          ],
          "surface": [
           {
            "colorbar": {
             "outlinewidth": 0,
             "ticks": ""
            },
            "colorscale": [
             [
              0,
              "#0d0887"
             ],
             [
              0.1111111111111111,
              "#46039f"
             ],
             [
              0.2222222222222222,
              "#7201a8"
             ],
             [
              0.3333333333333333,
              "#9c179e"
             ],
             [
              0.4444444444444444,
              "#bd3786"
             ],
             [
              0.5555555555555556,
              "#d8576b"
             ],
             [
              0.6666666666666666,
              "#ed7953"
             ],
             [
              0.7777777777777778,
              "#fb9f3a"
             ],
             [
              0.8888888888888888,
              "#fdca26"
             ],
             [
              1,
              "#f0f921"
             ]
            ],
            "type": "surface"
           }
          ],
          "table": [
           {
            "cells": {
             "fill": {
              "color": "#EBF0F8"
             },
             "line": {
              "color": "white"
             }
            },
            "header": {
             "fill": {
              "color": "#C8D4E3"
             },
             "line": {
              "color": "white"
             }
            },
            "type": "table"
           }
          ]
         },
         "layout": {
          "annotationdefaults": {
           "arrowcolor": "#2a3f5f",
           "arrowhead": 0,
           "arrowwidth": 1
          },
          "autotypenumbers": "strict",
          "coloraxis": {
           "colorbar": {
            "outlinewidth": 0,
            "ticks": ""
           }
          },
          "colorscale": {
           "diverging": [
            [
             0,
             "#8e0152"
            ],
            [
             0.1,
             "#c51b7d"
            ],
            [
             0.2,
             "#de77ae"
            ],
            [
             0.3,
             "#f1b6da"
            ],
            [
             0.4,
             "#fde0ef"
            ],
            [
             0.5,
             "#f7f7f7"
            ],
            [
             0.6,
             "#e6f5d0"
            ],
            [
             0.7,
             "#b8e186"
            ],
            [
             0.8,
             "#7fbc41"
            ],
            [
             0.9,
             "#4d9221"
            ],
            [
             1,
             "#276419"
            ]
           ],
           "sequential": [
            [
             0,
             "#0d0887"
            ],
            [
             0.1111111111111111,
             "#46039f"
            ],
            [
             0.2222222222222222,
             "#7201a8"
            ],
            [
             0.3333333333333333,
             "#9c179e"
            ],
            [
             0.4444444444444444,
             "#bd3786"
            ],
            [
             0.5555555555555556,
             "#d8576b"
            ],
            [
             0.6666666666666666,
             "#ed7953"
            ],
            [
             0.7777777777777778,
             "#fb9f3a"
            ],
            [
             0.8888888888888888,
             "#fdca26"
            ],
            [
             1,
             "#f0f921"
            ]
           ],
           "sequentialminus": [
            [
             0,
             "#0d0887"
            ],
            [
             0.1111111111111111,
             "#46039f"
            ],
            [
             0.2222222222222222,
             "#7201a8"
            ],
            [
             0.3333333333333333,
             "#9c179e"
            ],
            [
             0.4444444444444444,
             "#bd3786"
            ],
            [
             0.5555555555555556,
             "#d8576b"
            ],
            [
             0.6666666666666666,
             "#ed7953"
            ],
            [
             0.7777777777777778,
             "#fb9f3a"
            ],
            [
             0.8888888888888888,
             "#fdca26"
            ],
            [
             1,
             "#f0f921"
            ]
           ]
          },
          "colorway": [
           "#636efa",
           "#EF553B",
           "#00cc96",
           "#ab63fa",
           "#FFA15A",
           "#19d3f3",
           "#FF6692",
           "#B6E880",
           "#FF97FF",
           "#FECB52"
          ],
          "font": {
           "color": "#2a3f5f"
          },
          "geo": {
           "bgcolor": "white",
           "lakecolor": "white",
           "landcolor": "#E5ECF6",
           "showlakes": true,
           "showland": true,
           "subunitcolor": "white"
          },
          "hoverlabel": {
           "align": "left"
          },
          "hovermode": "closest",
          "mapbox": {
           "style": "light"
          },
          "paper_bgcolor": "white",
          "plot_bgcolor": "#E5ECF6",
          "polar": {
           "angularaxis": {
            "gridcolor": "white",
            "linecolor": "white",
            "ticks": ""
           },
           "bgcolor": "#E5ECF6",
           "radialaxis": {
            "gridcolor": "white",
            "linecolor": "white",
            "ticks": ""
           }
          },
          "scene": {
           "xaxis": {
            "backgroundcolor": "#E5ECF6",
            "gridcolor": "white",
            "gridwidth": 2,
            "linecolor": "white",
            "showbackground": true,
            "ticks": "",
            "zerolinecolor": "white"
           },
           "yaxis": {
            "backgroundcolor": "#E5ECF6",
            "gridcolor": "white",
            "gridwidth": 2,
            "linecolor": "white",
            "showbackground": true,
            "ticks": "",
            "zerolinecolor": "white"
           },
           "zaxis": {
            "backgroundcolor": "#E5ECF6",
            "gridcolor": "white",
            "gridwidth": 2,
            "linecolor": "white",
            "showbackground": true,
            "ticks": "",
            "zerolinecolor": "white"
           }
          },
          "shapedefaults": {
           "line": {
            "color": "#2a3f5f"
           }
          },
          "ternary": {
           "aaxis": {
            "gridcolor": "white",
            "linecolor": "white",
            "ticks": ""
           },
           "baxis": {
            "gridcolor": "white",
            "linecolor": "white",
            "ticks": ""
           },
           "bgcolor": "#E5ECF6",
           "caxis": {
            "gridcolor": "white",
            "linecolor": "white",
            "ticks": ""
           }
          },
          "title": {
           "x": 0.05
          },
          "xaxis": {
           "automargin": true,
           "gridcolor": "white",
           "linecolor": "white",
           "ticks": "",
           "title": {
            "standoff": 15
           },
           "zerolinecolor": "white",
           "zerolinewidth": 2
          },
          "yaxis": {
           "automargin": true,
           "gridcolor": "white",
           "linecolor": "white",
           "ticks": "",
           "title": {
            "standoff": 15
           },
           "zerolinecolor": "white",
           "zerolinewidth": 2
          }
         }
        },
        "title": {
         "font": {
          "color": "black",
          "family": "Arial",
          "size": 24
         },
         "text": "Número de países activos por año"
        },
        "xaxis": {
         "anchor": "y",
         "domain": [
          0,
          1
         ],
         "tickangle": -45,
         "tickfont": {
          "size": 12
         },
         "title": {
          "text": "Año"
         }
        },
        "yaxis": {
         "anchor": "x",
         "domain": [
          0,
          1
         ],
         "tickfont": {
          "size": 12
         },
         "title": {
          "text": "Numero de paises"
         }
        }
       }
      }
     },
     "metadata": {},
     "output_type": "display_data"
    }
   ],
   "source": [
    "fig = px.line(diversificacion,\n",
    "              x='AÑO',\n",
    "              y='num_paises',\n",
    "              title='Número de países activos por año',\n",
    "              labels={\"AÑO\": \"Año\", \"num_paises\": \"Numero de paises\"}\n",
    "              )\n",
    "fig = estilo(fig)\n",
    "fig.show()"
   ]
  },
  {
   "cell_type": "markdown",
   "id": "f4c0569b",
   "metadata": {},
   "source": [
    ">###### __Finalidad:__ Analizar si el país ha ampliado o reducido sus mercados internacionales a lo largo del tiempo, evaluando la apertura o concentración geográfica del comercio exterior."
   ]
  },
  {
   "cell_type": "markdown",
   "id": "d8a01cba",
   "metadata": {},
   "source": [
    "### Dependencia de mercados (Top 5 países y su participación)"
   ]
  },
  {
   "cell_type": "code",
   "execution_count": 53,
   "id": "43fc8673",
   "metadata": {},
   "outputs": [],
   "source": [
    "top5_paises = fob_pais.sort(\"FOBDOL\", descending=True).head(5)\n",
    "top5_participacion = top5_paises.with_columns(\n",
    "    (pl.col(\"FOBDOL\") / total_fob * 100).alias(\"pct_participacion\")\n",
    ")"
   ]
  },
  {
   "cell_type": "code",
   "execution_count": 55,
   "id": "33c356d6",
   "metadata": {},
   "outputs": [
    {
     "name": "stdout",
     "output_type": "stream",
     "text": [
      "shape: (5, 5)\n",
      "┌────────────────┬───────────┬───────────────┬────────────────────────┬───────────────────┐\n",
      "│ PAIS           ┆ FOBDOL    ┆ participacion ┆ participacion_cuadrada ┆ pct_participacion │\n",
      "│ ---            ┆ ---       ┆ ---           ┆ ---                    ┆ ---               │\n",
      "│ str            ┆ f64       ┆ f64           ┆ f64                    ┆ f64               │\n",
      "╞════════════════╪═══════════╪═══════════════╪════════════════════════╪═══════════════════╡\n",
      "│ Estados Unidos ┆ 2.7012e11 ┆ 0.318327      ┆ 0.101332               ┆ 31.832701         │\n",
      "│ China          ┆ 4.8965e10 ┆ 0.057703      ┆ 0.00333                ┆ 5.770312          │\n",
      "│ Panamá         ┆ 4.5006e10 ┆ 0.053038      ┆ 0.002813               ┆ 5.303781          │\n",
      "│ Venezuela      ┆ 3.7167e10 ┆ 0.0438        ┆ 0.001918               ┆ 4.380031          │\n",
      "│ Ecuador        ┆ 3.4099e10 ┆ 0.040185      ┆ 0.001615               ┆ 4.018463          │\n",
      "└────────────────┴───────────┴───────────────┴────────────────────────┴───────────────────┘\n"
     ]
    }
   ],
   "source": [
    "print(top5_participacion)"
   ]
  },
  {
   "cell_type": "markdown",
   "id": "bf976132",
   "metadata": {},
   "source": [
    ">###### __Finalidad:__ Identificar qué países representan la mayor proporción de las exportaciones, evaluando el grado de exposición a mercados específicos."
   ]
  }
 ],
 "metadata": {
  "kernelspec": {
   "display_name": ".env",
   "language": "python",
   "name": "python3"
  },
  "language_info": {
   "codemirror_mode": {
    "name": "ipython",
    "version": 3
   },
   "file_extension": ".py",
   "mimetype": "text/x-python",
   "name": "python",
   "nbconvert_exporter": "python",
   "pygments_lexer": "ipython3",
   "version": "3.13.0"
  }
 },
 "nbformat": 4,
 "nbformat_minor": 5
}
