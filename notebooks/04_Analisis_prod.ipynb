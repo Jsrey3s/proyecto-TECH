{
 "cells": [
  {
   "cell_type": "code",
   "execution_count": 1,
   "id": "02e9112d",
   "metadata": {},
   "outputs": [],
   "source": [
    "import sys\n",
    "sys.path.append('..')\n",
    "from utils.paths import get_file_path\n",
    "\n",
    "import polars as pl\n",
    "import pandas as pd\n",
    "import plotly.express as px\n",
    "import plotly.graph_objects as go"
   ]
  },
  {
   "cell_type": "code",
   "execution_count": 2,
   "id": "3acd58a6",
   "metadata": {},
   "outputs": [],
   "source": [
    "def estilo(fig):\n",
    "    fig.update_layout(\n",
    "        title_font=dict(size=24, family=\"Arial\", color=\"black\"),\n",
    "        xaxis_tickangle=-45,\n",
    "        xaxis_tickfont=dict(size=12),\n",
    "        yaxis_tickfont=dict(size=12),\n",
    "        plot_bgcolor=\"white\",\n",
    "        paper_bgcolor=\"white\",\n",
    "        showlegend=False,\n",
    "        margin=dict(t=80, l=40, r=20, b=120),\n",
    "    )\n",
    "    return fig"
   ]
  },
  {
   "cell_type": "code",
   "execution_count": 3,
   "id": "ff79a8f0",
   "metadata": {},
   "outputs": [],
   "source": [
    "df = pl.scan_csv(\n",
    "    get_file_path('cleaned', 'exportaciones'),\n",
    "    low_memory=True\n",
    ").collect()"
   ]
  },
  {
   "cell_type": "markdown",
   "id": "53a2f2f0",
   "metadata": {},
   "source": [
    "### Sofisticación exportadora - Ratio AGRENA/FOBDOL por producto"
   ]
  },
  {
   "cell_type": "markdown",
   "id": "e78194d0",
   "metadata": {},
   "source": [
    "#### __¿Qué es el ratio_ag_fob?__\n",
    "\n",
    "El ratio_ag_fob es el cociente entre el valor agregado nacional (AGRENA) y el valor total de exportación en dólares FOB (FOBDOL) para cada producto. Se interpreta como una medida de sofisticación exportadora:\n",
    "\n",
    "+ __Ratio alto (cercano a 1.0):__ Indica que casi todo el valor exportado proviene de insumos o procesos nacionales. Es decir, Colombia está generando valor internamente antes de exportar, lo que implica mayor desarrollo productivo.\n",
    "\n",
    "+ __Ratio bajo (cercano a 0.0):__ Sugiere que gran parte del producto exportado no tiene aporte nacional significativo, sino que podría tratarse de reexportaciones, maquila o ensamblajes sin insumos locales.\n",
    "\n",
    "+ __Ratio = 0.0:__ Significa que no hubo ningún valor agregado nacional. Aunque el producto se exportó, Colombia no aportó insumos ni transformación local, y por tanto no generó sofisticación económica interna."
   ]
  },
  {
   "cell_type": "markdown",
   "id": "0961f451",
   "metadata": {},
   "source": [
    "### Productos con alta sofisticación exportadora"
   ]
  },
  {
   "cell_type": "code",
   "execution_count": 37,
   "id": "0d9c3a0f",
   "metadata": {},
   "outputs": [],
   "source": [
    "productos_sofisticados = (\n",
    "    df.filter((pl.col(\"FOBDOL\") > 50_000) & (pl.col(\"AGRENA\") > 0))\n",
    "    .with_columns((pl.col(\"AGRENA\") / pl.col(\"FOBDOL\")).alias(\"ratio_ag_fob\"))\n",
    "    .sort(\"ratio_ag_fob\", descending=True)\n",
    ")\n",
    "productos_sofisticados = productos_sofisticados[['POSARA','AGRENA', 'FOBDOL', 'ratio_ag_fob']]"
   ]
  },
  {
   "cell_type": "code",
   "execution_count": 38,
   "id": "4974842e",
   "metadata": {},
   "outputs": [
    {
     "name": "stdout",
     "output_type": "stream",
     "text": [
      "Productos con alta sofisticación (AGRENA > 0):\n"
     ]
    },
    {
     "data": {
      "text/html": [
       "<div><style>\n",
       ".dataframe > thead > tr,\n",
       ".dataframe > tbody > tr {\n",
       "  text-align: right;\n",
       "  white-space: pre-wrap;\n",
       "}\n",
       "</style>\n",
       "<small>shape: (572_801, 4)</small><table border=\"1\" class=\"dataframe\"><thead><tr><th>POSARA</th><th>AGRENA</th><th>FOBDOL</th><th>ratio_ag_fob</th></tr><tr><td>i64</td><td>f64</td><td>f64</td><td>f64</td></tr></thead><tbody><tr><td>8504230000</td><td>2.2493e6</td><td>352000.0</td><td>6.390137</td></tr><tr><td>603199000</td><td>1.4422e6</td><td>824390.33</td><td>1.749358</td></tr><tr><td>603199000</td><td>985372.47</td><td>836207.82</td><td>1.178382</td></tr><tr><td>603110000</td><td>2.7781e6</td><td>2.7498e6</td><td>1.01031</td></tr><tr><td>803901100</td><td>130768.61</td><td>130765.3</td><td>1.000025</td></tr><tr><td>&hellip;</td><td>&hellip;</td><td>&hellip;</td><td>&hellip;</td></tr><tr><td>3903900000</td><td>0.06</td><td>206075.86</td><td>2.9115e-7</td></tr><tr><td>3903190000</td><td>0.02</td><td>78030.02</td><td>2.5631e-7</td></tr><tr><td>8537109000</td><td>0.05</td><td>217783.6</td><td>2.2959e-7</td></tr><tr><td>3903190000</td><td>0.01</td><td>83605.5</td><td>1.1961e-7</td></tr><tr><td>304190010</td><td>0.01</td><td>407627.0</td><td>2.4532e-8</td></tr></tbody></table></div>"
      ],
      "text/plain": [
       "shape: (572_801, 4)\n",
       "┌────────────┬───────────┬───────────┬──────────────┐\n",
       "│ POSARA     ┆ AGRENA    ┆ FOBDOL    ┆ ratio_ag_fob │\n",
       "│ ---        ┆ ---       ┆ ---       ┆ ---          │\n",
       "│ i64        ┆ f64       ┆ f64       ┆ f64          │\n",
       "╞════════════╪═══════════╪═══════════╪══════════════╡\n",
       "│ 8504230000 ┆ 2.2493e6  ┆ 352000.0  ┆ 6.390137     │\n",
       "│ 603199000  ┆ 1.4422e6  ┆ 824390.33 ┆ 1.749358     │\n",
       "│ 603199000  ┆ 985372.47 ┆ 836207.82 ┆ 1.178382     │\n",
       "│ 603110000  ┆ 2.7781e6  ┆ 2.7498e6  ┆ 1.01031      │\n",
       "│ 803901100  ┆ 130768.61 ┆ 130765.3  ┆ 1.000025     │\n",
       "│ …          ┆ …         ┆ …         ┆ …            │\n",
       "│ 3903900000 ┆ 0.06      ┆ 206075.86 ┆ 2.9115e-7    │\n",
       "│ 3903190000 ┆ 0.02      ┆ 78030.02  ┆ 2.5631e-7    │\n",
       "│ 8537109000 ┆ 0.05      ┆ 217783.6  ┆ 2.2959e-7    │\n",
       "│ 3903190000 ┆ 0.01      ┆ 83605.5   ┆ 1.1961e-7    │\n",
       "│ 304190010  ┆ 0.01      ┆ 407627.0  ┆ 2.4532e-8    │\n",
       "└────────────┴───────────┴───────────┴──────────────┘"
      ]
     },
     "execution_count": 38,
     "metadata": {},
     "output_type": "execute_result"
    }
   ],
   "source": [
    "print(\"Productos con alta sofisticación (AGRENA > 0):\")\n",
    "productos_sofisticados"
   ]
  },
  {
   "cell_type": "markdown",
   "id": "03743b09",
   "metadata": {},
   "source": [
    ">###### __Finalidad:__ Identificar aquellos productos que generan valor en Colombia antes de ser exportados, reflejando una economía más compleja, con mayor contenido local y desarrollo productivo interno."
   ]
  },
  {
   "cell_type": "markdown",
   "id": "fbc97926",
   "metadata": {},
   "source": [
    "### Top 10 productos"
   ]
  },
  {
   "cell_type": "code",
   "execution_count": 55,
   "id": "77c89485",
   "metadata": {},
   "outputs": [],
   "source": [
    "top_agrena = (\n",
    "    df.filter(pl.col(\"AGRENA\") > 0)\n",
    "      .group_by(\"POSARA\")\n",
    "      .agg(pl.col(\"FOBDOL\").sum().alias(\"total_fob\"))\n",
    "      .sort(\"total_fob\", descending=True)\n",
    "      .head(10)\n",
    ")\n",
    "\n",
    "prod_agrena = {\n",
    "    2701120010: 'Hulla bituminosa, incluso pulverizada, sin aglomerar',\n",
    "    7202600000: 'Ferroníquel',\n",
    "    803901100:  'Bananas y plátanos frescos (Cavendish y similares)',\n",
    "    603199090:  'Flores y capullos cortados frescos (otras variedades)',\n",
    "    603110000:  'Plantas ornamentales vivas',\n",
    "    3902100000: 'Polietileno en formas primarias (<0.94 densidad)',\n",
    "    3904102000: 'Polipropileno en formas primarias',\n",
    "    803001200:  'Otras bananas y plátanos frescos',\n",
    "    901119000:  'Café sin tostar, sin descafeinar',\n",
    "    1701999000: 'Otros azúcares crudos y mezclas de azúcar'\n",
    "}"
   ]
  },
  {
   "cell_type": "code",
   "execution_count": 56,
   "id": "9850eb86",
   "metadata": {},
   "outputs": [
    {
     "data": {
      "application/vnd.microsoft.datawrangler.viewer.v0+json": {
       "columns": [
        {
         "name": "index",
         "rawType": "int64",
         "type": "integer"
        },
        {
         "name": "PRODUCTOS",
         "rawType": "object",
         "type": "string"
        },
        {
         "name": "total_fob",
         "rawType": "float64",
         "type": "float"
        }
       ],
       "ref": "1a7b4937-25ae-437e-9cdb-47369a2b79f8",
       "rows": [
        [
         "0",
         "Hulla bituminosa, incluso pulverizada, sin aglomerar",
         "88585085481.6806"
        ],
        [
         "1",
         "Ferroníquel",
         "14963371198.339977"
        ],
        [
         "2",
         "Bananas y plátanos frescos (Cavendish y similares)",
         "10768797138.90994"
        ],
        [
         "3",
         "Flores y capullos cortados frescos (otras variedades)",
         "5725306582.959994"
        ],
        [
         "4",
         "Plantas ornamentales vivas",
         "5020633437.080041"
        ],
        [
         "5",
         "Polietileno en formas primarias (<0.94 densidad)",
         "4828464071.690011"
        ],
        [
         "6",
         "Polipropileno en formas primarias",
         "4634667350.069998"
        ],
        [
         "7",
         "Otras bananas y plátanos frescos",
         "4587053010.749994"
        ],
        [
         "8",
         "Café sin tostar, sin descafeinar",
         "3973758485.099993"
        ],
        [
         "9",
         "Otros azúcares crudos y mezclas de azúcar",
         "3805082947.269992"
        ]
       ],
       "shape": {
        "columns": 2,
        "rows": 10
       }
      },
      "text/html": [
       "<div>\n",
       "<style scoped>\n",
       "    .dataframe tbody tr th:only-of-type {\n",
       "        vertical-align: middle;\n",
       "    }\n",
       "\n",
       "    .dataframe tbody tr th {\n",
       "        vertical-align: top;\n",
       "    }\n",
       "\n",
       "    .dataframe thead th {\n",
       "        text-align: right;\n",
       "    }\n",
       "</style>\n",
       "<table border=\"1\" class=\"dataframe\">\n",
       "  <thead>\n",
       "    <tr style=\"text-align: right;\">\n",
       "      <th></th>\n",
       "      <th>PRODUCTOS</th>\n",
       "      <th>total_fob</th>\n",
       "    </tr>\n",
       "  </thead>\n",
       "  <tbody>\n",
       "    <tr>\n",
       "      <th>0</th>\n",
       "      <td>Hulla bituminosa, incluso pulverizada, sin agl...</td>\n",
       "      <td>8.858509e+10</td>\n",
       "    </tr>\n",
       "    <tr>\n",
       "      <th>1</th>\n",
       "      <td>Ferroníquel</td>\n",
       "      <td>1.496337e+10</td>\n",
       "    </tr>\n",
       "    <tr>\n",
       "      <th>2</th>\n",
       "      <td>Bananas y plátanos frescos (Cavendish y simila...</td>\n",
       "      <td>1.076880e+10</td>\n",
       "    </tr>\n",
       "    <tr>\n",
       "      <th>3</th>\n",
       "      <td>Flores y capullos cortados frescos (otras vari...</td>\n",
       "      <td>5.725307e+09</td>\n",
       "    </tr>\n",
       "    <tr>\n",
       "      <th>4</th>\n",
       "      <td>Plantas ornamentales vivas</td>\n",
       "      <td>5.020633e+09</td>\n",
       "    </tr>\n",
       "    <tr>\n",
       "      <th>5</th>\n",
       "      <td>Polietileno en formas primarias (&lt;0.94 densidad)</td>\n",
       "      <td>4.828464e+09</td>\n",
       "    </tr>\n",
       "    <tr>\n",
       "      <th>6</th>\n",
       "      <td>Polipropileno en formas primarias</td>\n",
       "      <td>4.634667e+09</td>\n",
       "    </tr>\n",
       "    <tr>\n",
       "      <th>7</th>\n",
       "      <td>Otras bananas y plátanos frescos</td>\n",
       "      <td>4.587053e+09</td>\n",
       "    </tr>\n",
       "    <tr>\n",
       "      <th>8</th>\n",
       "      <td>Café sin tostar, sin descafeinar</td>\n",
       "      <td>3.973758e+09</td>\n",
       "    </tr>\n",
       "    <tr>\n",
       "      <th>9</th>\n",
       "      <td>Otros azúcares crudos y mezclas de azúcar</td>\n",
       "      <td>3.805083e+09</td>\n",
       "    </tr>\n",
       "  </tbody>\n",
       "</table>\n",
       "</div>"
      ],
      "text/plain": [
       "                                           PRODUCTOS     total_fob\n",
       "0  Hulla bituminosa, incluso pulverizada, sin agl...  8.858509e+10\n",
       "1                                        Ferroníquel  1.496337e+10\n",
       "2  Bananas y plátanos frescos (Cavendish y simila...  1.076880e+10\n",
       "3  Flores y capullos cortados frescos (otras vari...  5.725307e+09\n",
       "4                         Plantas ornamentales vivas  5.020633e+09\n",
       "5   Polietileno en formas primarias (<0.94 densidad)  4.828464e+09\n",
       "6                  Polipropileno en formas primarias  4.634667e+09\n",
       "7                   Otras bananas y plátanos frescos  4.587053e+09\n",
       "8                   Café sin tostar, sin descafeinar  3.973758e+09\n",
       "9          Otros azúcares crudos y mezclas de azúcar  3.805083e+09"
      ]
     },
     "execution_count": 56,
     "metadata": {},
     "output_type": "execute_result"
    }
   ],
   "source": [
    "top_agrena = top_agrena.to_pandas()\n",
    "top_agrena['POSARA'] = top_agrena['POSARA'].map(prod_agrena)\n",
    "top_agrena = top_agrena.rename(columns={'POSARA': 'PRODUCTOS'})\n",
    "\n",
    "top_agrena"
   ]
  },
  {
   "cell_type": "markdown",
   "id": "9c7080d1",
   "metadata": {},
   "source": [
    "#### Conclusiones: \n",
    "\n",
    "+ Se identificaron 572,801 registros con valor agregado positivo.\n",
    "\n",
    "+ Estos productos reflejan una base productiva más fuerte en el país.\n",
    "\n",
    "+ Una alta proporción de exportaciones tiene algún grado de aporte nacional, lo cual es positivo para la sostenibilidad económica y el empleo local.\n",
    "\n",
    "+ Es clave fomentar e incentivar estos productos, pues generan más beneficios para el aparato productivo nacional."
   ]
  },
  {
   "cell_type": "markdown",
   "id": "e172c087",
   "metadata": {},
   "source": [
    "### Productos con alto valor exportado pero sin aporte nacional (AGRENA = 0)"
   ]
  },
  {
   "cell_type": "code",
   "execution_count": 39,
   "id": "acb90fb5",
   "metadata": {},
   "outputs": [],
   "source": [
    "productos_sin_agrena = (\n",
    "    df.filter((pl.col(\"FOBDOL\") > 50_000) & (pl.col(\"AGRENA\") == 0))\n",
    "    .with_columns(pl.lit(0.0).alias(\"ratio_ag_fob\"))\n",
    "    .sort(\"FOBDOL\", descending=True)\n",
    ")\n",
    "productos_sin_agrena = productos_sin_agrena[['POSARA', 'AGRENA', 'FOBDOL', 'ratio_ag_fob']]"
   ]
  },
  {
   "cell_type": "code",
   "execution_count": 40,
   "id": "15bb2d21",
   "metadata": {},
   "outputs": [
    {
     "name": "stdout",
     "output_type": "stream",
     "text": [
      "Productos con alto valor FOB pero sin aporte nacional (AGRENA = 0):\n"
     ]
    },
    {
     "data": {
      "text/html": [
       "<div><style>\n",
       ".dataframe > thead > tr,\n",
       ".dataframe > tbody > tr {\n",
       "  text-align: right;\n",
       "  white-space: pre-wrap;\n",
       "}\n",
       "</style>\n",
       "<small>shape: (693_428, 4)</small><table border=\"1\" class=\"dataframe\"><thead><tr><th>POSARA</th><th>AGRENA</th><th>FOBDOL</th><th>ratio_ag_fob</th></tr><tr><td>i64</td><td>f64</td><td>f64</td><td>f64</td></tr></thead><tbody><tr><td>2709000000</td><td>0.0</td><td>1.1251e9</td><td>0.0</td></tr><tr><td>2709000000</td><td>0.0</td><td>1.0436e9</td><td>0.0</td></tr><tr><td>2709000000</td><td>0.0</td><td>9.65602149e8</td><td>0.0</td></tr><tr><td>2709000000</td><td>0.0</td><td>9.17236306e8</td><td>0.0</td></tr><tr><td>2709000000</td><td>0.0</td><td>8.66289295e8</td><td>0.0</td></tr><tr><td>&hellip;</td><td>&hellip;</td><td>&hellip;</td><td>&hellip;</td></tr><tr><td>8418991000</td><td>0.0</td><td>50000.24</td><td>0.0</td></tr><tr><td>603129000</td><td>0.0</td><td>50000.2</td><td>0.0</td></tr><tr><td>1701999000</td><td>0.0</td><td>50000.2</td><td>0.0</td></tr><tr><td>1207101000</td><td>0.0</td><td>50000.2</td><td>0.0</td></tr><tr><td>2836500000</td><td>0.0</td><td>50000.1</td><td>0.0</td></tr></tbody></table></div>"
      ],
      "text/plain": [
       "shape: (693_428, 4)\n",
       "┌────────────┬────────┬──────────────┬──────────────┐\n",
       "│ POSARA     ┆ AGRENA ┆ FOBDOL       ┆ ratio_ag_fob │\n",
       "│ ---        ┆ ---    ┆ ---          ┆ ---          │\n",
       "│ i64        ┆ f64    ┆ f64          ┆ f64          │\n",
       "╞════════════╪════════╪══════════════╪══════════════╡\n",
       "│ 2709000000 ┆ 0.0    ┆ 1.1251e9     ┆ 0.0          │\n",
       "│ 2709000000 ┆ 0.0    ┆ 1.0436e9     ┆ 0.0          │\n",
       "│ 2709000000 ┆ 0.0    ┆ 9.65602149e8 ┆ 0.0          │\n",
       "│ 2709000000 ┆ 0.0    ┆ 9.17236306e8 ┆ 0.0          │\n",
       "│ 2709000000 ┆ 0.0    ┆ 8.66289295e8 ┆ 0.0          │\n",
       "│ …          ┆ …      ┆ …            ┆ …            │\n",
       "│ 8418991000 ┆ 0.0    ┆ 50000.24     ┆ 0.0          │\n",
       "│ 603129000  ┆ 0.0    ┆ 50000.2      ┆ 0.0          │\n",
       "│ 1701999000 ┆ 0.0    ┆ 50000.2      ┆ 0.0          │\n",
       "│ 1207101000 ┆ 0.0    ┆ 50000.2      ┆ 0.0          │\n",
       "│ 2836500000 ┆ 0.0    ┆ 50000.1      ┆ 0.0          │\n",
       "└────────────┴────────┴──────────────┴──────────────┘"
      ]
     },
     "execution_count": 40,
     "metadata": {},
     "output_type": "execute_result"
    }
   ],
   "source": [
    "print(\"Productos con alto valor FOB pero sin aporte nacional (AGRENA = 0):\")\n",
    "productos_sin_agrena"
   ]
  },
  {
   "cell_type": "markdown",
   "id": "90f0d800",
   "metadata": {},
   "source": [
    ">###### __Finalidad:__ Visibilizar exportaciones donde Colombia no interviene significativamente en la generación de valor, lo que puede implicar reexportaciones o actividades con bajo impacto interno."
   ]
  },
  {
   "cell_type": "markdown",
   "id": "df952ffe",
   "metadata": {},
   "source": [
    "### Top 10 productos"
   ]
  },
  {
   "cell_type": "code",
   "execution_count": 57,
   "id": "d1391f7a",
   "metadata": {},
   "outputs": [],
   "source": [
    "top_sin_agrena = (\n",
    "    df.filter(pl.col(\"AGRENA\") == 0)\n",
    "      .group_by(\"POSARA\")\n",
    "      .agg(pl.col(\"FOBDOL\").sum().alias(\"total_fob\"))\n",
    "      .sort(\"total_fob\", descending=True)\n",
    "      .head(10)\n",
    ")\n",
    "\n",
    "prod_sin_agrena = {\n",
    "    2709000000: 'Petróleos crudos',\n",
    "    901119000:  'Café sin tostar, sin descafeinar',\n",
    "    7108120000: 'Gemas y metales preciosos',\n",
    "    2710192200: 'Fuelóleos y gasóleos pesados',\n",
    "    2701120010: 'Hulla bituminosa, incluso pulverizada, sin aglomerar',\n",
    "    2704001000: 'Coques y semicoques de hulla, carbón de retorta',\n",
    "    2710192100: 'Preparaciones de aceites minerales (≥70 %)',\n",
    "    2710129200: 'Gasóleo (diésel) marino',\n",
    "    1511100000: 'Aceite de palma crudo',\n",
    "    2701120090: 'Otras hullas bituminosas (resto)'\n",
    "}"
   ]
  },
  {
   "cell_type": "code",
   "execution_count": 58,
   "id": "4093b4b4",
   "metadata": {},
   "outputs": [
    {
     "data": {
      "application/vnd.microsoft.datawrangler.viewer.v0+json": {
       "columns": [
        {
         "name": "index",
         "rawType": "int64",
         "type": "integer"
        },
        {
         "name": "PRODUCTOS",
         "rawType": "object",
         "type": "string"
        },
        {
         "name": "total_fob",
         "rawType": "float64",
         "type": "float"
        }
       ],
       "ref": "a2ebdd02-1cb3-4e16-acd2-90cd6f189915",
       "rows": [
        [
         "0",
         "Petróleos crudos",
         "269938671628.83014"
        ],
        [
         "1",
         "Café sin tostar, sin descafeinar",
         "42349117906.12068"
        ],
        [
         "2",
         "Gemas y metales preciosos",
         "36831013044.569954"
        ],
        [
         "3",
         "Fuelóleos y gasóleos pesados",
         "24022460777.829998"
        ],
        [
         "4",
         "Hulla bituminosa, incluso pulverizada, sin aglomerar",
         "20128354994.21999"
        ],
        [
         "5",
         "Coques y semicoques de hulla, carbón de retorta",
         "11983042429.16002"
        ],
        [
         "6",
         "Preparaciones de aceites minerales (≥70 %)",
         "11211564968.91"
        ],
        [
         "7",
         "Gasóleo (diésel) marino",
         "4768040090.00002"
        ],
        [
         "8",
         "Aceite de palma crudo",
         "4236822822.800004"
        ],
        [
         "9",
         "Otras hullas bituminosas (resto)",
         "3637414677.979998"
        ]
       ],
       "shape": {
        "columns": 2,
        "rows": 10
       }
      },
      "text/html": [
       "<div>\n",
       "<style scoped>\n",
       "    .dataframe tbody tr th:only-of-type {\n",
       "        vertical-align: middle;\n",
       "    }\n",
       "\n",
       "    .dataframe tbody tr th {\n",
       "        vertical-align: top;\n",
       "    }\n",
       "\n",
       "    .dataframe thead th {\n",
       "        text-align: right;\n",
       "    }\n",
       "</style>\n",
       "<table border=\"1\" class=\"dataframe\">\n",
       "  <thead>\n",
       "    <tr style=\"text-align: right;\">\n",
       "      <th></th>\n",
       "      <th>PRODUCTOS</th>\n",
       "      <th>total_fob</th>\n",
       "    </tr>\n",
       "  </thead>\n",
       "  <tbody>\n",
       "    <tr>\n",
       "      <th>0</th>\n",
       "      <td>Petróleos crudos</td>\n",
       "      <td>2.699387e+11</td>\n",
       "    </tr>\n",
       "    <tr>\n",
       "      <th>1</th>\n",
       "      <td>Café sin tostar, sin descafeinar</td>\n",
       "      <td>4.234912e+10</td>\n",
       "    </tr>\n",
       "    <tr>\n",
       "      <th>2</th>\n",
       "      <td>Gemas y metales preciosos</td>\n",
       "      <td>3.683101e+10</td>\n",
       "    </tr>\n",
       "    <tr>\n",
       "      <th>3</th>\n",
       "      <td>Fuelóleos y gasóleos pesados</td>\n",
       "      <td>2.402246e+10</td>\n",
       "    </tr>\n",
       "    <tr>\n",
       "      <th>4</th>\n",
       "      <td>Hulla bituminosa, incluso pulverizada, sin agl...</td>\n",
       "      <td>2.012835e+10</td>\n",
       "    </tr>\n",
       "    <tr>\n",
       "      <th>5</th>\n",
       "      <td>Coques y semicoques de hulla, carbón de retorta</td>\n",
       "      <td>1.198304e+10</td>\n",
       "    </tr>\n",
       "    <tr>\n",
       "      <th>6</th>\n",
       "      <td>Preparaciones de aceites minerales (≥70 %)</td>\n",
       "      <td>1.121156e+10</td>\n",
       "    </tr>\n",
       "    <tr>\n",
       "      <th>7</th>\n",
       "      <td>Gasóleo (diésel) marino</td>\n",
       "      <td>4.768040e+09</td>\n",
       "    </tr>\n",
       "    <tr>\n",
       "      <th>8</th>\n",
       "      <td>Aceite de palma crudo</td>\n",
       "      <td>4.236823e+09</td>\n",
       "    </tr>\n",
       "    <tr>\n",
       "      <th>9</th>\n",
       "      <td>Otras hullas bituminosas (resto)</td>\n",
       "      <td>3.637415e+09</td>\n",
       "    </tr>\n",
       "  </tbody>\n",
       "</table>\n",
       "</div>"
      ],
      "text/plain": [
       "                                           PRODUCTOS     total_fob\n",
       "0                                   Petróleos crudos  2.699387e+11\n",
       "1                   Café sin tostar, sin descafeinar  4.234912e+10\n",
       "2                          Gemas y metales preciosos  3.683101e+10\n",
       "3                       Fuelóleos y gasóleos pesados  2.402246e+10\n",
       "4  Hulla bituminosa, incluso pulverizada, sin agl...  2.012835e+10\n",
       "5    Coques y semicoques de hulla, carbón de retorta  1.198304e+10\n",
       "6         Preparaciones de aceites minerales (≥70 %)  1.121156e+10\n",
       "7                            Gasóleo (diésel) marino  4.768040e+09\n",
       "8                              Aceite de palma crudo  4.236823e+09\n",
       "9                   Otras hullas bituminosas (resto)  3.637415e+09"
      ]
     },
     "execution_count": 58,
     "metadata": {},
     "output_type": "execute_result"
    }
   ],
   "source": [
    "top_sin_agrena = top_sin_agrena.to_pandas()\n",
    "top_sin_agrena['POSARA'] = top_sin_agrena['POSARA'].map(prod_sin_agrena)\n",
    "top_sin_agrena = top_sin_agrena.rename(columns={'POSARA': 'PRODUCTOS'})\n",
    "\n",
    "top_sin_agrena"
   ]
  },
  {
   "cell_type": "markdown",
   "id": "3c019acb",
   "metadata": {},
   "source": [
    "#### Conclusiones:\n",
    "\n",
    "+ Se registraron 693,428 productos exportados sin aporte nacional.\n",
    "\n",
    "+ Aunque generan cifras altas de exportación en dólares, no promueven desarrollo interno ni sofisticación.\n",
    "\n",
    "+ Esto puede indicar dependencia de flujos logísticos (por ejemplo, zonas francas o productos ensamblados con insumos extranjeros).\n",
    "\n",
    "+ Es necesario revisar políticas industriales o de encadenamientos para que estas exportaciones generen más valor local."
   ]
  },
  {
   "cell_type": "code",
   "execution_count": 43,
   "id": "897dd75c",
   "metadata": {},
   "outputs": [
    {
     "data": {
      "application/vnd.plotly.v1+json": {
       "config": {
        "plotlyServerURL": "https://plot.ly"
       },
       "data": [
        {
         "hovertemplate": "Tipo de producto=%{x}<br>Cantidad de productos=%{text}<extra></extra>",
         "legendgroup": "Con valor agregado nacional (AGRENA > 0)",
         "marker": {
          "color": "#636efa",
          "pattern": {
           "shape": ""
          }
         },
         "name": "Con valor agregado nacional (AGRENA > 0)",
         "orientation": "v",
         "showlegend": true,
         "text": {
          "bdata": "AAAAAAJ7IUE=",
          "dtype": "f8"
         },
         "textposition": "auto",
         "type": "bar",
         "x": [
          "Con valor agregado nacional (AGRENA > 0)"
         ],
         "xaxis": "x",
         "y": {
          "bdata": "gb0IAA==",
          "dtype": "i4"
         },
         "yaxis": "y"
        },
        {
         "hovertemplate": "Tipo de producto=%{x}<br>Cantidad de productos=%{text}<extra></extra>",
         "legendgroup": "Sin valor agregado nacional (AGRENA = 0)",
         "marker": {
          "color": "#EF553B",
          "pattern": {
           "shape": ""
          }
         },
         "name": "Sin valor agregado nacional (AGRENA = 0)",
         "orientation": "v",
         "showlegend": true,
         "text": {
          "bdata": "AAAAAGgpJUE=",
          "dtype": "f8"
         },
         "textposition": "auto",
         "type": "bar",
         "x": [
          "Sin valor agregado nacional (AGRENA = 0)"
         ],
         "xaxis": "x",
         "y": {
          "bdata": "tJQKAA==",
          "dtype": "i4"
         },
         "yaxis": "y"
        }
       ],
       "layout": {
        "barmode": "relative",
        "legend": {
         "title": {
          "text": "Tipo de producto"
         },
         "tracegroupgap": 0
        },
        "paper_bgcolor": "white",
        "plot_bgcolor": "white",
        "showlegend": false,
        "template": {
         "data": {
          "bar": [
           {
            "error_x": {
             "color": "#2a3f5f"
            },
            "error_y": {
             "color": "#2a3f5f"
            },
            "marker": {
             "line": {
              "color": "#E5ECF6",
              "width": 0.5
             },
             "pattern": {
              "fillmode": "overlay",
              "size": 10,
              "solidity": 0.2
             }
            },
            "type": "bar"
           }
          ],
          "barpolar": [
           {
            "marker": {
             "line": {
              "color": "#E5ECF6",
              "width": 0.5
             },
             "pattern": {
              "fillmode": "overlay",
              "size": 10,
              "solidity": 0.2
             }
            },
            "type": "barpolar"
           }
          ],
          "carpet": [
           {
            "aaxis": {
             "endlinecolor": "#2a3f5f",
             "gridcolor": "white",
             "linecolor": "white",
             "minorgridcolor": "white",
             "startlinecolor": "#2a3f5f"
            },
            "baxis": {
             "endlinecolor": "#2a3f5f",
             "gridcolor": "white",
             "linecolor": "white",
             "minorgridcolor": "white",
             "startlinecolor": "#2a3f5f"
            },
            "type": "carpet"
           }
          ],
          "choropleth": [
           {
            "colorbar": {
             "outlinewidth": 0,
             "ticks": ""
            },
            "type": "choropleth"
           }
          ],
          "contour": [
           {
            "colorbar": {
             "outlinewidth": 0,
             "ticks": ""
            },
            "colorscale": [
             [
              0,
              "#0d0887"
             ],
             [
              0.1111111111111111,
              "#46039f"
             ],
             [
              0.2222222222222222,
              "#7201a8"
             ],
             [
              0.3333333333333333,
              "#9c179e"
             ],
             [
              0.4444444444444444,
              "#bd3786"
             ],
             [
              0.5555555555555556,
              "#d8576b"
             ],
             [
              0.6666666666666666,
              "#ed7953"
             ],
             [
              0.7777777777777778,
              "#fb9f3a"
             ],
             [
              0.8888888888888888,
              "#fdca26"
             ],
             [
              1,
              "#f0f921"
             ]
            ],
            "type": "contour"
           }
          ],
          "contourcarpet": [
           {
            "colorbar": {
             "outlinewidth": 0,
             "ticks": ""
            },
            "type": "contourcarpet"
           }
          ],
          "heatmap": [
           {
            "colorbar": {
             "outlinewidth": 0,
             "ticks": ""
            },
            "colorscale": [
             [
              0,
              "#0d0887"
             ],
             [
              0.1111111111111111,
              "#46039f"
             ],
             [
              0.2222222222222222,
              "#7201a8"
             ],
             [
              0.3333333333333333,
              "#9c179e"
             ],
             [
              0.4444444444444444,
              "#bd3786"
             ],
             [
              0.5555555555555556,
              "#d8576b"
             ],
             [
              0.6666666666666666,
              "#ed7953"
             ],
             [
              0.7777777777777778,
              "#fb9f3a"
             ],
             [
              0.8888888888888888,
              "#fdca26"
             ],
             [
              1,
              "#f0f921"
             ]
            ],
            "type": "heatmap"
           }
          ],
          "histogram": [
           {
            "marker": {
             "pattern": {
              "fillmode": "overlay",
              "size": 10,
              "solidity": 0.2
             }
            },
            "type": "histogram"
           }
          ],
          "histogram2d": [
           {
            "colorbar": {
             "outlinewidth": 0,
             "ticks": ""
            },
            "colorscale": [
             [
              0,
              "#0d0887"
             ],
             [
              0.1111111111111111,
              "#46039f"
             ],
             [
              0.2222222222222222,
              "#7201a8"
             ],
             [
              0.3333333333333333,
              "#9c179e"
             ],
             [
              0.4444444444444444,
              "#bd3786"
             ],
             [
              0.5555555555555556,
              "#d8576b"
             ],
             [
              0.6666666666666666,
              "#ed7953"
             ],
             [
              0.7777777777777778,
              "#fb9f3a"
             ],
             [
              0.8888888888888888,
              "#fdca26"
             ],
             [
              1,
              "#f0f921"
             ]
            ],
            "type": "histogram2d"
           }
          ],
          "histogram2dcontour": [
           {
            "colorbar": {
             "outlinewidth": 0,
             "ticks": ""
            },
            "colorscale": [
             [
              0,
              "#0d0887"
             ],
             [
              0.1111111111111111,
              "#46039f"
             ],
             [
              0.2222222222222222,
              "#7201a8"
             ],
             [
              0.3333333333333333,
              "#9c179e"
             ],
             [
              0.4444444444444444,
              "#bd3786"
             ],
             [
              0.5555555555555556,
              "#d8576b"
             ],
             [
              0.6666666666666666,
              "#ed7953"
             ],
             [
              0.7777777777777778,
              "#fb9f3a"
             ],
             [
              0.8888888888888888,
              "#fdca26"
             ],
             [
              1,
              "#f0f921"
             ]
            ],
            "type": "histogram2dcontour"
           }
          ],
          "mesh3d": [
           {
            "colorbar": {
             "outlinewidth": 0,
             "ticks": ""
            },
            "type": "mesh3d"
           }
          ],
          "parcoords": [
           {
            "line": {
             "colorbar": {
              "outlinewidth": 0,
              "ticks": ""
             }
            },
            "type": "parcoords"
           }
          ],
          "pie": [
           {
            "automargin": true,
            "type": "pie"
           }
          ],
          "scatter": [
           {
            "fillpattern": {
             "fillmode": "overlay",
             "size": 10,
             "solidity": 0.2
            },
            "type": "scatter"
           }
          ],
          "scatter3d": [
           {
            "line": {
             "colorbar": {
              "outlinewidth": 0,
              "ticks": ""
             }
            },
            "marker": {
             "colorbar": {
              "outlinewidth": 0,
              "ticks": ""
             }
            },
            "type": "scatter3d"
           }
          ],
          "scattercarpet": [
           {
            "marker": {
             "colorbar": {
              "outlinewidth": 0,
              "ticks": ""
             }
            },
            "type": "scattercarpet"
           }
          ],
          "scattergeo": [
           {
            "marker": {
             "colorbar": {
              "outlinewidth": 0,
              "ticks": ""
             }
            },
            "type": "scattergeo"
           }
          ],
          "scattergl": [
           {
            "marker": {
             "colorbar": {
              "outlinewidth": 0,
              "ticks": ""
             }
            },
            "type": "scattergl"
           }
          ],
          "scattermap": [
           {
            "marker": {
             "colorbar": {
              "outlinewidth": 0,
              "ticks": ""
             }
            },
            "type": "scattermap"
           }
          ],
          "scattermapbox": [
           {
            "marker": {
             "colorbar": {
              "outlinewidth": 0,
              "ticks": ""
             }
            },
            "type": "scattermapbox"
           }
          ],
          "scatterpolar": [
           {
            "marker": {
             "colorbar": {
              "outlinewidth": 0,
              "ticks": ""
             }
            },
            "type": "scatterpolar"
           }
          ],
          "scatterpolargl": [
           {
            "marker": {
             "colorbar": {
              "outlinewidth": 0,
              "ticks": ""
             }
            },
            "type": "scatterpolargl"
           }
          ],
          "scatterternary": [
           {
            "marker": {
             "colorbar": {
              "outlinewidth": 0,
              "ticks": ""
             }
            },
            "type": "scatterternary"
           }
          ],
          "surface": [
           {
            "colorbar": {
             "outlinewidth": 0,
             "ticks": ""
            },
            "colorscale": [
             [
              0,
              "#0d0887"
             ],
             [
              0.1111111111111111,
              "#46039f"
             ],
             [
              0.2222222222222222,
              "#7201a8"
             ],
             [
              0.3333333333333333,
              "#9c179e"
             ],
             [
              0.4444444444444444,
              "#bd3786"
             ],
             [
              0.5555555555555556,
              "#d8576b"
             ],
             [
              0.6666666666666666,
              "#ed7953"
             ],
             [
              0.7777777777777778,
              "#fb9f3a"
             ],
             [
              0.8888888888888888,
              "#fdca26"
             ],
             [
              1,
              "#f0f921"
             ]
            ],
            "type": "surface"
           }
          ],
          "table": [
           {
            "cells": {
             "fill": {
              "color": "#EBF0F8"
             },
             "line": {
              "color": "white"
             }
            },
            "header": {
             "fill": {
              "color": "#C8D4E3"
             },
             "line": {
              "color": "white"
             }
            },
            "type": "table"
           }
          ]
         },
         "layout": {
          "annotationdefaults": {
           "arrowcolor": "#2a3f5f",
           "arrowhead": 0,
           "arrowwidth": 1
          },
          "autotypenumbers": "strict",
          "coloraxis": {
           "colorbar": {
            "outlinewidth": 0,
            "ticks": ""
           }
          },
          "colorscale": {
           "diverging": [
            [
             0,
             "#8e0152"
            ],
            [
             0.1,
             "#c51b7d"
            ],
            [
             0.2,
             "#de77ae"
            ],
            [
             0.3,
             "#f1b6da"
            ],
            [
             0.4,
             "#fde0ef"
            ],
            [
             0.5,
             "#f7f7f7"
            ],
            [
             0.6,
             "#e6f5d0"
            ],
            [
             0.7,
             "#b8e186"
            ],
            [
             0.8,
             "#7fbc41"
            ],
            [
             0.9,
             "#4d9221"
            ],
            [
             1,
             "#276419"
            ]
           ],
           "sequential": [
            [
             0,
             "#0d0887"
            ],
            [
             0.1111111111111111,
             "#46039f"
            ],
            [
             0.2222222222222222,
             "#7201a8"
            ],
            [
             0.3333333333333333,
             "#9c179e"
            ],
            [
             0.4444444444444444,
             "#bd3786"
            ],
            [
             0.5555555555555556,
             "#d8576b"
            ],
            [
             0.6666666666666666,
             "#ed7953"
            ],
            [
             0.7777777777777778,
             "#fb9f3a"
            ],
            [
             0.8888888888888888,
             "#fdca26"
            ],
            [
             1,
             "#f0f921"
            ]
           ],
           "sequentialminus": [
            [
             0,
             "#0d0887"
            ],
            [
             0.1111111111111111,
             "#46039f"
            ],
            [
             0.2222222222222222,
             "#7201a8"
            ],
            [
             0.3333333333333333,
             "#9c179e"
            ],
            [
             0.4444444444444444,
             "#bd3786"
            ],
            [
             0.5555555555555556,
             "#d8576b"
            ],
            [
             0.6666666666666666,
             "#ed7953"
            ],
            [
             0.7777777777777778,
             "#fb9f3a"
            ],
            [
             0.8888888888888888,
             "#fdca26"
            ],
            [
             1,
             "#f0f921"
            ]
           ]
          },
          "colorway": [
           "#636efa",
           "#EF553B",
           "#00cc96",
           "#ab63fa",
           "#FFA15A",
           "#19d3f3",
           "#FF6692",
           "#B6E880",
           "#FF97FF",
           "#FECB52"
          ],
          "font": {
           "color": "#2a3f5f"
          },
          "geo": {
           "bgcolor": "white",
           "lakecolor": "white",
           "landcolor": "#E5ECF6",
           "showlakes": true,
           "showland": true,
           "subunitcolor": "white"
          },
          "hoverlabel": {
           "align": "left"
          },
          "hovermode": "closest",
          "mapbox": {
           "style": "light"
          },
          "paper_bgcolor": "white",
          "plot_bgcolor": "#E5ECF6",
          "polar": {
           "angularaxis": {
            "gridcolor": "white",
            "linecolor": "white",
            "ticks": ""
           },
           "bgcolor": "#E5ECF6",
           "radialaxis": {
            "gridcolor": "white",
            "linecolor": "white",
            "ticks": ""
           }
          },
          "scene": {
           "xaxis": {
            "backgroundcolor": "#E5ECF6",
            "gridcolor": "white",
            "gridwidth": 2,
            "linecolor": "white",
            "showbackground": true,
            "ticks": "",
            "zerolinecolor": "white"
           },
           "yaxis": {
            "backgroundcolor": "#E5ECF6",
            "gridcolor": "white",
            "gridwidth": 2,
            "linecolor": "white",
            "showbackground": true,
            "ticks": "",
            "zerolinecolor": "white"
           },
           "zaxis": {
            "backgroundcolor": "#E5ECF6",
            "gridcolor": "white",
            "gridwidth": 2,
            "linecolor": "white",
            "showbackground": true,
            "ticks": "",
            "zerolinecolor": "white"
           }
          },
          "shapedefaults": {
           "line": {
            "color": "#2a3f5f"
           }
          },
          "ternary": {
           "aaxis": {
            "gridcolor": "white",
            "linecolor": "white",
            "ticks": ""
           },
           "baxis": {
            "gridcolor": "white",
            "linecolor": "white",
            "ticks": ""
           },
           "bgcolor": "#E5ECF6",
           "caxis": {
            "gridcolor": "white",
            "linecolor": "white",
            "ticks": ""
           }
          },
          "title": {
           "x": 0.05
          },
          "xaxis": {
           "automargin": true,
           "gridcolor": "white",
           "linecolor": "white",
           "ticks": "",
           "title": {
            "standoff": 15
           },
           "zerolinecolor": "white",
           "zerolinewidth": 2
          },
          "yaxis": {
           "automargin": true,
           "gridcolor": "white",
           "linecolor": "white",
           "ticks": "",
           "title": {
            "standoff": 15
           },
           "zerolinecolor": "white",
           "zerolinewidth": 2
          }
         }
        },
        "title": {
         "font": {
          "color": "black",
          "family": "Arial",
          "size": 24
         },
         "text": "Comparación de productos exportados según valor agregado nacional"
        },
        "xaxis": {
         "anchor": "y",
         "categoryarray": [
          "Con valor agregado nacional (AGRENA > 0)",
          "Sin valor agregado nacional (AGRENA = 0)"
         ],
         "categoryorder": "array",
         "domain": [
          0,
          1
         ],
         "tickfont": {
          "size": 12
         },
         "title": {
          "text": ""
         }
        },
        "yaxis": {
         "anchor": "x",
         "domain": [
          0,
          1
         ],
         "tickfont": {
          "size": 12
         },
         "title": {
          "text": "Número de registros"
         }
        }
       }
      }
     },
     "metadata": {},
     "output_type": "display_data"
    }
   ],
   "source": [
    "data = pd.DataFrame({\n",
    "    \"Tipo de producto\": [\n",
    "        \"Con valor agregado nacional (AGRENA > 0)\",\n",
    "        \"Sin valor agregado nacional (AGRENA = 0)\"\n",
    "    ],\n",
    "    \"Cantidad de productos\": [572_801, 693_428]\n",
    "})\n",
    "\n",
    "\n",
    "fig = px.bar(\n",
    "    data,\n",
    "    x=\"Tipo de producto\",\n",
    "    y=\"Cantidad de productos\",\n",
    "    text=\"Cantidad de productos\",\n",
    "    color=\"Tipo de producto\",\n",
    "    title=\"Comparación de productos exportados según valor agregado nacional\"\n",
    ")\n",
    "fig.update_layout(\n",
    "    yaxis_title=\"Número de registros\",\n",
    "    xaxis_title=\"\",\n",
    "    title_font=dict(size=24, family=\"Arial\", color=\"black\"),\n",
    "    xaxis_tickfont=dict(size=12),\n",
    "    yaxis_tickfont=dict(size=12),\n",
    "    plot_bgcolor=\"white\",\n",
    "    paper_bgcolor=\"white\",\n",
    "    showlegend=False\n",
    ")\n",
    "\n",
    "fig.show()"
   ]
  },
  {
   "cell_type": "markdown",
   "id": "3bfafc24",
   "metadata": {},
   "source": [
    "### Conclusiones finales:\n",
    "\n",
    "Hay más productos exportados sin aporte nacional directo (AGRENA = 0 → 693,428 filas), lo cual sugiere un volumen alto de reexportación o productos de bajo procesamiento local.\n",
    "\n",
    "En contraste, solo 572,801 productos tienen algún grado de valor agregado nacional (AGRENA > 0), lo que indica espacio para mejorar la sofisticación de la oferta exportable."
   ]
  },
  {
   "cell_type": "markdown",
   "id": "84b5c3f1",
   "metadata": {},
   "source": [
    "### Precios unitarios - FOBDOL/CANTIDA por producto"
   ]
  },
  {
   "cell_type": "code",
   "execution_count": 13,
   "id": "ded6b871",
   "metadata": {},
   "outputs": [],
   "source": [
    "precios_unit = (df.group_by(\"POSARA\").agg([\n",
    "    pl.col(\"FOBDOL\").sum(),\n",
    "    pl.col(\"CANTIDAD\").sum()\n",
    "]).with_columns(\n",
    "    (pl.col(\"FOBDOL\") / pl.col(\"CANTIDAD\")).alias(\"precio_unitario\")\n",
    ").sort(\"precio_unitario\", descending=True))"
   ]
  },
  {
   "cell_type": "code",
   "execution_count": 15,
   "id": "6fcfd405",
   "metadata": {},
   "outputs": [
    {
     "data": {
      "text/html": [
       "<div><style>\n",
       ".dataframe > thead > tr,\n",
       ".dataframe > tbody > tr {\n",
       "  text-align: right;\n",
       "  white-space: pre-wrap;\n",
       "}\n",
       "</style>\n",
       "<small>shape: (8_617, 4)</small><table border=\"1\" class=\"dataframe\"><thead><tr><th>POSARA</th><th>FOBDOL</th><th>CANTIDAD</th><th>precio_unitario</th></tr><tr><td>i64</td><td>f64</td><td>f64</td><td>f64</td></tr></thead><tbody><tr><td>4811519090</td><td>35097.1</td><td>0.0</td><td>inf</td></tr><tr><td>3906909090</td><td>6.7950e6</td><td>0.0</td><td>inf</td></tr><tr><td>3004201090</td><td>1.2325e7</td><td>0.0</td><td>inf</td></tr><tr><td>703200000</td><td>26791.5</td><td>0.0</td><td>inf</td></tr><tr><td>4823903000</td><td>1.2288e6</td><td>0.0</td><td>inf</td></tr><tr><td>&hellip;</td><td>&hellip;</td><td>&hellip;</td><td>&hellip;</td></tr><tr><td>3824820000</td><td>1071.06</td><td>971287.84</td><td>0.001103</td></tr><tr><td>5208220000</td><td>5.6135e6</td><td>5.2119e9</td><td>0.001077</td></tr><tr><td>8305200000</td><td>2.7731e7</td><td>5.9994e10</td><td>0.000462</td></tr><tr><td>4421992000</td><td>25719.5</td><td>5.8435822e7</td><td>0.00044</td></tr><tr><td>8714921000</td><td>560490.88</td><td>8.7150e9</td><td>0.000064</td></tr></tbody></table></div>"
      ],
      "text/plain": [
       "shape: (8_617, 4)\n",
       "┌────────────┬───────────┬─────────────┬─────────────────┐\n",
       "│ POSARA     ┆ FOBDOL    ┆ CANTIDAD    ┆ precio_unitario │\n",
       "│ ---        ┆ ---       ┆ ---         ┆ ---             │\n",
       "│ i64        ┆ f64       ┆ f64         ┆ f64             │\n",
       "╞════════════╪═══════════╪═════════════╪═════════════════╡\n",
       "│ 4811519090 ┆ 35097.1   ┆ 0.0         ┆ inf             │\n",
       "│ 3906909090 ┆ 6.7950e6  ┆ 0.0         ┆ inf             │\n",
       "│ 3004201090 ┆ 1.2325e7  ┆ 0.0         ┆ inf             │\n",
       "│ 703200000  ┆ 26791.5   ┆ 0.0         ┆ inf             │\n",
       "│ 4823903000 ┆ 1.2288e6  ┆ 0.0         ┆ inf             │\n",
       "│ …          ┆ …         ┆ …           ┆ …               │\n",
       "│ 3824820000 ┆ 1071.06   ┆ 971287.84   ┆ 0.001103        │\n",
       "│ 5208220000 ┆ 5.6135e6  ┆ 5.2119e9    ┆ 0.001077        │\n",
       "│ 8305200000 ┆ 2.7731e7  ┆ 5.9994e10   ┆ 0.000462        │\n",
       "│ 4421992000 ┆ 25719.5   ┆ 5.8435822e7 ┆ 0.00044         │\n",
       "│ 8714921000 ┆ 560490.88 ┆ 8.7150e9    ┆ 0.000064        │\n",
       "└────────────┴───────────┴─────────────┴─────────────────┘"
      ]
     },
     "execution_count": 15,
     "metadata": {},
     "output_type": "execute_result"
    }
   ],
   "source": [
    "precios_unit"
   ]
  },
  {
   "cell_type": "markdown",
   "id": "f80f8995",
   "metadata": {},
   "source": [
    "### Concentración de productos - Índice Herfindahl"
   ]
  },
  {
   "cell_type": "code",
   "execution_count": 16,
   "id": "de6efbc4",
   "metadata": {},
   "outputs": [],
   "source": [
    "fob_productos = df.group_by(\"POSARA\").agg(pl.col(\"FOBDOL\").sum())\n",
    "total_fob_prod = fob_productos.select(pl.col(\"FOBDOL\").sum()).item()\n",
    "\n",
    "hhi_productos = (fob_productos.with_columns(\n",
    "    (pl.col(\"FOBDOL\") / total_fob_prod).alias(\"participacion\")\n",
    ").with_columns(\n",
    "    (pl.col(\"participacion\") ** 2).alias(\"participacion_cuadrada\")\n",
    ").select(pl.col(\"participacion_cuadrada\").sum())).item()"
   ]
  },
  {
   "cell_type": "code",
   "execution_count": 17,
   "id": "280e306d",
   "metadata": {},
   "outputs": [
    {
     "data": {
      "text/plain": [
       "0.12490095172142265"
      ]
     },
     "execution_count": 17,
     "metadata": {},
     "output_type": "execute_result"
    }
   ],
   "source": [
    "hhi_productos"
   ]
  },
  {
   "cell_type": "markdown",
   "id": "ee3e55ad",
   "metadata": {},
   "source": [
    "### Productos de alto valor agregado (AGRENA/FOBDOL > 0.7)"
   ]
  },
  {
   "cell_type": "code",
   "execution_count": 59,
   "id": "085a3cb0",
   "metadata": {},
   "outputs": [],
   "source": [
    "sofisticacion = (df.group_by(\"POSARA\").agg([\n",
    "    pl.col(\"AGRENA\").sum(),\n",
    "    pl.col(\"FOBDOL\").sum()\n",
    "]).with_columns(\n",
    "    (pl.col(\"AGRENA\") / pl.col(\"FOBDOL\")).alias(\"ratio_ag_fob\")\n",
    ").sort(\"ratio_ag_fob\", descending=True))\n",
    "\n",
    "alto_valor = sofisticacion.filter(pl.col(\"ratio_ag_fob\") > 0.7)"
   ]
  },
  {
   "cell_type": "code",
   "execution_count": 60,
   "id": "05b8a80b",
   "metadata": {},
   "outputs": [
    {
     "data": {
      "text/html": [
       "<div><style>\n",
       ".dataframe > thead > tr,\n",
       ".dataframe > tbody > tr {\n",
       "  text-align: right;\n",
       "  white-space: pre-wrap;\n",
       "}\n",
       "</style>\n",
       "<small>shape: (201, 4)</small><table border=\"1\" class=\"dataframe\"><thead><tr><th>POSARA</th><th>AGRENA</th><th>FOBDOL</th><th>ratio_ag_fob</th></tr><tr><td>i64</td><td>f64</td><td>f64</td><td>f64</td></tr></thead><tbody><tr><td>4802550010</td><td>68055.51</td><td>68397.5</td><td>0.995</td></tr><tr><td>2941104000</td><td>74561.11</td><td>75032.26</td><td>0.993721</td></tr><tr><td>2918153000</td><td>1.1389e8</td><td>1.1699e8</td><td>0.973513</td></tr><tr><td>2918140000</td><td>5.7918e8</td><td>5.9627e8</td><td>0.971337</td></tr><tr><td>4011100000</td><td>9.9407e6</td><td>1.0277e7</td><td>0.967304</td></tr><tr><td>&hellip;</td><td>&hellip;</td><td>&hellip;</td><td>&hellip;</td></tr><tr><td>7002320000</td><td>144603.99</td><td>204739.65</td><td>0.706282</td></tr><tr><td>5514303000</td><td>491319.09</td><td>697115.87</td><td>0.704788</td></tr><tr><td>2106902090</td><td>4.9446e6</td><td>7.0215e6</td><td>0.704217</td></tr><tr><td>3004391010</td><td>63740.76</td><td>90724.72</td><td>0.702573</td></tr><tr><td>404109000</td><td>2.7417e6</td><td>3.9069e6</td><td>0.701763</td></tr></tbody></table></div>"
      ],
      "text/plain": [
       "shape: (201, 4)\n",
       "┌────────────┬───────────┬───────────┬──────────────┐\n",
       "│ POSARA     ┆ AGRENA    ┆ FOBDOL    ┆ ratio_ag_fob │\n",
       "│ ---        ┆ ---       ┆ ---       ┆ ---          │\n",
       "│ i64        ┆ f64       ┆ f64       ┆ f64          │\n",
       "╞════════════╪═══════════╪═══════════╪══════════════╡\n",
       "│ 4802550010 ┆ 68055.51  ┆ 68397.5   ┆ 0.995        │\n",
       "│ 2941104000 ┆ 74561.11  ┆ 75032.26  ┆ 0.993721     │\n",
       "│ 2918153000 ┆ 1.1389e8  ┆ 1.1699e8  ┆ 0.973513     │\n",
       "│ 2918140000 ┆ 5.7918e8  ┆ 5.9627e8  ┆ 0.971337     │\n",
       "│ 4011100000 ┆ 9.9407e6  ┆ 1.0277e7  ┆ 0.967304     │\n",
       "│ …          ┆ …         ┆ …         ┆ …            │\n",
       "│ 7002320000 ┆ 144603.99 ┆ 204739.65 ┆ 0.706282     │\n",
       "│ 5514303000 ┆ 491319.09 ┆ 697115.87 ┆ 0.704788     │\n",
       "│ 2106902090 ┆ 4.9446e6  ┆ 7.0215e6  ┆ 0.704217     │\n",
       "│ 3004391010 ┆ 63740.76  ┆ 90724.72  ┆ 0.702573     │\n",
       "│ 404109000  ┆ 2.7417e6  ┆ 3.9069e6  ┆ 0.701763     │\n",
       "└────────────┴───────────┴───────────┴──────────────┘"
      ]
     },
     "execution_count": 60,
     "metadata": {},
     "output_type": "execute_result"
    }
   ],
   "source": [
    "alto_valor"
   ]
  }
 ],
 "metadata": {
  "kernelspec": {
   "display_name": ".env",
   "language": "python",
   "name": "python3"
  },
  "language_info": {
   "codemirror_mode": {
    "name": "ipython",
    "version": 3
   },
   "file_extension": ".py",
   "mimetype": "text/x-python",
   "name": "python",
   "nbconvert_exporter": "python",
   "pygments_lexer": "ipython3",
   "version": "3.13.0"
  }
 },
 "nbformat": 4,
 "nbformat_minor": 5
}
